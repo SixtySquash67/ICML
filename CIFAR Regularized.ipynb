{
 "cells": [
  {
   "cell_type": "code",
   "execution_count": 1,
   "id": "243bfccd",
   "metadata": {},
   "outputs": [
    {
     "name": "stdout",
     "output_type": "stream",
     "text": [
      "GPUs Available:  1\n"
     ]
    },
    {
     "ename": "ModuleNotFoundError",
     "evalue": "No module named 'numba'",
     "output_type": "error",
     "traceback": [
      "\u001b[1;31m---------------------------------------------------------------------------\u001b[0m",
      "\u001b[1;31mModuleNotFoundError\u001b[0m                       Traceback (most recent call last)",
      "Cell \u001b[1;32mIn[1], line 7\u001b[0m\n\u001b[0;32m      5\u001b[0m tf\u001b[39m.\u001b[39mconfig\u001b[39m.\u001b[39mexperimental\u001b[39m.\u001b[39mset_memory_growth(gpu[\u001b[39m0\u001b[39m], \u001b[39mTrue\u001b[39;00m)\n\u001b[0;32m      6\u001b[0m \u001b[39mimport\u001b[39;00m \u001b[39mos\u001b[39;00m\n\u001b[1;32m----> 7\u001b[0m \u001b[39mfrom\u001b[39;00m \u001b[39mnumba\u001b[39;00m \u001b[39mimport\u001b[39;00m jit\n\u001b[0;32m      8\u001b[0m \u001b[39mfrom\u001b[39;00m \u001b[39mkeras\u001b[39;00m\u001b[39m.\u001b[39;00m\u001b[39mdatasets\u001b[39;00m \u001b[39mimport\u001b[39;00m cifar10\n\u001b[0;32m      9\u001b[0m \u001b[39mfrom\u001b[39;00m \u001b[39mkeras\u001b[39;00m\u001b[39m.\u001b[39;00m\u001b[39mmodels\u001b[39;00m \u001b[39mimport\u001b[39;00m Model\n",
      "\u001b[1;31mModuleNotFoundError\u001b[0m: No module named 'numba'"
     ]
    },
    {
     "ename": "",
     "evalue": "",
     "output_type": "error",
     "traceback": [
      "\u001b[1;31mThe Kernel crashed while executing code in the the current cell or a previous cell. Please review the code in the cell(s) to identify a possible cause of the failure. Click <a href='https://aka.ms/vscodeJupyterKernelCrash'>here</a> for more info. View Jupyter <a href='command:jupyter.viewOutput'>log</a> for further details."
     ]
    }
   ],
   "source": [
    "import tensorflow as tf\n",
    "from tensorflow.keras import regularizers\n",
    "gpu = tf.config.experimental.list_physical_devices('GPU')\n",
    "print(\"GPUs Available: \", len(gpu))\n",
    "tf.config.experimental.set_memory_growth(gpu[0], True)\n",
    "import os\n",
    "from numba import jit\n",
    "from keras.datasets import cifar10\n",
    "from keras.models import Model\n",
    "from keras.layers import Input\n",
    "from keras import applications\n",
    "from keras import layers\n",
    "from keras import models\n",
    "from keras import utils\n",
    "from keras import optimizers\n",
    "from keras.callbacks import ModelCheckpoint, EarlyStopping\n",
    "from keras.applications.vgg16 import VGG16\n",
    "from keras.utils import to_categorical\n",
    "from sklearn.model_selection import train_test_split\n",
    "from sklearn import datasets\n",
    "from sklearn.svm import LinearSVC\n",
    "from sklearn.preprocessing import MinMaxScaler\n",
    "from matplotlib import pyplot as plt\n",
    "import numpy as np\n",
    "from PIL import Image\n",
    "import cv2\n",
    "from cv2 import dnn_superres\n",
    "import wandb\n",
    "from wandb.keras import WandbMetricsLogger, WandbModelCheckpoint, WandbCallback\n",
    "wandb.login()\n",
    "import random"
   ]
  },
  {
   "cell_type": "code",
   "execution_count": 2,
   "id": "5ae451f9",
   "metadata": {},
   "outputs": [
    {
     "name": "stdout",
     "output_type": "stream",
     "text": [
      "Model: \"vgg16\"\n",
      "_________________________________________________________________\n",
      " Layer (type)                Output Shape              Param #   \n",
      "=================================================================\n",
      " input_2 (InputLayer)        [(None, 32, 32, 3)]       0         \n",
      "                                                                 \n",
      " block1_conv1 (Conv2D)       (None, 32, 32, 64)        1792      \n",
      "                                                                 \n",
      " block1_conv2 (Conv2D)       (None, 32, 32, 64)        36928     \n",
      "                                                                 \n",
      " block1_pool (MaxPooling2D)  (None, 16, 16, 64)        0         \n",
      "                                                                 \n",
      " block2_conv1 (Conv2D)       (None, 16, 16, 128)       73856     \n",
      "                                                                 \n",
      " block2_conv2 (Conv2D)       (None, 16, 16, 128)       147584    \n",
      "                                                                 \n",
      " block2_pool (MaxPooling2D)  (None, 8, 8, 128)         0         \n",
      "                                                                 \n",
      " block3_conv1 (Conv2D)       (None, 8, 8, 256)         295168    \n",
      "                                                                 \n",
      " block3_conv2 (Conv2D)       (None, 8, 8, 256)         590080    \n",
      "                                                                 \n",
      " block3_conv3 (Conv2D)       (None, 8, 8, 256)         590080    \n",
      "                                                                 \n",
      " block3_pool (MaxPooling2D)  (None, 4, 4, 256)         0         \n",
      "                                                                 \n",
      " block4_conv1 (Conv2D)       (None, 4, 4, 512)         1180160   \n",
      "                                                                 \n",
      " block4_conv2 (Conv2D)       (None, 4, 4, 512)         2359808   \n",
      "                                                                 \n",
      " block4_conv3 (Conv2D)       (None, 4, 4, 512)         2359808   \n",
      "                                                                 \n",
      " block4_pool (MaxPooling2D)  (None, 2, 2, 512)         0         \n",
      "                                                                 \n",
      " block5_conv1 (Conv2D)       (None, 2, 2, 512)         2359808   \n",
      "                                                                 \n",
      " block5_conv2 (Conv2D)       (None, 2, 2, 512)         2359808   \n",
      "                                                                 \n",
      " block5_conv3 (Conv2D)       (None, 2, 2, 512)         2359808   \n",
      "                                                                 \n",
      " block5_pool (MaxPooling2D)  (None, 1, 1, 512)         0         \n",
      "                                                                 \n",
      "=================================================================\n",
      "Total params: 14,714,688\n",
      "Trainable params: 14,714,688\n",
      "Non-trainable params: 0\n",
      "_________________________________________________________________\n",
      "CPU times: total: 844 ms\n",
      "Wall time: 888 ms\n"
     ]
    }
   ],
   "source": [
    "%%time\n",
    "inputTensor = Input(shape= (32,32,3))\n",
    "#up2d = layers.UpSampling2D((7,7))(inputTensor)\n",
    "res = 32\n",
    "imgnet = applications.VGG16(weights = \"imagenet\", include_top=False, input_shape = (res, res, 3))#, input_tensor = up2d)\n",
    "imgnet.summary()"
   ]
  },
  {
   "cell_type": "code",
   "execution_count": 3,
   "id": "c51b0b5e",
   "metadata": {},
   "outputs": [
    {
     "name": "stdout",
     "output_type": "stream",
     "text": [
      "CPU times: total: 594 ms\n",
      "Wall time: 599 ms\n"
     ]
    },
    {
     "data": {
      "text/plain": [
       "(10000, 1)"
      ]
     },
     "execution_count": 3,
     "metadata": {},
     "output_type": "execute_result"
    }
   ],
   "source": [
    "%%time\n",
    "(x_train, y_train), (x_test, y_test) = cifar10.load_data()\n",
    "y_test.shape"
   ]
  },
  {
   "cell_type": "code",
   "execution_count": 4,
   "id": "24e1203e",
   "metadata": {},
   "outputs": [
    {
     "name": "stdout",
     "output_type": "stream",
     "text": [
      "CPU times: total: 0 ns\n",
      "Wall time: 966 µs\n"
     ]
    },
    {
     "data": {
      "text/plain": [
       "(10000, 10)"
      ]
     },
     "execution_count": 4,
     "metadata": {},
     "output_type": "execute_result"
    }
   ],
   "source": [
    "%%time\n",
    "y_train = to_categorical(y_train, dtype='int')\n",
    "y_test = to_categorical(y_test, dtype='int')\n",
    "y_test.shape\n",
    "\n",
    "#x_train = x_train.astype('float32') / 255\n",
    "#x_test = x_test.astype('float32') / 255"
   ]
  },
  {
   "cell_type": "code",
   "execution_count": 5,
   "id": "76b1a1f3",
   "metadata": {},
   "outputs": [],
   "source": [
    "#%%time\n",
    "#train_size = 25000\n",
    "#test_size = 5000\n",
    "#X_train = X_train[-train_size:]\n",
    "#y_train = y_train[-train_size:]\n",
    "\n",
    "#X_test = X_test[-test_size:]\n",
    "#y_test = y_test[-test_size:]\n",
    "#X_train.shape"
   ]
  },
  {
   "cell_type": "code",
   "execution_count": 6,
   "id": "e4e45ea6",
   "metadata": {},
   "outputs": [
    {
     "data": {
      "text/plain": [
       "<matplotlib.image.AxesImage at 0x17ad6e11600>"
      ]
     },
     "execution_count": 6,
     "metadata": {},
     "output_type": "execute_result"
    },
    {
     "data": {
      "image/png": "[encoded data removed]",
      "text/plain": [
       "<Figure size 432x288 with 1 Axes>"
      ]
     },
     "metadata": {
      "needs_background": "light"
     },
     "output_type": "display_data"
    }
   ],
   "source": [
    "#%%time\n",
    "#sr = cv2.dnn_superres.DnnSuperResImpl_create()\n",
    "#path = \"EDSR_x4.pb\"\n",
    "#sr.readModel(path)\n",
    "#sr.setModel(\"edsr\",4)\n",
    "#x_train = np.ndarray([train_size, res, res, 3])\n",
    "#x_test = np.ndarray([test_size, res, res, 3])\n",
    "#print(\"start\")\n",
    "\n",
    "#for i in range(0,test_size):\n",
    "    #print(i)\n",
    "#    x_test[i] = sr.upsample(X_test[i])\n",
    "#    x_train[i] = sr.upsample(X_train[i])\n",
    "#    x_test[i] = cv2.resize(X_test[i],(res,res),interpolation = cv2.INTER_CUBIC)\n",
    "#    x_train[i] = cv2.resize(X_train[i],(res,res),interpolation = cv2.INTER_CUBIC)\n",
    "#print(\"1/6\")\n",
    "#for i in range(test_size,train_size):\n",
    "    #print(i)\n",
    "#    x_train[i] = sr.upsample(X_train[i])\n",
    "    #x_train[i] = cv2.resize(X_train[i],(res,res),interpolation = cv2.INTER_CUBIC)\n",
    "#print(\"finish\")\n",
    "\n",
    "#np.save('x_train', x_train)\n",
    "#np.save('x_test', x_test)\n",
    "#x_train = np.load('x_train.npy')\n",
    "#x_test = np.load('x_test.npy')\n",
    "plt.imshow(x_test[8].astype(int))\n"
   ]
  },
  {
   "cell_type": "code",
   "execution_count": 7,
   "id": "a195e5a0-dcce-4ba4-986e-e9ec39f1db6b",
   "metadata": {},
   "outputs": [
    {
     "data": {
      "text/html": [
       "wandb version 0.13.11 is available!  To upgrade, please run:\n",
       " $ pip install wandb --upgrade"
      ],
      "text/plain": [
       "<IPython.core.display.HTML object>"
      ]
     },
     "metadata": {},
     "output_type": "display_data"
    },
    {
     "data": {
      "text/html": [
       "Tracking run with wandb version 0.13.10"
      ],
      "text/plain": [
       "<IPython.core.display.HTML object>"
      ]
     },
     "metadata": {},
     "output_type": "display_data"
    },
    {
     "data": {
      "text/html": [
       "Run data is saved locally in <code>c:\\Users\\mathe\\IC (Machine Learning)\\wandb\\run-20230309_101455-1u5t6qa0</code>"
      ],
      "text/plain": [
       "<IPython.core.display.HTML object>"
      ]
     },
     "metadata": {},
     "output_type": "display_data"
    },
    {
     "data": {
      "text/html": [
       "Syncing run <strong><a href='https://wandb.ai/ai-research-unifesp/wandb-test/runs/1u5t6qa0' target=\"_blank\">cool-sun-152</a></strong> to <a href='https://wandb.ai/ai-research-unifesp/wandb-test' target=\"_blank\">Weights & Biases</a> (<a href='https://wandb.me/run' target=\"_blank\">docs</a>)<br/>"
      ],
      "text/plain": [
       "<IPython.core.display.HTML object>"
      ]
     },
     "metadata": {},
     "output_type": "display_data"
    },
    {
     "data": {
      "text/html": [
       " View project at <a href='https://wandb.ai/ai-research-unifesp/wandb-test' target=\"_blank\">https://wandb.ai/ai-research-unifesp/wandb-test</a>"
      ],
      "text/plain": [
       "<IPython.core.display.HTML object>"
      ]
     },
     "metadata": {},
     "output_type": "display_data"
    },
    {
     "data": {
      "text/html": [
       " View run at <a href='https://wandb.ai/ai-research-unifesp/wandb-test/runs/1u5t6qa0' target=\"_blank\">https://wandb.ai/ai-research-unifesp/wandb-test/runs/1u5t6qa0</a>"
      ],
      "text/plain": [
       "<IPython.core.display.HTML object>"
      ]
     },
     "metadata": {},
     "output_type": "display_data"
    },
    {
     "name": "stdout",
     "output_type": "stream",
     "text": [
      "Create sweep with ID: 8aesnhoo\n",
      "Sweep URL: https://wandb.ai/ai-research-unifesp/wandb-test/sweeps/8aesnhoo\n"
     ]
    }
   ],
   "source": [
    "wandb.init(\n",
    "    # set the wandb project where this run will be logged\n",
    "    project=\"wandb-test\",\n",
    "\n",
    "    # track hyperparameters and run metadata with wandb.config\n",
    "    config={\n",
    "        \"layer_1\": 512,\n",
    "        \"activation_1\": \"relu\",\n",
    "        \"dropout\": 0.4,\n",
    "        \"layer_2\": 10,\n",
    "        \"activation_2\": \"softmax\",\n",
    "        \"optimizer\": \"optimizers.Adam(learning_rate = 0.000001)\",\n",
    "        \"loss\": \"categorical_crossentropy\",\n",
    "        \"metric\": \"accuracy\",\n",
    "        \"epoch\": 15,\n",
    "        \"batch_size\": 128\n",
    "    }\n",
    ")\n",
    "sweep_config = {\n",
    "    'method' : 'grid'\n",
    "}\n",
    "metric = {\n",
    "    'name' : 'val_accuracy',\n",
    "    'goal' : 'maximize'\n",
    "}\n",
    "sweep_config['metric'] = metric\n",
    "parameters_dict = {\n",
    "    'optimizer' : {\n",
    "        'values' : ['adam','sgd']\n",
    "    },\n",
    "    'layer_1' :{\n",
    "        'values' : [32,64,128,256,512]\n",
    "    },\n",
    "    'batch_size' : {\n",
    "        'values' : [16,32,64,128,256]\n",
    "    },\n",
    "    'dropout' : {\n",
    "        'values' : [0.2,0.5,0.8]\n",
    "    },\n",
    "    'activation_1' : {\n",
    "        'values' : ['softmax', 'relu']\n",
    "    },\n",
    "    'activation_2' : {\n",
    "        'values' : ['softmax', 'relu']\n",
    "    },\n",
    "    \n",
    "}\n",
    "sweep_config['parameters'] = parameters_dict\n",
    "sweep_id = wandb.sweep(sweep_config, project = \"wandb-test\")\n",
    "config = wandb.config"
   ]
  },
  {
   "cell_type": "code",
   "execution_count": 8,
   "id": "dcd261f4",
   "metadata": {},
   "outputs": [
    {
     "data": {
      "text/plain": [
       "'8aesnhoo'"
      ]
     },
     "execution_count": 8,
     "metadata": {},
     "output_type": "execute_result"
    }
   ],
   "source": [
    "sweep_id"
   ]
  },
  {
   "cell_type": "code",
   "execution_count": 9,
   "id": "80f02994",
   "metadata": {
    "scrolled": true
   },
   "outputs": [
    {
     "name": "stdout",
     "output_type": "stream",
     "text": [
      "Model: \"sequential\"\n",
      "_________________________________________________________________\n",
      " Layer (type)                Output Shape              Param #   \n",
      "=================================================================\n",
      " block1_conv1 (Conv2D)       (None, 32, 32, 64)        1792      \n",
      "                                                                 \n",
      " block1_conv2 (Conv2D)       (None, 32, 32, 64)        36928     \n",
      "                                                                 \n",
      " block1_pool (MaxPooling2D)  (None, 16, 16, 64)        0         \n",
      "                                                                 \n",
      " block2_conv1 (Conv2D)       (None, 16, 16, 128)       73856     \n",
      "                                                                 \n",
      " block2_conv2 (Conv2D)       (None, 16, 16, 128)       147584    \n",
      "                                                                 \n",
      " block2_pool (MaxPooling2D)  (None, 8, 8, 128)         0         \n",
      "                                                                 \n",
      " block3_conv1 (Conv2D)       (None, 8, 8, 256)         295168    \n",
      "                                                                 \n",
      " block3_conv2 (Conv2D)       (None, 8, 8, 256)         590080    \n",
      "                                                                 \n",
      " block3_conv3 (Conv2D)       (None, 8, 8, 256)         590080    \n",
      "                                                                 \n",
      " block3_pool (MaxPooling2D)  (None, 4, 4, 256)         0         \n",
      "                                                                 \n",
      " flatten (Flatten)           (None, 4096)              0         \n",
      "                                                                 \n",
      " batch_normalization (BatchN  (None, 4096)             16384     \n",
      " ormalization)                                                   \n",
      "                                                                 \n",
      " dense (Dense)               (None, 512)               2097664   \n",
      "                                                                 \n",
      " dropout (Dropout)           (None, 512)               0         \n",
      "                                                                 \n",
      " dense_1 (Dense)             (None, 10)                5130      \n",
      "                                                                 \n",
      "=================================================================\n",
      "Total params: 3,854,666\n",
      "Trainable params: 2,110,986\n",
      "Non-trainable params: 1,743,680\n",
      "_________________________________________________________________\n"
     ]
    }
   ],
   "source": [
    "def model(layer_1, activation_1, dropout, activation_2, optimizer, Loss):\n",
    "    new = models.Sequential(imgnet.layers[:11])\n",
    "        \n",
    "    for layer in new.layers:\n",
    "        layer.trainable = False\n",
    "\n",
    "    #new.add(layers.GlobalAveragePooling2D())\n",
    "    new.add(layers.Flatten())\n",
    "\n",
    "    new.add(layers.BatchNormalization())\n",
    "    new.add(layers.Dense(layer_1, activation=activation_1))#, activity_regularizer=regularizers.L2(1e-6)))\n",
    "    new.add(layers.Dropout(dropout))\n",
    "    \n",
    "    new.add(layers.Dense(10, activation = activation_2))\n",
    "\n",
    "    new.compile(optimizer = optimizers.Adam(learning_rate = 0.0008), loss = Loss, metrics = ['accuracy'])\n",
    "    return new\n",
    "new = model(config.layer_1, config.activation_1, config.dropout, config.activation_2, config.optimizer, config.loss)\n",
    "new.summary()\n"
   ]
  },
  {
   "cell_type": "code",
   "execution_count": 10,
   "id": "89a4bbb4",
   "metadata": {},
   "outputs": [],
   "source": [
    "checkpoint_path = \"./training/cp-{epoch:02d}-{val_accuracy:.5f}.hdf5\"\n",
    "checkpoint_dir = os.path.dirname(checkpoint_path)\n",
    "checkpoint = ModelCheckpoint(checkpoint_path, monitor = \"val_accuracy\", save_best_only = True, save_freq=\"epoch\", mode = \"max\")\n",
    "sstop = EarlyStopping(monitor = 'val_loss', patience = 1) "
   ]
  },
  {
   "cell_type": "code",
   "execution_count": 11,
   "id": "191db6aa-e369-49b4-bff1-c0c46a0b622d",
   "metadata": {},
   "outputs": [
    {
     "name": "stdout",
     "output_type": "stream",
     "text": [
      "{'method': 'grid',\n",
      " 'metric': {'goal': 'maximize', 'name': 'val_accuracy'},\n",
      " 'parameters': {'activation_1': {'values': ['softmax', 'relu']},\n",
      "                'activation_2': {'values': ['softmax', 'relu']},\n",
      "                'batch_size': {'values': [16, 32, 64, 128, 256]},\n",
      "                'dropout': {'values': [0.2, 0.5, 0.8]},\n",
      "                'layer_1': {'values': [32, 64, 128, 256, 512]},\n",
      "                'optimizer': {'values': ['adam', 'sgd']}}}\n"
     ]
    }
   ],
   "source": [
    "import pprint\n",
    "pprint.pprint(sweep_config)\n"
   ]
  },
  {
   "cell_type": "code",
   "execution_count": 12,
   "id": "7a547a46",
   "metadata": {
    "scrolled": true
   },
   "outputs": [
    {
     "name": "stderr",
     "output_type": "stream",
     "text": [
      "\u001b[34m\u001b[1mwandb\u001b[0m: \u001b[33mWARNING\u001b[0m The save_model argument by default saves the model in the HDF5 format that cannot save custom objects like subclassed models and custom layers. This behavior will be deprecated in a future release in favor of the SavedModel format. Meanwhile, the HDF5 model is saved as W&B files and the SavedModel as W&B Artifacts.\n"
     ]
    },
    {
     "name": "stdout",
     "output_type": "stream",
     "text": [
      "Epoch 1/30\n",
      "157/157 [==============================] - ETA: 0s - loss: 1.1234 - accuracy: 0.6780"
     ]
    },
    {
     "name": "stderr",
     "output_type": "stream",
     "text": [
      "WARNING:absl:Found untraced functions such as _jit_compiled_convolution_op, _jit_compiled_convolution_op, _jit_compiled_convolution_op, _jit_compiled_convolution_op, _jit_compiled_convolution_op while saving (showing 5 of 7). These functions will not be directly callable after loading.\n"
     ]
    },
    {
     "name": "stdout",
     "output_type": "stream",
     "text": [
      "INFO:tensorflow:Assets written to: c:\\Users\\mathe\\IC (Machine Learning)\\wandb\\run-20230309_101455-1u5t6qa0\\files\\model-best\\assets\n"
     ]
    },
    {
     "name": "stderr",
     "output_type": "stream",
     "text": [
      "INFO:tensorflow:Assets written to: c:\\Users\\mathe\\IC (Machine Learning)\\wandb\\run-20230309_101455-1u5t6qa0\\files\\model-best\\assets\n",
      "\u001b[34m\u001b[1mwandb\u001b[0m: Adding directory to artifact (c:\\Users\\mathe\\IC (Machine Learning)\\wandb\\run-20230309_101455-1u5t6qa0\\files\\model-best)... Done. 0.1s\n"
     ]
    },
    {
     "name": "stdout",
     "output_type": "stream",
     "text": [
      "157/157 [==============================] - 8s 38ms/step - loss: 1.1234 - accuracy: 0.6780 - val_loss: 0.7406 - val_accuracy: 0.7688\n",
      "Epoch 2/30\n",
      "155/157 [============================>.] - ETA: 0s - loss: 0.6170 - accuracy: 0.7926"
     ]
    },
    {
     "name": "stderr",
     "output_type": "stream",
     "text": [
      "WARNING:absl:Found untraced functions such as _jit_compiled_convolution_op, _jit_compiled_convolution_op, _jit_compiled_convolution_op, _jit_compiled_convolution_op, _jit_compiled_convolution_op while saving (showing 5 of 7). These functions will not be directly callable after loading.\n"
     ]
    },
    {
     "name": "stdout",
     "output_type": "stream",
     "text": [
      "INFO:tensorflow:Assets written to: c:\\Users\\mathe\\IC (Machine Learning)\\wandb\\run-20230309_101455-1u5t6qa0\\files\\model-best\\assets\n"
     ]
    },
    {
     "name": "stderr",
     "output_type": "stream",
     "text": [
      "INFO:tensorflow:Assets written to: c:\\Users\\mathe\\IC (Machine Learning)\\wandb\\run-20230309_101455-1u5t6qa0\\files\\model-best\\assets\n",
      "\u001b[34m\u001b[1mwandb\u001b[0m: Adding directory to artifact (c:\\Users\\mathe\\IC (Machine Learning)\\wandb\\run-20230309_101455-1u5t6qa0\\files\\model-best)... Done. 0.1s\n"
     ]
    },
    {
     "name": "stdout",
     "output_type": "stream",
     "text": [
      "157/157 [==============================] - 6s 36ms/step - loss: 0.6166 - accuracy: 0.7926 - val_loss: 0.6035 - val_accuracy: 0.7988\n",
      "Epoch 3/30\n",
      "153/157 [============================>.] - ETA: 0s - loss: 0.4623 - accuracy: 0.8400"
     ]
    },
    {
     "name": "stderr",
     "output_type": "stream",
     "text": [
      "WARNING:absl:Found untraced functions such as _jit_compiled_convolution_op, _jit_compiled_convolution_op, _jit_compiled_convolution_op, _jit_compiled_convolution_op, _jit_compiled_convolution_op while saving (showing 5 of 7). These functions will not be directly callable after loading.\n"
     ]
    },
    {
     "name": "stdout",
     "output_type": "stream",
     "text": [
      "INFO:tensorflow:Assets written to: c:\\Users\\mathe\\IC (Machine Learning)\\wandb\\run-20230309_101455-1u5t6qa0\\files\\model-best\\assets\n"
     ]
    },
    {
     "name": "stderr",
     "output_type": "stream",
     "text": [
      "INFO:tensorflow:Assets written to: c:\\Users\\mathe\\IC (Machine Learning)\\wandb\\run-20230309_101455-1u5t6qa0\\files\\model-best\\assets\n",
      "\u001b[34m\u001b[1mwandb\u001b[0m: Adding directory to artifact (c:\\Users\\mathe\\IC (Machine Learning)\\wandb\\run-20230309_101455-1u5t6qa0\\files\\model-best)... Done. 0.1s\n"
     ]
    },
    {
     "name": "stdout",
     "output_type": "stream",
     "text": [
      "157/157 [==============================] - 5s 29ms/step - loss: 0.4634 - accuracy: 0.8396 - val_loss: 0.5837 - val_accuracy: 0.8058\n",
      "Epoch 4/30\n",
      "156/157 [============================>.] - ETA: 0s - loss: 0.3758 - accuracy: 0.8681"
     ]
    },
    {
     "name": "stderr",
     "output_type": "stream",
     "text": [
      "WARNING:absl:Found untraced functions such as _jit_compiled_convolution_op, _jit_compiled_convolution_op, _jit_compiled_convolution_op, _jit_compiled_convolution_op, _jit_compiled_convolution_op while saving (showing 5 of 7). These functions will not be directly callable after loading.\n"
     ]
    },
    {
     "name": "stdout",
     "output_type": "stream",
     "text": [
      "INFO:tensorflow:Assets written to: c:\\Users\\mathe\\IC (Machine Learning)\\wandb\\run-20230309_101455-1u5t6qa0\\files\\model-best\\assets\n"
     ]
    },
    {
     "name": "stderr",
     "output_type": "stream",
     "text": [
      "INFO:tensorflow:Assets written to: c:\\Users\\mathe\\IC (Machine Learning)\\wandb\\run-20230309_101455-1u5t6qa0\\files\\model-best\\assets\n",
      "\u001b[34m\u001b[1mwandb\u001b[0m: Adding directory to artifact (c:\\Users\\mathe\\IC (Machine Learning)\\wandb\\run-20230309_101455-1u5t6qa0\\files\\model-best)... Done. 0.1s\n"
     ]
    },
    {
     "name": "stdout",
     "output_type": "stream",
     "text": [
      "157/157 [==============================] - 5s 30ms/step - loss: 0.3758 - accuracy: 0.8681 - val_loss: 0.5662 - val_accuracy: 0.8174\n",
      "Epoch 5/30\n",
      "153/157 [============================>.] - ETA: 0s - loss: 0.3014 - accuracy: 0.8935"
     ]
    },
    {
     "name": "stderr",
     "output_type": "stream",
     "text": [
      "WARNING:absl:Found untraced functions such as _jit_compiled_convolution_op, _jit_compiled_convolution_op, _jit_compiled_convolution_op, _jit_compiled_convolution_op, _jit_compiled_convolution_op while saving (showing 5 of 7). These functions will not be directly callable after loading.\n"
     ]
    },
    {
     "name": "stdout",
     "output_type": "stream",
     "text": [
      "INFO:tensorflow:Assets written to: c:\\Users\\mathe\\IC (Machine Learning)\\wandb\\run-20230309_101455-1u5t6qa0\\files\\model-best\\assets\n"
     ]
    },
    {
     "name": "stderr",
     "output_type": "stream",
     "text": [
      "INFO:tensorflow:Assets written to: c:\\Users\\mathe\\IC (Machine Learning)\\wandb\\run-20230309_101455-1u5t6qa0\\files\\model-best\\assets\n",
      "\u001b[34m\u001b[1mwandb\u001b[0m: Adding directory to artifact (c:\\Users\\mathe\\IC (Machine Learning)\\wandb\\run-20230309_101455-1u5t6qa0\\files\\model-best)... Done. 0.1s\n"
     ]
    },
    {
     "name": "stdout",
     "output_type": "stream",
     "text": [
      "157/157 [==============================] - 5s 34ms/step - loss: 0.3016 - accuracy: 0.8935 - val_loss: 0.5613 - val_accuracy: 0.8240\n",
      "Epoch 6/30\n",
      "157/157 [==============================] - 3s 17ms/step - loss: 0.2543 - accuracy: 0.9111 - val_loss: 0.5618 - val_accuracy: 0.8250\n",
      "Epoch 7/30\n",
      "157/157 [==============================] - 3s 18ms/step - loss: 0.2181 - accuracy: 0.9229 - val_loss: 0.5801 - val_accuracy: 0.8254\n",
      "Epoch 8/30\n",
      "157/157 [==============================] - 3s 17ms/step - loss: 0.1941 - accuracy: 0.9311 - val_loss: 0.6134 - val_accuracy: 0.8207\n",
      "Epoch 9/30\n",
      "157/157 [==============================] - 3s 18ms/step - loss: 0.1708 - accuracy: 0.9407 - val_loss: 0.5980 - val_accuracy: 0.8245\n",
      "Epoch 10/30\n",
      "157/157 [==============================] - 3s 19ms/step - loss: 0.1486 - accuracy: 0.9469 - val_loss: 0.6271 - val_accuracy: 0.8290\n",
      "Epoch 11/30\n",
      "157/157 [==============================] - 3s 18ms/step - loss: 0.1396 - accuracy: 0.9506 - val_loss: 0.6496 - val_accuracy: 0.8236\n",
      "Epoch 12/30\n",
      "157/157 [==============================] - 3s 18ms/step - loss: 0.1273 - accuracy: 0.9554 - val_loss: 0.6737 - val_accuracy: 0.8256\n",
      "Epoch 13/30\n",
      "157/157 [==============================] - 3s 17ms/step - loss: 0.1194 - accuracy: 0.9582 - val_loss: 0.6832 - val_accuracy: 0.8256\n",
      "Epoch 14/30\n",
      "157/157 [==============================] - 3s 17ms/step - loss: 0.1117 - accuracy: 0.9607 - val_loss: 0.7312 - val_accuracy: 0.8203\n",
      "Epoch 15/30\n",
      "157/157 [==============================] - 3s 18ms/step - loss: 0.1080 - accuracy: 0.9610 - val_loss: 0.7015 - val_accuracy: 0.8243\n",
      "Epoch 16/30\n",
      "157/157 [==============================] - 3s 17ms/step - loss: 0.1046 - accuracy: 0.9639 - val_loss: 0.7219 - val_accuracy: 0.8247\n",
      "Epoch 17/30\n",
      "157/157 [==============================] - 3s 17ms/step - loss: 0.0980 - accuracy: 0.9663 - val_loss: 0.7441 - val_accuracy: 0.8250\n",
      "Epoch 18/30\n",
      "157/157 [==============================] - 3s 18ms/step - loss: 0.0990 - accuracy: 0.9648 - val_loss: 0.7386 - val_accuracy: 0.8184\n",
      "Epoch 19/30\n",
      "157/157 [==============================] - 3s 17ms/step - loss: 0.0988 - accuracy: 0.9653 - val_loss: 0.7725 - val_accuracy: 0.8200\n",
      "Epoch 20/30\n",
      "157/157 [==============================] - 3s 17ms/step - loss: 0.0935 - accuracy: 0.9677 - val_loss: 0.7690 - val_accuracy: 0.8244\n",
      "Epoch 21/30\n",
      "157/157 [==============================] - 3s 18ms/step - loss: 0.0847 - accuracy: 0.9707 - val_loss: 0.8079 - val_accuracy: 0.8250\n",
      "Epoch 22/30\n",
      "157/157 [==============================] - 3s 18ms/step - loss: 0.0865 - accuracy: 0.9690 - val_loss: 0.8247 - val_accuracy: 0.8226\n",
      "Epoch 23/30\n",
      "157/157 [==============================] - 3s 17ms/step - loss: 0.0826 - accuracy: 0.9707 - val_loss: 0.8265 - val_accuracy: 0.8228\n",
      "Epoch 24/30\n",
      "157/157 [==============================] - 3s 18ms/step - loss: 0.0874 - accuracy: 0.9697 - val_loss: 0.8449 - val_accuracy: 0.8246\n",
      "Epoch 25/30\n",
      "157/157 [==============================] - 3s 18ms/step - loss: 0.0776 - accuracy: 0.9726 - val_loss: 0.8399 - val_accuracy: 0.8266\n",
      "Epoch 26/30\n",
      "157/157 [==============================] - 3s 18ms/step - loss: 0.0775 - accuracy: 0.9725 - val_loss: 0.8500 - val_accuracy: 0.8252\n",
      "Epoch 27/30\n",
      "157/157 [==============================] - 3s 18ms/step - loss: 0.0732 - accuracy: 0.9747 - val_loss: 0.8777 - val_accuracy: 0.8217\n",
      "Epoch 28/30\n",
      "157/157 [==============================] - 3s 18ms/step - loss: 0.0751 - accuracy: 0.9739 - val_loss: 0.9119 - val_accuracy: 0.8192\n",
      "Epoch 29/30\n",
      "157/157 [==============================] - 3s 18ms/step - loss: 0.0714 - accuracy: 0.9753 - val_loss: 0.8810 - val_accuracy: 0.8231\n",
      "Epoch 30/30\n",
      "157/157 [==============================] - 3s 18ms/step - loss: 0.0644 - accuracy: 0.9772 - val_loss: 0.9056 - val_accuracy: 0.8241\n",
      "CPU times: total: 1min 36s\n",
      "Wall time: 1min 38s\n"
     ]
    }
   ],
   "source": [
    "%%time\n",
    "new.fit(x_train, y_train, epochs= 30, validation_split=0.2, batch_size= 256, callbacks=[checkpoint, WandbCallback()], shuffle = True)\n",
    "wandb.log({'val_acc': 'val_accuracy'})"
   ]
  },
  {
   "cell_type": "code",
   "execution_count": 13,
   "id": "a1ad1dea",
   "metadata": {},
   "outputs": [
    {
     "data": {
      "text/plain": [
       "(10000, 10)"
      ]
     },
     "execution_count": 13,
     "metadata": {},
     "output_type": "execute_result"
    }
   ],
   "source": [
    "y_test.shape"
   ]
  },
  {
   "cell_type": "code",
   "execution_count": 14,
   "id": "1d5d2170",
   "metadata": {},
   "outputs": [
    {
     "name": "stdout",
     "output_type": "stream",
     "text": [
      "313/313 [==============================] - 2s 5ms/step - loss: 0.9819 - accuracy: 0.8180\n"
     ]
    },
    {
     "data": {
      "text/plain": [
       "[0.9819386601448059, 0.8180000185966492]"
      ]
     },
     "execution_count": 14,
     "metadata": {},
     "output_type": "execute_result"
    }
   ],
   "source": [
    "new.evaluate(x_test, y_test)"
   ]
  },
  {
   "cell_type": "code",
   "execution_count": 15,
   "id": "8f6c0f2f",
   "metadata": {},
   "outputs": [
    {
     "name": "stdout",
     "output_type": "stream",
     "text": [
      "Epoch 1/3\n",
      "157/157 [==============================] - 9s 44ms/step - loss: 0.0516 - accuracy: 0.9819 - val_loss: 0.8770 - val_accuracy: 0.8290\n",
      "Epoch 2/3\n",
      "157/157 [==============================] - 7s 44ms/step - loss: 0.0420 - accuracy: 0.9855 - val_loss: 0.8550 - val_accuracy: 0.8318\n",
      "Epoch 3/3\n",
      "157/157 [==============================] - 6s 40ms/step - loss: 0.0374 - accuracy: 0.9870 - val_loss: 0.8741 - val_accuracy: 0.8297\n",
      "CPU times: total: 21.4 s\n",
      "Wall time: 22.3 s\n"
     ]
    },
    {
     "data": {
      "text/plain": [
       "<keras.callbacks.History at 0x17b35c40250>"
      ]
     },
     "execution_count": 15,
     "metadata": {},
     "output_type": "execute_result"
    }
   ],
   "source": [
    "%%time\n",
    "new.trainable = True\n",
    "new.compile(optimizer = optimizers.RMSprop(learning_rate = 0.00001), loss = 'categorical_crossentropy', metrics = ['accuracy'])\n",
    "checkpoint_path = \"./training/cpFT-{epoch:02d}-{val_accuracy:.5f}.hdf5\"\n",
    "checkpoint_dir = os.path.dirname(checkpoint_path)\n",
    "checkpoint = ModelCheckpoint(checkpoint_path, monitor = \"val_accuracy\", save_best_only = True, save_freq=\"epoch\", mode = \"max\")\n",
    "\n",
    "new.fit(x_train, y_train, epochs=3, validation_split=0.2, batch_size=256, shuffle = True, callbacks=[checkpoint, WandbCallback()])"
   ]
  },
  {
   "cell_type": "code",
   "execution_count": 16,
   "id": "126c0b0d",
   "metadata": {},
   "outputs": [
    {
     "name": "stdout",
     "output_type": "stream",
     "text": [
      "313/313 [==============================] - 1s 5ms/step - loss: 0.9346 - accuracy: 0.8236\n"
     ]
    }
   ],
   "source": [
    "new.evaluate(x_test, y_test)\n",
    "new.save('./models/CIFARUpscaled.h5')"
   ]
  },
  {
   "cell_type": "code",
   "execution_count": 17,
   "id": "8d1b7ab7",
   "metadata": {},
   "outputs": [
    {
     "name": "stdout",
     "output_type": "stream",
     "text": [
      "1/1 [==============================] - 0s 175ms/step\n",
      "[[5.6961319e-24 2.3574124e-12 0.0000000e+00 0.0000000e+00 0.0000000e+00\n",
      "  1.3789735e-36 0.0000000e+00 0.0000000e+00 5.9949638e-31 1.0000000e+00]]\n",
      "CPU times: total: 234 ms\n",
      "Wall time: 223 ms\n"
     ]
    },
    {
     "data": {
      "image/png": "[encoded data removed]",
      "text/plain": [
       "<Figure size 432x288 with 1 Axes>"
      ]
     },
     "metadata": {
      "needs_background": "light"
     },
     "output_type": "display_data"
    }
   ],
   "source": [
    "%%time\n",
    "num = 23\n",
    "plt.imshow(x_test[num], cmap='gray')\n",
    "y_test[num]\n",
    "img = x_test[num]\n",
    "img = (np.expand_dims(img,0))\n",
    "predicao = new.predict(img)\n",
    "print(predicao)"
   ]
  },
  {
   "cell_type": "code",
   "execution_count": 18,
   "id": "6212a026",
   "metadata": {},
   "outputs": [
    {
     "data": {
      "text/html": [
       "Changes to your `wandb` environment variables will be ignored because your `wandb` session has already started. For more information on how to modify your settings with `wandb.init()` arguments, please refer to <a href='https://wandb.me/wandb-init' target=\"_blank\">the W&B docs</a>."
      ],
      "text/plain": [
       "<IPython.core.display.HTML object>"
      ]
     },
     "metadata": {},
     "output_type": "display_data"
    },
    {
     "data": {
      "text/html": [
       "Finishing last run (ID:1u5t6qa0) before initializing another..."
      ],
      "text/plain": [
       "<IPython.core.display.HTML object>"
      ]
     },
     "metadata": {},
     "output_type": "display_data"
    },
    {
     "data": {
      "text/html": [
       "Waiting for W&B process to finish... <strong style=\"color:green\">(success).</strong>"
      ],
      "text/plain": [
       "<IPython.core.display.HTML object>"
      ]
     },
     "metadata": {},
     "output_type": "display_data"
    },
    {
     "data": {
      "text/html": [
       "<style>\n",
       "    table.wandb td:nth-child(1) { padding: 0 10px; text-align: left ; width: auto;} td:nth-child(2) {text-align: left ; width: 100%}\n",
       "    .wandb-row { display: flex; flex-direction: row; flex-wrap: wrap; justify-content: flex-start; width: 100% }\n",
       "    .wandb-col { display: flex; flex-direction: column; flex-basis: 100%; flex: 1; padding: 10px; }\n",
       "    </style>\n",
       "<div class=\"wandb-row\"><div class=\"wandb-col\"><h3>Run history:</h3><br/><table class=\"wandb\"><tr><td>accuracy</td><td>▁▄▅▅▆▆▇▇▇▇▇▇▇▇▇▇█▇███████████████</td></tr><tr><td>epoch</td><td>▁▁▁▂▂▂▂▃▃▃▃▄▄▄▄▅▅▅▅▆▆▆▆▇▇▇▇███▁▁▁</td></tr><tr><td>loss</td><td>█▅▄▃▃▂▂▂▂▂▂▂▂▁▁▁▁▁▁▁▁▁▁▁▁▁▁▁▁▁▁▁▁</td></tr><tr><td>val_accuracy</td><td>▁▄▅▆▇▇▇▇▇█▇▇▇▇▇▇▇▇▇▇▇▇▇▇▇▇▇▇▇▇███</td></tr><tr><td>val_loss</td><td>▅▂▁▁▁▁▁▂▂▂▃▃▃▄▄▄▅▅▅▅▆▆▆▇▇▇▇█▇█▇▇▇</td></tr></table><br/></div><div class=\"wandb-col\"><h3>Run summary:</h3><br/><table class=\"wandb\"><tr><td>accuracy</td><td>0.987</td></tr><tr><td>best_epoch</td><td>4</td></tr><tr><td>best_val_loss</td><td>0.56132</td></tr><tr><td>epoch</td><td>2</td></tr><tr><td>loss</td><td>0.03737</td></tr><tr><td>val_acc</td><td>val_accuracy</td></tr><tr><td>val_accuracy</td><td>0.8297</td></tr><tr><td>val_loss</td><td>0.87407</td></tr></table><br/></div></div>"
      ],
      "text/plain": [
       "<IPython.core.display.HTML object>"
      ]
     },
     "metadata": {},
     "output_type": "display_data"
    },
    {
     "data": {
      "text/html": [
       " View run <strong style=\"color:#cdcd00\">cool-sun-152</strong> at: <a href='https://wandb.ai/ai-research-unifesp/wandb-test/runs/1u5t6qa0' target=\"_blank\">https://wandb.ai/ai-research-unifesp/wandb-test/runs/1u5t6qa0</a><br/>Synced 5 W&B file(s), 1 media file(s), 20 artifact file(s) and 1 other file(s)"
      ],
      "text/plain": [
       "<IPython.core.display.HTML object>"
      ]
     },
     "metadata": {},
     "output_type": "display_data"
    },
    {
     "data": {
      "text/html": [
       "Find logs at: <code>.\\wandb\\run-20230309_101455-1u5t6qa0\\logs</code>"
      ],
      "text/plain": [
       "<IPython.core.display.HTML object>"
      ]
     },
     "metadata": {},
     "output_type": "display_data"
    },
    {
     "data": {
      "text/html": [
       "Successfully finished last run (ID:1u5t6qa0). Initializing new run:<br/>"
      ],
      "text/plain": [
       "<IPython.core.display.HTML object>"
      ]
     },
     "metadata": {},
     "output_type": "display_data"
    },
    {
     "data": {
      "text/html": [
       "wandb version 0.13.11 is available!  To upgrade, please run:\n",
       " $ pip install wandb --upgrade"
      ],
      "text/plain": [
       "<IPython.core.display.HTML object>"
      ]
     },
     "metadata": {},
     "output_type": "display_data"
    },
    {
     "data": {
      "text/html": [
       "Tracking run with wandb version 0.13.10"
      ],
      "text/plain": [
       "<IPython.core.display.HTML object>"
      ]
     },
     "metadata": {},
     "output_type": "display_data"
    },
    {
     "data": {
      "text/html": [
       "Run data is saved locally in <code>c:\\Users\\mathe\\IC (Machine Learning)\\wandb\\run-20230309_101702-6qc3wysb</code>"
      ],
      "text/plain": [
       "<IPython.core.display.HTML object>"
      ]
     },
     "metadata": {},
     "output_type": "display_data"
    },
    {
     "data": {
      "text/html": [
       "Syncing run <strong><a href='https://wandb.ai/ai-research-unifesp/wandb-test/runs/6qc3wysb' target=\"_blank\">cerulean-glitter-154</a></strong> to <a href='https://wandb.ai/ai-research-unifesp/wandb-test' target=\"_blank\">Weights & Biases</a> (<a href='https://wandb.me/run' target=\"_blank\">docs</a>)<br/>"
      ],
      "text/plain": [
       "<IPython.core.display.HTML object>"
      ]
     },
     "metadata": {},
     "output_type": "display_data"
    },
    {
     "data": {
      "text/html": [
       " View project at <a href='https://wandb.ai/ai-research-unifesp/wandb-test' target=\"_blank\">https://wandb.ai/ai-research-unifesp/wandb-test</a>"
      ],
      "text/plain": [
       "<IPython.core.display.HTML object>"
      ]
     },
     "metadata": {},
     "output_type": "display_data"
    },
    {
     "data": {
      "text/html": [
       " View run at <a href='https://wandb.ai/ai-research-unifesp/wandb-test/runs/6qc3wysb' target=\"_blank\">https://wandb.ai/ai-research-unifesp/wandb-test/runs/6qc3wysb</a>"
      ],
      "text/plain": [
       "<IPython.core.display.HTML object>"
      ]
     },
     "metadata": {},
     "output_type": "display_data"
    },
    {
     "name": "stderr",
     "output_type": "stream",
     "text": [
      "\u001b[34m\u001b[1mwandb\u001b[0m: \u001b[33mWARNING\u001b[0m Calling wandb.login() after wandb.init() has no effect.\n",
      "\u001b[34m\u001b[1mwandb\u001b[0m: Agent Starting Run: 8cdl2goq with config:\n",
      "\u001b[34m\u001b[1mwandb\u001b[0m: \tactivation_1: softmax\n",
      "\u001b[34m\u001b[1mwandb\u001b[0m: \tactivation_2: softmax\n",
      "\u001b[34m\u001b[1mwandb\u001b[0m: \tbatch_size: 16\n",
      "\u001b[34m\u001b[1mwandb\u001b[0m: \tdropout: 0.2\n",
      "\u001b[34m\u001b[1mwandb\u001b[0m: \tlayer_1: 32\n",
      "\u001b[34m\u001b[1mwandb\u001b[0m: \toptimizer: adam\n",
      "Exception in thread Thread-70 (_run_job):\n",
      "Traceback (most recent call last):\n",
      "  File \"c:\\Users\\mathe\\AppData\\Local\\Programs\\Python\\Python310\\lib\\site-packages\\wandb\\agents\\pyagent.py\", line 298, in _run_job\n",
      "    self._function()\n",
      "TypeError: model() missing 6 required positional arguments: 'layer_1', 'activation_1', 'dropout', 'activation_2', 'optimizer', and 'Loss'\n",
      "\n",
      "During handling of the above exception, another exception occurred:\n",
      "\n",
      "Traceback (most recent call last):\n",
      "  File \"c:\\Users\\mathe\\AppData\\Local\\Programs\\Python\\Python310\\lib\\threading.py\", line 1009, in _bootstrap_inner\n",
      "    self.run()\n",
      "  File \"c:\\Users\\mathe\\AppData\\Local\\Programs\\Python\\Python310\\lib\\threading.py\", line 946, in run\n",
      "    self._target(*self._args, **self._kwargs)\n",
      "  File \"c:\\Users\\mathe\\AppData\\Local\\Programs\\Python\\Python310\\lib\\site-packages\\wandb\\agents\\pyagent.py\", line 303, in _run_job\n",
      "    wandb.finish(exit_code=1)\n",
      "  File \"c:\\Users\\mathe\\AppData\\Local\\Programs\\Python\\Python310\\lib\\site-packages\\wandb\\sdk\\wandb_run.py\", line 3686, in finish\n",
      "    wandb.run.finish(exit_code=exit_code, quiet=quiet)\n",
      "  File \"c:\\Users\\mathe\\AppData\\Local\\Programs\\Python\\Python310\\lib\\site-packages\\wandb\\sdk\\wandb_run.py\", line 371, in wrapper\n",
      "    return func(self, *args, **kwargs)\n",
      "  File \"c:\\Users\\mathe\\AppData\\Local\\Programs\\Python\\Python310\\lib\\site-packages\\wandb\\sdk\\wandb_run.py\", line 334, in wrapper\n",
      "    return func(self, *args, **kwargs)\n",
      "  File \"c:\\Users\\mathe\\AppData\\Local\\Programs\\Python\\Python310\\lib\\site-packages\\wandb\\sdk\\wandb_run.py\", line 1845, in finish\n",
      "    return self._finish(exit_code, quiet)\n",
      "  File \"c:\\Users\\mathe\\AppData\\Local\\Programs\\Python\\Python310\\lib\\site-packages\\wandb\\sdk\\wandb_run.py\", line 1852, in _finish\n",
      "    with telemetry.context(run=self) as tel:\n",
      "  File \"c:\\Users\\mathe\\AppData\\Local\\Programs\\Python\\Python310\\lib\\site-packages\\wandb\\sdk\\lib\\telemetry.py\", line 42, in __exit__\n",
      "    self._run._telemetry_callback(self._obj)\n",
      "  File \"c:\\Users\\mathe\\AppData\\Local\\Programs\\Python\\Python310\\lib\\site-packages\\wandb\\sdk\\wandb_run.py\", line 693, in _telemetry_callback\n",
      "    self._telemetry_flush()\n",
      "  File \"c:\\Users\\mathe\\AppData\\Local\\Programs\\Python\\Python310\\lib\\site-packages\\wandb\\sdk\\wandb_run.py\", line 704, in _telemetry_flush\n",
      "    self._backend.interface._publish_telemetry(self._telemetry_obj)\n",
      "  File \"c:\\Users\\mathe\\AppData\\Local\\Programs\\Python\\Python310\\lib\\site-packages\\wandb\\sdk\\interface\\interface_shared.py\", line 101, in _publish_telemetry\n",
      "    self._publish(rec)\n",
      "  File \"c:\\Users\\mathe\\AppData\\Local\\Programs\\Python\\Python310\\lib\\site-packages\\wandb\\sdk\\interface\\interface_sock.py\", line 51, in _publish\n",
      "    self._sock_client.send_record_publish(record)\n",
      "  File \"c:\\Users\\mathe\\AppData\\Local\\Programs\\Python\\Python310\\lib\\site-packages\\wandb\\sdk\\lib\\sock_client.py\", line 221, in send_record_publish\n",
      "    self.send_server_request(server_req)\n",
      "  File \"c:\\Users\\mathe\\AppData\\Local\\Programs\\Python\\Python310\\lib\\site-packages\\wandb\\sdk\\lib\\sock_client.py\", line 155, in send_server_request\n",
      "    self._send_message(msg)\n",
      "  File \"c:\\Users\\mathe\\AppData\\Local\\Programs\\Python\\Python310\\lib\\site-packages\\wandb\\sdk\\lib\\sock_client.py\", line 152, in _send_message\n",
      "    self._sendall_with_error_handle(header + data)\n",
      "  File \"c:\\Users\\mathe\\AppData\\Local\\Programs\\Python\\Python310\\lib\\site-packages\\wandb\\sdk\\lib\\sock_client.py\", line 130, in _sendall_with_error_handle\n",
      "    sent = self._sock.send(data)\n",
      "ConnectionAbortedError: [WinError 10053] Uma conexão estabelecida foi anulada pelo software no computador host\n",
      "\u001b[34m\u001b[1mwandb\u001b[0m: Sweep Agent: Waiting for job.\n",
      "\u001b[34m\u001b[1mwandb\u001b[0m: Job received.\n",
      "\u001b[34m\u001b[1mwandb\u001b[0m: Agent Starting Run: 11lwe7md with config:\n",
      "\u001b[34m\u001b[1mwandb\u001b[0m: \tactivation_1: softmax\n",
      "\u001b[34m\u001b[1mwandb\u001b[0m: \tactivation_2: softmax\n",
      "\u001b[34m\u001b[1mwandb\u001b[0m: \tbatch_size: 16\n",
      "\u001b[34m\u001b[1mwandb\u001b[0m: \tdropout: 0.2\n",
      "\u001b[34m\u001b[1mwandb\u001b[0m: \tlayer_1: 32\n",
      "\u001b[34m\u001b[1mwandb\u001b[0m: \toptimizer: sgd\n",
      "Exception in thread Thread-71 (_run_job):\n",
      "Traceback (most recent call last):\n",
      "  File \"c:\\Users\\mathe\\AppData\\Local\\Programs\\Python\\Python310\\lib\\site-packages\\wandb\\agents\\pyagent.py\", line 298, in _run_job\n",
      "    self._function()\n",
      "TypeError: model() missing 6 required positional arguments: 'layer_1', 'activation_1', 'dropout', 'activation_2', 'optimizer', and 'Loss'\n",
      "\n",
      "During handling of the above exception, another exception occurred:\n",
      "\n",
      "Traceback (most recent call last):\n",
      "  File \"c:\\Users\\mathe\\AppData\\Local\\Programs\\Python\\Python310\\lib\\threading.py\", line 1009, in _bootstrap_inner\n",
      "    self.run()\n",
      "  File \"c:\\Users\\mathe\\AppData\\Local\\Programs\\Python\\Python310\\lib\\threading.py\", line 946, in run\n",
      "    self._target(*self._args, **self._kwargs)\n",
      "  File \"c:\\Users\\mathe\\AppData\\Local\\Programs\\Python\\Python310\\lib\\site-packages\\wandb\\agents\\pyagent.py\", line 303, in _run_job\n",
      "    wandb.finish(exit_code=1)\n",
      "  File \"c:\\Users\\mathe\\AppData\\Local\\Programs\\Python\\Python310\\lib\\site-packages\\wandb\\sdk\\wandb_run.py\", line 3686, in finish\n",
      "    wandb.run.finish(exit_code=exit_code, quiet=quiet)\n",
      "  File \"c:\\Users\\mathe\\AppData\\Local\\Programs\\Python\\Python310\\lib\\site-packages\\wandb\\sdk\\wandb_run.py\", line 371, in wrapper\n",
      "    return func(self, *args, **kwargs)\n",
      "  File \"c:\\Users\\mathe\\AppData\\Local\\Programs\\Python\\Python310\\lib\\site-packages\\wandb\\sdk\\wandb_run.py\", line 334, in wrapper\n",
      "    return func(self, *args, **kwargs)\n",
      "  File \"c:\\Users\\mathe\\AppData\\Local\\Programs\\Python\\Python310\\lib\\site-packages\\wandb\\sdk\\wandb_run.py\", line 1845, in finish\n",
      "    return self._finish(exit_code, quiet)\n",
      "  File \"c:\\Users\\mathe\\AppData\\Local\\Programs\\Python\\Python310\\lib\\site-packages\\wandb\\sdk\\wandb_run.py\", line 1852, in _finish\n",
      "    with telemetry.context(run=self) as tel:\n",
      "  File \"c:\\Users\\mathe\\AppData\\Local\\Programs\\Python\\Python310\\lib\\site-packages\\wandb\\sdk\\lib\\telemetry.py\", line 42, in __exit__\n",
      "    self._run._telemetry_callback(self._obj)\n",
      "  File \"c:\\Users\\mathe\\AppData\\Local\\Programs\\Python\\Python310\\lib\\site-packages\\wandb\\sdk\\wandb_run.py\", line 693, in _telemetry_callback\n",
      "    self._telemetry_flush()\n",
      "  File \"c:\\Users\\mathe\\AppData\\Local\\Programs\\Python\\Python310\\lib\\site-packages\\wandb\\sdk\\wandb_run.py\", line 704, in _telemetry_flush\n",
      "    self._backend.interface._publish_telemetry(self._telemetry_obj)\n",
      "  File \"c:\\Users\\mathe\\AppData\\Local\\Programs\\Python\\Python310\\lib\\site-packages\\wandb\\sdk\\interface\\interface_shared.py\", line 101, in _publish_telemetry\n",
      "    self._publish(rec)\n",
      "  File \"c:\\Users\\mathe\\AppData\\Local\\Programs\\Python\\Python310\\lib\\site-packages\\wandb\\sdk\\interface\\interface_sock.py\", line 51, in _publish\n",
      "    self._sock_client.send_record_publish(record)\n",
      "  File \"c:\\Users\\mathe\\AppData\\Local\\Programs\\Python\\Python310\\lib\\site-packages\\wandb\\sdk\\lib\\sock_client.py\", line 221, in send_record_publish\n",
      "    self.send_server_request(server_req)\n",
      "  File \"c:\\Users\\mathe\\AppData\\Local\\Programs\\Python\\Python310\\lib\\site-packages\\wandb\\sdk\\lib\\sock_client.py\", line 155, in send_server_request\n",
      "    self._send_message(msg)\n",
      "  File \"c:\\Users\\mathe\\AppData\\Local\\Programs\\Python\\Python310\\lib\\site-packages\\wandb\\sdk\\lib\\sock_client.py\", line 152, in _send_message\n",
      "    self._sendall_with_error_handle(header + data)\n",
      "  File \"c:\\Users\\mathe\\AppData\\Local\\Programs\\Python\\Python310\\lib\\site-packages\\wandb\\sdk\\lib\\sock_client.py\", line 130, in _sendall_with_error_handle\n",
      "    sent = self._sock.send(data)\n",
      "ConnectionAbortedError: [WinError 10053] Uma conexão estabelecida foi anulada pelo software no computador host\n",
      "\u001b[34m\u001b[1mwandb\u001b[0m: Agent Starting Run: swsqiksg with config:\n",
      "\u001b[34m\u001b[1mwandb\u001b[0m: \tactivation_1: softmax\n",
      "\u001b[34m\u001b[1mwandb\u001b[0m: \tactivation_2: softmax\n",
      "\u001b[34m\u001b[1mwandb\u001b[0m: \tbatch_size: 16\n",
      "\u001b[34m\u001b[1mwandb\u001b[0m: \tdropout: 0.2\n",
      "\u001b[34m\u001b[1mwandb\u001b[0m: \tlayer_1: 64\n",
      "\u001b[34m\u001b[1mwandb\u001b[0m: \toptimizer: adam\n",
      "Exception in thread Thread-72 (_run_job):\n",
      "Traceback (most recent call last):\n",
      "  File \"c:\\Users\\mathe\\AppData\\Local\\Programs\\Python\\Python310\\lib\\site-packages\\wandb\\agents\\pyagent.py\", line 298, in _run_job\n",
      "    self._function()\n",
      "TypeError: model() missing 6 required positional arguments: 'layer_1', 'activation_1', 'dropout', 'activation_2', 'optimizer', and 'Loss'\n",
      "\n",
      "During handling of the above exception, another exception occurred:\n",
      "\n",
      "Traceback (most recent call last):\n",
      "  File \"c:\\Users\\mathe\\AppData\\Local\\Programs\\Python\\Python310\\lib\\threading.py\", line 1009, in _bootstrap_inner\n",
      "    self.run()\n",
      "  File \"c:\\Users\\mathe\\AppData\\Local\\Programs\\Python\\Python310\\lib\\threading.py\", line 946, in run\n",
      "    self._target(*self._args, **self._kwargs)\n",
      "  File \"c:\\Users\\mathe\\AppData\\Local\\Programs\\Python\\Python310\\lib\\site-packages\\wandb\\agents\\pyagent.py\", line 303, in _run_job\n",
      "    wandb.finish(exit_code=1)\n",
      "  File \"c:\\Users\\mathe\\AppData\\Local\\Programs\\Python\\Python310\\lib\\site-packages\\wandb\\sdk\\wandb_run.py\", line 3686, in finish\n",
      "    wandb.run.finish(exit_code=exit_code, quiet=quiet)\n",
      "  File \"c:\\Users\\mathe\\AppData\\Local\\Programs\\Python\\Python310\\lib\\site-packages\\wandb\\sdk\\wandb_run.py\", line 371, in wrapper\n",
      "    return func(self, *args, **kwargs)\n",
      "  File \"c:\\Users\\mathe\\AppData\\Local\\Programs\\Python\\Python310\\lib\\site-packages\\wandb\\sdk\\wandb_run.py\", line 334, in wrapper\n",
      "    return func(self, *args, **kwargs)\n",
      "  File \"c:\\Users\\mathe\\AppData\\Local\\Programs\\Python\\Python310\\lib\\site-packages\\wandb\\sdk\\wandb_run.py\", line 1845, in finish\n",
      "    return self._finish(exit_code, quiet)\n",
      "  File \"c:\\Users\\mathe\\AppData\\Local\\Programs\\Python\\Python310\\lib\\site-packages\\wandb\\sdk\\wandb_run.py\", line 1852, in _finish\n",
      "    with telemetry.context(run=self) as tel:\n",
      "  File \"c:\\Users\\mathe\\AppData\\Local\\Programs\\Python\\Python310\\lib\\site-packages\\wandb\\sdk\\lib\\telemetry.py\", line 42, in __exit__\n",
      "    self._run._telemetry_callback(self._obj)\n",
      "  File \"c:\\Users\\mathe\\AppData\\Local\\Programs\\Python\\Python310\\lib\\site-packages\\wandb\\sdk\\wandb_run.py\", line 693, in _telemetry_callback\n",
      "    self._telemetry_flush()\n",
      "  File \"c:\\Users\\mathe\\AppData\\Local\\Programs\\Python\\Python310\\lib\\site-packages\\wandb\\sdk\\wandb_run.py\", line 704, in _telemetry_flush\n",
      "    self._backend.interface._publish_telemetry(self._telemetry_obj)\n",
      "  File \"c:\\Users\\mathe\\AppData\\Local\\Programs\\Python\\Python310\\lib\\site-packages\\wandb\\sdk\\interface\\interface_shared.py\", line 101, in _publish_telemetry\n",
      "    self._publish(rec)\n",
      "  File \"c:\\Users\\mathe\\AppData\\Local\\Programs\\Python\\Python310\\lib\\site-packages\\wandb\\sdk\\interface\\interface_sock.py\", line 51, in _publish\n",
      "    self._sock_client.send_record_publish(record)\n",
      "  File \"c:\\Users\\mathe\\AppData\\Local\\Programs\\Python\\Python310\\lib\\site-packages\\wandb\\sdk\\lib\\sock_client.py\", line 221, in send_record_publish\n",
      "    self.send_server_request(server_req)\n",
      "  File \"c:\\Users\\mathe\\AppData\\Local\\Programs\\Python\\Python310\\lib\\site-packages\\wandb\\sdk\\lib\\sock_client.py\", line 155, in send_server_request\n",
      "    self._send_message(msg)\n",
      "  File \"c:\\Users\\mathe\\AppData\\Local\\Programs\\Python\\Python310\\lib\\site-packages\\wandb\\sdk\\lib\\sock_client.py\", line 152, in _send_message\n",
      "    self._sendall_with_error_handle(header + data)\n",
      "  File \"c:\\Users\\mathe\\AppData\\Local\\Programs\\Python\\Python310\\lib\\site-packages\\wandb\\sdk\\lib\\sock_client.py\", line 130, in _sendall_with_error_handle\n",
      "    sent = self._sock.send(data)\n",
      "ConnectionAbortedError: [WinError 10053] Uma conexão estabelecida foi anulada pelo software no computador host\n",
      "\u001b[34m\u001b[1mwandb\u001b[0m: Sweep Agent: Waiting for job.\n",
      "\u001b[34m\u001b[1mwandb\u001b[0m: Job received.\n",
      "\u001b[34m\u001b[1mwandb\u001b[0m: Agent Starting Run: c9geicrq with config:\n",
      "\u001b[34m\u001b[1mwandb\u001b[0m: \tactivation_1: softmax\n",
      "\u001b[34m\u001b[1mwandb\u001b[0m: \tactivation_2: softmax\n",
      "\u001b[34m\u001b[1mwandb\u001b[0m: \tbatch_size: 16\n",
      "\u001b[34m\u001b[1mwandb\u001b[0m: \tdropout: 0.2\n",
      "\u001b[34m\u001b[1mwandb\u001b[0m: \tlayer_1: 64\n",
      "\u001b[34m\u001b[1mwandb\u001b[0m: \toptimizer: sgd\n",
      "Exception in thread Thread-73 (_run_job):\n",
      "Traceback (most recent call last):\n",
      "  File \"c:\\Users\\mathe\\AppData\\Local\\Programs\\Python\\Python310\\lib\\site-packages\\wandb\\agents\\pyagent.py\", line 298, in _run_job\n",
      "    self._function()\n",
      "TypeError: model() missing 6 required positional arguments: 'layer_1', 'activation_1', 'dropout', 'activation_2', 'optimizer', and 'Loss'\n",
      "\n",
      "During handling of the above exception, another exception occurred:\n",
      "\n",
      "Traceback (most recent call last):\n",
      "  File \"c:\\Users\\mathe\\AppData\\Local\\Programs\\Python\\Python310\\lib\\threading.py\", line 1009, in _bootstrap_inner\n",
      "    self.run()\n",
      "  File \"c:\\Users\\mathe\\AppData\\Local\\Programs\\Python\\Python310\\lib\\threading.py\", line 946, in run\n",
      "    self._target(*self._args, **self._kwargs)\n",
      "  File \"c:\\Users\\mathe\\AppData\\Local\\Programs\\Python\\Python310\\lib\\site-packages\\wandb\\agents\\pyagent.py\", line 303, in _run_job\n",
      "    wandb.finish(exit_code=1)\n",
      "  File \"c:\\Users\\mathe\\AppData\\Local\\Programs\\Python\\Python310\\lib\\site-packages\\wandb\\sdk\\wandb_run.py\", line 3686, in finish\n",
      "    wandb.run.finish(exit_code=exit_code, quiet=quiet)\n",
      "  File \"c:\\Users\\mathe\\AppData\\Local\\Programs\\Python\\Python310\\lib\\site-packages\\wandb\\sdk\\wandb_run.py\", line 371, in wrapper\n",
      "    return func(self, *args, **kwargs)\n",
      "  File \"c:\\Users\\mathe\\AppData\\Local\\Programs\\Python\\Python310\\lib\\site-packages\\wandb\\sdk\\wandb_run.py\", line 334, in wrapper\n",
      "    return func(self, *args, **kwargs)\n",
      "  File \"c:\\Users\\mathe\\AppData\\Local\\Programs\\Python\\Python310\\lib\\site-packages\\wandb\\sdk\\wandb_run.py\", line 1845, in finish\n",
      "    return self._finish(exit_code, quiet)\n",
      "  File \"c:\\Users\\mathe\\AppData\\Local\\Programs\\Python\\Python310\\lib\\site-packages\\wandb\\sdk\\wandb_run.py\", line 1852, in _finish\n",
      "    with telemetry.context(run=self) as tel:\n",
      "  File \"c:\\Users\\mathe\\AppData\\Local\\Programs\\Python\\Python310\\lib\\site-packages\\wandb\\sdk\\lib\\telemetry.py\", line 42, in __exit__\n",
      "    self._run._telemetry_callback(self._obj)\n",
      "  File \"c:\\Users\\mathe\\AppData\\Local\\Programs\\Python\\Python310\\lib\\site-packages\\wandb\\sdk\\wandb_run.py\", line 693, in _telemetry_callback\n",
      "    self._telemetry_flush()\n",
      "  File \"c:\\Users\\mathe\\AppData\\Local\\Programs\\Python\\Python310\\lib\\site-packages\\wandb\\sdk\\wandb_run.py\", line 704, in _telemetry_flush\n",
      "    self._backend.interface._publish_telemetry(self._telemetry_obj)\n",
      "  File \"c:\\Users\\mathe\\AppData\\Local\\Programs\\Python\\Python310\\lib\\site-packages\\wandb\\sdk\\interface\\interface_shared.py\", line 101, in _publish_telemetry\n",
      "    self._publish(rec)\n",
      "  File \"c:\\Users\\mathe\\AppData\\Local\\Programs\\Python\\Python310\\lib\\site-packages\\wandb\\sdk\\interface\\interface_sock.py\", line 51, in _publish\n",
      "    self._sock_client.send_record_publish(record)\n",
      "  File \"c:\\Users\\mathe\\AppData\\Local\\Programs\\Python\\Python310\\lib\\site-packages\\wandb\\sdk\\lib\\sock_client.py\", line 221, in send_record_publish\n",
      "    self.send_server_request(server_req)\n",
      "  File \"c:\\Users\\mathe\\AppData\\Local\\Programs\\Python\\Python310\\lib\\site-packages\\wandb\\sdk\\lib\\sock_client.py\", line 155, in send_server_request\n",
      "    self._send_message(msg)\n",
      "  File \"c:\\Users\\mathe\\AppData\\Local\\Programs\\Python\\Python310\\lib\\site-packages\\wandb\\sdk\\lib\\sock_client.py\", line 152, in _send_message\n",
      "    self._sendall_with_error_handle(header + data)\n",
      "  File \"c:\\Users\\mathe\\AppData\\Local\\Programs\\Python\\Python310\\lib\\site-packages\\wandb\\sdk\\lib\\sock_client.py\", line 130, in _sendall_with_error_handle\n",
      "    sent = self._sock.send(data)\n",
      "ConnectionAbortedError: [WinError 10053] Uma conexão estabelecida foi anulada pelo software no computador host\n",
      "\u001b[34m\u001b[1mwandb\u001b[0m: Agent Starting Run: akoihfhz with config:\n",
      "\u001b[34m\u001b[1mwandb\u001b[0m: \tactivation_1: softmax\n",
      "\u001b[34m\u001b[1mwandb\u001b[0m: \tactivation_2: softmax\n",
      "\u001b[34m\u001b[1mwandb\u001b[0m: \tbatch_size: 16\n",
      "\u001b[34m\u001b[1mwandb\u001b[0m: \tdropout: 0.2\n",
      "\u001b[34m\u001b[1mwandb\u001b[0m: \tlayer_1: 128\n",
      "\u001b[34m\u001b[1mwandb\u001b[0m: \toptimizer: adam\n",
      "Exception in thread Thread-74 (_run_job):\n",
      "Traceback (most recent call last):\n",
      "  File \"c:\\Users\\mathe\\AppData\\Local\\Programs\\Python\\Python310\\lib\\site-packages\\wandb\\agents\\pyagent.py\", line 298, in _run_job\n",
      "    self._function()\n",
      "TypeError: model() missing 6 required positional arguments: 'layer_1', 'activation_1', 'dropout', 'activation_2', 'optimizer', and 'Loss'\n",
      "\n",
      "During handling of the above exception, another exception occurred:\n",
      "\n",
      "Traceback (most recent call last):\n",
      "  File \"c:\\Users\\mathe\\AppData\\Local\\Programs\\Python\\Python310\\lib\\threading.py\", line 1009, in _bootstrap_inner\n",
      "    self.run()\n",
      "  File \"c:\\Users\\mathe\\AppData\\Local\\Programs\\Python\\Python310\\lib\\threading.py\", line 946, in run\n",
      "    self._target(*self._args, **self._kwargs)\n",
      "  File \"c:\\Users\\mathe\\AppData\\Local\\Programs\\Python\\Python310\\lib\\site-packages\\wandb\\agents\\pyagent.py\", line 303, in _run_job\n",
      "    wandb.finish(exit_code=1)\n",
      "  File \"c:\\Users\\mathe\\AppData\\Local\\Programs\\Python\\Python310\\lib\\site-packages\\wandb\\sdk\\wandb_run.py\", line 3686, in finish\n",
      "    wandb.run.finish(exit_code=exit_code, quiet=quiet)\n",
      "  File \"c:\\Users\\mathe\\AppData\\Local\\Programs\\Python\\Python310\\lib\\site-packages\\wandb\\sdk\\wandb_run.py\", line 371, in wrapper\n",
      "    return func(self, *args, **kwargs)\n",
      "  File \"c:\\Users\\mathe\\AppData\\Local\\Programs\\Python\\Python310\\lib\\site-packages\\wandb\\sdk\\wandb_run.py\", line 334, in wrapper\n",
      "    return func(self, *args, **kwargs)\n",
      "  File \"c:\\Users\\mathe\\AppData\\Local\\Programs\\Python\\Python310\\lib\\site-packages\\wandb\\sdk\\wandb_run.py\", line 1845, in finish\n",
      "    return self._finish(exit_code, quiet)\n",
      "  File \"c:\\Users\\mathe\\AppData\\Local\\Programs\\Python\\Python310\\lib\\site-packages\\wandb\\sdk\\wandb_run.py\", line 1852, in _finish\n",
      "    with telemetry.context(run=self) as tel:\n",
      "  File \"c:\\Users\\mathe\\AppData\\Local\\Programs\\Python\\Python310\\lib\\site-packages\\wandb\\sdk\\lib\\telemetry.py\", line 42, in __exit__\n",
      "    self._run._telemetry_callback(self._obj)\n",
      "  File \"c:\\Users\\mathe\\AppData\\Local\\Programs\\Python\\Python310\\lib\\site-packages\\wandb\\sdk\\wandb_run.py\", line 693, in _telemetry_callback\n",
      "    self._telemetry_flush()\n",
      "  File \"c:\\Users\\mathe\\AppData\\Local\\Programs\\Python\\Python310\\lib\\site-packages\\wandb\\sdk\\wandb_run.py\", line 704, in _telemetry_flush\n",
      "    self._backend.interface._publish_telemetry(self._telemetry_obj)\n",
      "  File \"c:\\Users\\mathe\\AppData\\Local\\Programs\\Python\\Python310\\lib\\site-packages\\wandb\\sdk\\interface\\interface_shared.py\", line 101, in _publish_telemetry\n",
      "    self._publish(rec)\n",
      "  File \"c:\\Users\\mathe\\AppData\\Local\\Programs\\Python\\Python310\\lib\\site-packages\\wandb\\sdk\\interface\\interface_sock.py\", line 51, in _publish\n",
      "    self._sock_client.send_record_publish(record)\n",
      "  File \"c:\\Users\\mathe\\AppData\\Local\\Programs\\Python\\Python310\\lib\\site-packages\\wandb\\sdk\\lib\\sock_client.py\", line 221, in send_record_publish\n",
      "    self.send_server_request(server_req)\n",
      "  File \"c:\\Users\\mathe\\AppData\\Local\\Programs\\Python\\Python310\\lib\\site-packages\\wandb\\sdk\\lib\\sock_client.py\", line 155, in send_server_request\n",
      "    self._send_message(msg)\n",
      "  File \"c:\\Users\\mathe\\AppData\\Local\\Programs\\Python\\Python310\\lib\\site-packages\\wandb\\sdk\\lib\\sock_client.py\", line 152, in _send_message\n",
      "    self._sendall_with_error_handle(header + data)\n",
      "  File \"c:\\Users\\mathe\\AppData\\Local\\Programs\\Python\\Python310\\lib\\site-packages\\wandb\\sdk\\lib\\sock_client.py\", line 130, in _sendall_with_error_handle\n",
      "    sent = self._sock.send(data)\n",
      "ConnectionAbortedError: [WinError 10053] Uma conexão estabelecida foi anulada pelo software no computador host\n",
      "\u001b[34m\u001b[1mwandb\u001b[0m: Sweep Agent: Waiting for job.\n",
      "\u001b[34m\u001b[1mwandb\u001b[0m: Job received.\n",
      "\u001b[34m\u001b[1mwandb\u001b[0m: Agent Starting Run: axil0zdf with config:\n",
      "\u001b[34m\u001b[1mwandb\u001b[0m: \tactivation_1: softmax\n",
      "\u001b[34m\u001b[1mwandb\u001b[0m: \tactivation_2: softmax\n",
      "\u001b[34m\u001b[1mwandb\u001b[0m: \tbatch_size: 16\n",
      "\u001b[34m\u001b[1mwandb\u001b[0m: \tdropout: 0.2\n",
      "\u001b[34m\u001b[1mwandb\u001b[0m: \tlayer_1: 128\n",
      "\u001b[34m\u001b[1mwandb\u001b[0m: \toptimizer: sgd\n",
      "Exception in thread Thread-75 (_run_job):\n",
      "Traceback (most recent call last):\n",
      "  File \"c:\\Users\\mathe\\AppData\\Local\\Programs\\Python\\Python310\\lib\\site-packages\\wandb\\agents\\pyagent.py\", line 298, in _run_job\n",
      "    self._function()\n",
      "TypeError: model() missing 6 required positional arguments: 'layer_1', 'activation_1', 'dropout', 'activation_2', 'optimizer', and 'Loss'\n",
      "\n",
      "During handling of the above exception, another exception occurred:\n",
      "\n",
      "Traceback (most recent call last):\n",
      "  File \"c:\\Users\\mathe\\AppData\\Local\\Programs\\Python\\Python310\\lib\\threading.py\", line 1009, in _bootstrap_inner\n",
      "    self.run()\n",
      "  File \"c:\\Users\\mathe\\AppData\\Local\\Programs\\Python\\Python310\\lib\\threading.py\", line 946, in run\n",
      "    self._target(*self._args, **self._kwargs)\n",
      "  File \"c:\\Users\\mathe\\AppData\\Local\\Programs\\Python\\Python310\\lib\\site-packages\\wandb\\agents\\pyagent.py\", line 303, in _run_job\n",
      "    wandb.finish(exit_code=1)\n",
      "  File \"c:\\Users\\mathe\\AppData\\Local\\Programs\\Python\\Python310\\lib\\site-packages\\wandb\\sdk\\wandb_run.py\", line 3686, in finish\n",
      "    wandb.run.finish(exit_code=exit_code, quiet=quiet)\n",
      "  File \"c:\\Users\\mathe\\AppData\\Local\\Programs\\Python\\Python310\\lib\\site-packages\\wandb\\sdk\\wandb_run.py\", line 371, in wrapper\n",
      "    return func(self, *args, **kwargs)\n",
      "  File \"c:\\Users\\mathe\\AppData\\Local\\Programs\\Python\\Python310\\lib\\site-packages\\wandb\\sdk\\wandb_run.py\", line 334, in wrapper\n",
      "    return func(self, *args, **kwargs)\n",
      "  File \"c:\\Users\\mathe\\AppData\\Local\\Programs\\Python\\Python310\\lib\\site-packages\\wandb\\sdk\\wandb_run.py\", line 1845, in finish\n",
      "    return self._finish(exit_code, quiet)\n",
      "  File \"c:\\Users\\mathe\\AppData\\Local\\Programs\\Python\\Python310\\lib\\site-packages\\wandb\\sdk\\wandb_run.py\", line 1852, in _finish\n",
      "    with telemetry.context(run=self) as tel:\n",
      "  File \"c:\\Users\\mathe\\AppData\\Local\\Programs\\Python\\Python310\\lib\\site-packages\\wandb\\sdk\\lib\\telemetry.py\", line 42, in __exit__\n",
      "    self._run._telemetry_callback(self._obj)\n",
      "  File \"c:\\Users\\mathe\\AppData\\Local\\Programs\\Python\\Python310\\lib\\site-packages\\wandb\\sdk\\wandb_run.py\", line 693, in _telemetry_callback\n",
      "    self._telemetry_flush()\n",
      "  File \"c:\\Users\\mathe\\AppData\\Local\\Programs\\Python\\Python310\\lib\\site-packages\\wandb\\sdk\\wandb_run.py\", line 704, in _telemetry_flush\n",
      "    self._backend.interface._publish_telemetry(self._telemetry_obj)\n",
      "  File \"c:\\Users\\mathe\\AppData\\Local\\Programs\\Python\\Python310\\lib\\site-packages\\wandb\\sdk\\interface\\interface_shared.py\", line 101, in _publish_telemetry\n",
      "    self._publish(rec)\n",
      "  File \"c:\\Users\\mathe\\AppData\\Local\\Programs\\Python\\Python310\\lib\\site-packages\\wandb\\sdk\\interface\\interface_sock.py\", line 51, in _publish\n",
      "    self._sock_client.send_record_publish(record)\n",
      "  File \"c:\\Users\\mathe\\AppData\\Local\\Programs\\Python\\Python310\\lib\\site-packages\\wandb\\sdk\\lib\\sock_client.py\", line 221, in send_record_publish\n",
      "    self.send_server_request(server_req)\n",
      "  File \"c:\\Users\\mathe\\AppData\\Local\\Programs\\Python\\Python310\\lib\\site-packages\\wandb\\sdk\\lib\\sock_client.py\", line 155, in send_server_request\n",
      "    self._send_message(msg)\n",
      "  File \"c:\\Users\\mathe\\AppData\\Local\\Programs\\Python\\Python310\\lib\\site-packages\\wandb\\sdk\\lib\\sock_client.py\", line 152, in _send_message\n",
      "    self._sendall_with_error_handle(header + data)\n",
      "  File \"c:\\Users\\mathe\\AppData\\Local\\Programs\\Python\\Python310\\lib\\site-packages\\wandb\\sdk\\lib\\sock_client.py\", line 130, in _sendall_with_error_handle\n",
      "    sent = self._sock.send(data)\n",
      "ConnectionAbortedError: [WinError 10053] Uma conexão estabelecida foi anulada pelo software no computador host\n",
      "\u001b[34m\u001b[1mwandb\u001b[0m: Agent Starting Run: 480357p3 with config:\n",
      "\u001b[34m\u001b[1mwandb\u001b[0m: \tactivation_1: softmax\n",
      "\u001b[34m\u001b[1mwandb\u001b[0m: \tactivation_2: softmax\n",
      "\u001b[34m\u001b[1mwandb\u001b[0m: \tbatch_size: 16\n",
      "\u001b[34m\u001b[1mwandb\u001b[0m: \tdropout: 0.2\n",
      "\u001b[34m\u001b[1mwandb\u001b[0m: \tlayer_1: 256\n",
      "\u001b[34m\u001b[1mwandb\u001b[0m: \toptimizer: adam\n",
      "Exception in thread Thread-76 (_run_job):\n",
      "Traceback (most recent call last):\n",
      "  File \"c:\\Users\\mathe\\AppData\\Local\\Programs\\Python\\Python310\\lib\\site-packages\\wandb\\agents\\pyagent.py\", line 298, in _run_job\n",
      "    self._function()\n",
      "TypeError: model() missing 6 required positional arguments: 'layer_1', 'activation_1', 'dropout', 'activation_2', 'optimizer', and 'Loss'\n",
      "\n",
      "During handling of the above exception, another exception occurred:\n",
      "\n",
      "Traceback (most recent call last):\n",
      "  File \"c:\\Users\\mathe\\AppData\\Local\\Programs\\Python\\Python310\\lib\\threading.py\", line 1009, in _bootstrap_inner\n",
      "    self.run()\n",
      "  File \"c:\\Users\\mathe\\AppData\\Local\\Programs\\Python\\Python310\\lib\\threading.py\", line 946, in run\n",
      "    self._target(*self._args, **self._kwargs)\n",
      "  File \"c:\\Users\\mathe\\AppData\\Local\\Programs\\Python\\Python310\\lib\\site-packages\\wandb\\agents\\pyagent.py\", line 303, in _run_job\n",
      "    wandb.finish(exit_code=1)\n",
      "  File \"c:\\Users\\mathe\\AppData\\Local\\Programs\\Python\\Python310\\lib\\site-packages\\wandb\\sdk\\wandb_run.py\", line 3686, in finish\n",
      "    wandb.run.finish(exit_code=exit_code, quiet=quiet)\n",
      "  File \"c:\\Users\\mathe\\AppData\\Local\\Programs\\Python\\Python310\\lib\\site-packages\\wandb\\sdk\\wandb_run.py\", line 371, in wrapper\n",
      "    return func(self, *args, **kwargs)\n",
      "  File \"c:\\Users\\mathe\\AppData\\Local\\Programs\\Python\\Python310\\lib\\site-packages\\wandb\\sdk\\wandb_run.py\", line 334, in wrapper\n",
      "    return func(self, *args, **kwargs)\n",
      "  File \"c:\\Users\\mathe\\AppData\\Local\\Programs\\Python\\Python310\\lib\\site-packages\\wandb\\sdk\\wandb_run.py\", line 1845, in finish\n",
      "    return self._finish(exit_code, quiet)\n",
      "  File \"c:\\Users\\mathe\\AppData\\Local\\Programs\\Python\\Python310\\lib\\site-packages\\wandb\\sdk\\wandb_run.py\", line 1852, in _finish\n",
      "    with telemetry.context(run=self) as tel:\n",
      "  File \"c:\\Users\\mathe\\AppData\\Local\\Programs\\Python\\Python310\\lib\\site-packages\\wandb\\sdk\\lib\\telemetry.py\", line 42, in __exit__\n",
      "    self._run._telemetry_callback(self._obj)\n",
      "  File \"c:\\Users\\mathe\\AppData\\Local\\Programs\\Python\\Python310\\lib\\site-packages\\wandb\\sdk\\wandb_run.py\", line 693, in _telemetry_callback\n",
      "    self._telemetry_flush()\n",
      "  File \"c:\\Users\\mathe\\AppData\\Local\\Programs\\Python\\Python310\\lib\\site-packages\\wandb\\sdk\\wandb_run.py\", line 704, in _telemetry_flush\n",
      "    self._backend.interface._publish_telemetry(self._telemetry_obj)\n",
      "  File \"c:\\Users\\mathe\\AppData\\Local\\Programs\\Python\\Python310\\lib\\site-packages\\wandb\\sdk\\interface\\interface_shared.py\", line 101, in _publish_telemetry\n",
      "    self._publish(rec)\n",
      "  File \"c:\\Users\\mathe\\AppData\\Local\\Programs\\Python\\Python310\\lib\\site-packages\\wandb\\sdk\\interface\\interface_sock.py\", line 51, in _publish\n",
      "    self._sock_client.send_record_publish(record)\n",
      "  File \"c:\\Users\\mathe\\AppData\\Local\\Programs\\Python\\Python310\\lib\\site-packages\\wandb\\sdk\\lib\\sock_client.py\", line 221, in send_record_publish\n",
      "    self.send_server_request(server_req)\n",
      "  File \"c:\\Users\\mathe\\AppData\\Local\\Programs\\Python\\Python310\\lib\\site-packages\\wandb\\sdk\\lib\\sock_client.py\", line 155, in send_server_request\n",
      "    self._send_message(msg)\n",
      "  File \"c:\\Users\\mathe\\AppData\\Local\\Programs\\Python\\Python310\\lib\\site-packages\\wandb\\sdk\\lib\\sock_client.py\", line 152, in _send_message\n",
      "    self._sendall_with_error_handle(header + data)\n",
      "  File \"c:\\Users\\mathe\\AppData\\Local\\Programs\\Python\\Python310\\lib\\site-packages\\wandb\\sdk\\lib\\sock_client.py\", line 130, in _sendall_with_error_handle\n",
      "    sent = self._sock.send(data)\n",
      "ConnectionAbortedError: [WinError 10053] Uma conexão estabelecida foi anulada pelo software no computador host\n",
      "\u001b[34m\u001b[1mwandb\u001b[0m: Sweep Agent: Waiting for job.\n",
      "\u001b[34m\u001b[1mwandb\u001b[0m: Job received.\n",
      "\u001b[34m\u001b[1mwandb\u001b[0m: Agent Starting Run: 3fk1izgq with config:\n",
      "\u001b[34m\u001b[1mwandb\u001b[0m: \tactivation_1: softmax\n",
      "\u001b[34m\u001b[1mwandb\u001b[0m: \tactivation_2: softmax\n",
      "\u001b[34m\u001b[1mwandb\u001b[0m: \tbatch_size: 16\n",
      "\u001b[34m\u001b[1mwandb\u001b[0m: \tdropout: 0.2\n",
      "\u001b[34m\u001b[1mwandb\u001b[0m: \tlayer_1: 256\n",
      "\u001b[34m\u001b[1mwandb\u001b[0m: \toptimizer: sgd\n",
      "Exception in thread Thread-77 (_run_job):\n",
      "Traceback (most recent call last):\n",
      "  File \"c:\\Users\\mathe\\AppData\\Local\\Programs\\Python\\Python310\\lib\\site-packages\\wandb\\agents\\pyagent.py\", line 298, in _run_job\n",
      "    self._function()\n",
      "TypeError: model() missing 6 required positional arguments: 'layer_1', 'activation_1', 'dropout', 'activation_2', 'optimizer', and 'Loss'\n",
      "\n",
      "During handling of the above exception, another exception occurred:\n",
      "\n",
      "Traceback (most recent call last):\n",
      "  File \"c:\\Users\\mathe\\AppData\\Local\\Programs\\Python\\Python310\\lib\\threading.py\", line 1009, in _bootstrap_inner\n",
      "    self.run()\n",
      "  File \"c:\\Users\\mathe\\AppData\\Local\\Programs\\Python\\Python310\\lib\\threading.py\", line 946, in run\n",
      "    self._target(*self._args, **self._kwargs)\n",
      "  File \"c:\\Users\\mathe\\AppData\\Local\\Programs\\Python\\Python310\\lib\\site-packages\\wandb\\agents\\pyagent.py\", line 303, in _run_job\n",
      "    wandb.finish(exit_code=1)\n",
      "  File \"c:\\Users\\mathe\\AppData\\Local\\Programs\\Python\\Python310\\lib\\site-packages\\wandb\\sdk\\wandb_run.py\", line 3686, in finish\n",
      "    wandb.run.finish(exit_code=exit_code, quiet=quiet)\n",
      "  File \"c:\\Users\\mathe\\AppData\\Local\\Programs\\Python\\Python310\\lib\\site-packages\\wandb\\sdk\\wandb_run.py\", line 371, in wrapper\n",
      "    return func(self, *args, **kwargs)\n",
      "  File \"c:\\Users\\mathe\\AppData\\Local\\Programs\\Python\\Python310\\lib\\site-packages\\wandb\\sdk\\wandb_run.py\", line 334, in wrapper\n",
      "    return func(self, *args, **kwargs)\n",
      "  File \"c:\\Users\\mathe\\AppData\\Local\\Programs\\Python\\Python310\\lib\\site-packages\\wandb\\sdk\\wandb_run.py\", line 1845, in finish\n",
      "    return self._finish(exit_code, quiet)\n",
      "  File \"c:\\Users\\mathe\\AppData\\Local\\Programs\\Python\\Python310\\lib\\site-packages\\wandb\\sdk\\wandb_run.py\", line 1852, in _finish\n",
      "    with telemetry.context(run=self) as tel:\n",
      "  File \"c:\\Users\\mathe\\AppData\\Local\\Programs\\Python\\Python310\\lib\\site-packages\\wandb\\sdk\\lib\\telemetry.py\", line 42, in __exit__\n",
      "    self._run._telemetry_callback(self._obj)\n",
      "  File \"c:\\Users\\mathe\\AppData\\Local\\Programs\\Python\\Python310\\lib\\site-packages\\wandb\\sdk\\wandb_run.py\", line 693, in _telemetry_callback\n",
      "    self._telemetry_flush()\n",
      "  File \"c:\\Users\\mathe\\AppData\\Local\\Programs\\Python\\Python310\\lib\\site-packages\\wandb\\sdk\\wandb_run.py\", line 704, in _telemetry_flush\n",
      "    self._backend.interface._publish_telemetry(self._telemetry_obj)\n",
      "  File \"c:\\Users\\mathe\\AppData\\Local\\Programs\\Python\\Python310\\lib\\site-packages\\wandb\\sdk\\interface\\interface_shared.py\", line 101, in _publish_telemetry\n",
      "    self._publish(rec)\n",
      "  File \"c:\\Users\\mathe\\AppData\\Local\\Programs\\Python\\Python310\\lib\\site-packages\\wandb\\sdk\\interface\\interface_sock.py\", line 51, in _publish\n",
      "    self._sock_client.send_record_publish(record)\n",
      "  File \"c:\\Users\\mathe\\AppData\\Local\\Programs\\Python\\Python310\\lib\\site-packages\\wandb\\sdk\\lib\\sock_client.py\", line 221, in send_record_publish\n",
      "    self.send_server_request(server_req)\n",
      "  File \"c:\\Users\\mathe\\AppData\\Local\\Programs\\Python\\Python310\\lib\\site-packages\\wandb\\sdk\\lib\\sock_client.py\", line 155, in send_server_request\n",
      "    self._send_message(msg)\n",
      "  File \"c:\\Users\\mathe\\AppData\\Local\\Programs\\Python\\Python310\\lib\\site-packages\\wandb\\sdk\\lib\\sock_client.py\", line 152, in _send_message\n",
      "    self._sendall_with_error_handle(header + data)\n",
      "  File \"c:\\Users\\mathe\\AppData\\Local\\Programs\\Python\\Python310\\lib\\site-packages\\wandb\\sdk\\lib\\sock_client.py\", line 130, in _sendall_with_error_handle\n",
      "    sent = self._sock.send(data)\n",
      "ConnectionAbortedError: [WinError 10053] Uma conexão estabelecida foi anulada pelo software no computador host\n",
      "\u001b[34m\u001b[1mwandb\u001b[0m: Agent Starting Run: 3vhfh8wp with config:\n",
      "\u001b[34m\u001b[1mwandb\u001b[0m: \tactivation_1: softmax\n",
      "\u001b[34m\u001b[1mwandb\u001b[0m: \tactivation_2: softmax\n",
      "\u001b[34m\u001b[1mwandb\u001b[0m: \tbatch_size: 16\n",
      "\u001b[34m\u001b[1mwandb\u001b[0m: \tdropout: 0.2\n",
      "\u001b[34m\u001b[1mwandb\u001b[0m: \tlayer_1: 512\n",
      "\u001b[34m\u001b[1mwandb\u001b[0m: \toptimizer: adam\n",
      "Exception in thread Thread-78 (_run_job):\n",
      "Traceback (most recent call last):\n",
      "  File \"c:\\Users\\mathe\\AppData\\Local\\Programs\\Python\\Python310\\lib\\site-packages\\wandb\\agents\\pyagent.py\", line 298, in _run_job\n",
      "    self._function()\n",
      "TypeError: model() missing 6 required positional arguments: 'layer_1', 'activation_1', 'dropout', 'activation_2', 'optimizer', and 'Loss'\n",
      "\n",
      "During handling of the above exception, another exception occurred:\n",
      "\n",
      "Traceback (most recent call last):\n",
      "  File \"c:\\Users\\mathe\\AppData\\Local\\Programs\\Python\\Python310\\lib\\threading.py\", line 1009, in _bootstrap_inner\n",
      "    self.run()\n",
      "  File \"c:\\Users\\mathe\\AppData\\Local\\Programs\\Python\\Python310\\lib\\threading.py\", line 946, in run\n",
      "    self._target(*self._args, **self._kwargs)\n",
      "  File \"c:\\Users\\mathe\\AppData\\Local\\Programs\\Python\\Python310\\lib\\site-packages\\wandb\\agents\\pyagent.py\", line 303, in _run_job\n",
      "    wandb.finish(exit_code=1)\n",
      "  File \"c:\\Users\\mathe\\AppData\\Local\\Programs\\Python\\Python310\\lib\\site-packages\\wandb\\sdk\\wandb_run.py\", line 3686, in finish\n",
      "    wandb.run.finish(exit_code=exit_code, quiet=quiet)\n",
      "  File \"c:\\Users\\mathe\\AppData\\Local\\Programs\\Python\\Python310\\lib\\site-packages\\wandb\\sdk\\wandb_run.py\", line 371, in wrapper\n",
      "    return func(self, *args, **kwargs)\n",
      "  File \"c:\\Users\\mathe\\AppData\\Local\\Programs\\Python\\Python310\\lib\\site-packages\\wandb\\sdk\\wandb_run.py\", line 334, in wrapper\n",
      "    return func(self, *args, **kwargs)\n",
      "  File \"c:\\Users\\mathe\\AppData\\Local\\Programs\\Python\\Python310\\lib\\site-packages\\wandb\\sdk\\wandb_run.py\", line 1845, in finish\n",
      "    return self._finish(exit_code, quiet)\n",
      "  File \"c:\\Users\\mathe\\AppData\\Local\\Programs\\Python\\Python310\\lib\\site-packages\\wandb\\sdk\\wandb_run.py\", line 1852, in _finish\n",
      "    with telemetry.context(run=self) as tel:\n",
      "  File \"c:\\Users\\mathe\\AppData\\Local\\Programs\\Python\\Python310\\lib\\site-packages\\wandb\\sdk\\lib\\telemetry.py\", line 42, in __exit__\n",
      "    self._run._telemetry_callback(self._obj)\n",
      "  File \"c:\\Users\\mathe\\AppData\\Local\\Programs\\Python\\Python310\\lib\\site-packages\\wandb\\sdk\\wandb_run.py\", line 693, in _telemetry_callback\n",
      "    self._telemetry_flush()\n",
      "  File \"c:\\Users\\mathe\\AppData\\Local\\Programs\\Python\\Python310\\lib\\site-packages\\wandb\\sdk\\wandb_run.py\", line 704, in _telemetry_flush\n",
      "    self._backend.interface._publish_telemetry(self._telemetry_obj)\n",
      "  File \"c:\\Users\\mathe\\AppData\\Local\\Programs\\Python\\Python310\\lib\\site-packages\\wandb\\sdk\\interface\\interface_shared.py\", line 101, in _publish_telemetry\n",
      "    self._publish(rec)\n",
      "  File \"c:\\Users\\mathe\\AppData\\Local\\Programs\\Python\\Python310\\lib\\site-packages\\wandb\\sdk\\interface\\interface_sock.py\", line 51, in _publish\n",
      "    self._sock_client.send_record_publish(record)\n",
      "  File \"c:\\Users\\mathe\\AppData\\Local\\Programs\\Python\\Python310\\lib\\site-packages\\wandb\\sdk\\lib\\sock_client.py\", line 221, in send_record_publish\n",
      "    self.send_server_request(server_req)\n",
      "  File \"c:\\Users\\mathe\\AppData\\Local\\Programs\\Python\\Python310\\lib\\site-packages\\wandb\\sdk\\lib\\sock_client.py\", line 155, in send_server_request\n",
      "    self._send_message(msg)\n",
      "  File \"c:\\Users\\mathe\\AppData\\Local\\Programs\\Python\\Python310\\lib\\site-packages\\wandb\\sdk\\lib\\sock_client.py\", line 152, in _send_message\n",
      "    self._sendall_with_error_handle(header + data)\n",
      "  File \"c:\\Users\\mathe\\AppData\\Local\\Programs\\Python\\Python310\\lib\\site-packages\\wandb\\sdk\\lib\\sock_client.py\", line 130, in _sendall_with_error_handle\n",
      "    sent = self._sock.send(data)\n",
      "ConnectionAbortedError: [WinError 10053] Uma conexão estabelecida foi anulada pelo software no computador host\n",
      "\u001b[34m\u001b[1mwandb\u001b[0m: Sweep Agent: Waiting for job.\n",
      "\u001b[34m\u001b[1mwandb\u001b[0m: Job received.\n",
      "\u001b[34m\u001b[1mwandb\u001b[0m: Agent Starting Run: vvr1e9dd with config:\n",
      "\u001b[34m\u001b[1mwandb\u001b[0m: \tactivation_1: softmax\n",
      "\u001b[34m\u001b[1mwandb\u001b[0m: \tactivation_2: softmax\n",
      "\u001b[34m\u001b[1mwandb\u001b[0m: \tbatch_size: 16\n",
      "\u001b[34m\u001b[1mwandb\u001b[0m: \tdropout: 0.2\n",
      "\u001b[34m\u001b[1mwandb\u001b[0m: \tlayer_1: 512\n",
      "\u001b[34m\u001b[1mwandb\u001b[0m: \toptimizer: sgd\n",
      "Exception in thread Thread-79 (_run_job):\n",
      "Traceback (most recent call last):\n",
      "  File \"c:\\Users\\mathe\\AppData\\Local\\Programs\\Python\\Python310\\lib\\site-packages\\wandb\\agents\\pyagent.py\", line 298, in _run_job\n",
      "    self._function()\n",
      "TypeError: model() missing 6 required positional arguments: 'layer_1', 'activation_1', 'dropout', 'activation_2', 'optimizer', and 'Loss'\n",
      "\n",
      "During handling of the above exception, another exception occurred:\n",
      "\n",
      "Traceback (most recent call last):\n",
      "  File \"c:\\Users\\mathe\\AppData\\Local\\Programs\\Python\\Python310\\lib\\threading.py\", line 1009, in _bootstrap_inner\n",
      "    self.run()\n",
      "  File \"c:\\Users\\mathe\\AppData\\Local\\Programs\\Python\\Python310\\lib\\threading.py\", line 946, in run\n",
      "    self._target(*self._args, **self._kwargs)\n",
      "  File \"c:\\Users\\mathe\\AppData\\Local\\Programs\\Python\\Python310\\lib\\site-packages\\wandb\\agents\\pyagent.py\", line 303, in _run_job\n",
      "    wandb.finish(exit_code=1)\n",
      "  File \"c:\\Users\\mathe\\AppData\\Local\\Programs\\Python\\Python310\\lib\\site-packages\\wandb\\sdk\\wandb_run.py\", line 3686, in finish\n",
      "    wandb.run.finish(exit_code=exit_code, quiet=quiet)\n",
      "  File \"c:\\Users\\mathe\\AppData\\Local\\Programs\\Python\\Python310\\lib\\site-packages\\wandb\\sdk\\wandb_run.py\", line 371, in wrapper\n",
      "    return func(self, *args, **kwargs)\n",
      "  File \"c:\\Users\\mathe\\AppData\\Local\\Programs\\Python\\Python310\\lib\\site-packages\\wandb\\sdk\\wandb_run.py\", line 334, in wrapper\n",
      "    return func(self, *args, **kwargs)\n",
      "  File \"c:\\Users\\mathe\\AppData\\Local\\Programs\\Python\\Python310\\lib\\site-packages\\wandb\\sdk\\wandb_run.py\", line 1845, in finish\n",
      "    return self._finish(exit_code, quiet)\n",
      "  File \"c:\\Users\\mathe\\AppData\\Local\\Programs\\Python\\Python310\\lib\\site-packages\\wandb\\sdk\\wandb_run.py\", line 1852, in _finish\n",
      "    with telemetry.context(run=self) as tel:\n",
      "  File \"c:\\Users\\mathe\\AppData\\Local\\Programs\\Python\\Python310\\lib\\site-packages\\wandb\\sdk\\lib\\telemetry.py\", line 42, in __exit__\n",
      "    self._run._telemetry_callback(self._obj)\n",
      "  File \"c:\\Users\\mathe\\AppData\\Local\\Programs\\Python\\Python310\\lib\\site-packages\\wandb\\sdk\\wandb_run.py\", line 693, in _telemetry_callback\n",
      "    self._telemetry_flush()\n",
      "  File \"c:\\Users\\mathe\\AppData\\Local\\Programs\\Python\\Python310\\lib\\site-packages\\wandb\\sdk\\wandb_run.py\", line 704, in _telemetry_flush\n",
      "    self._backend.interface._publish_telemetry(self._telemetry_obj)\n",
      "  File \"c:\\Users\\mathe\\AppData\\Local\\Programs\\Python\\Python310\\lib\\site-packages\\wandb\\sdk\\interface\\interface_shared.py\", line 101, in _publish_telemetry\n",
      "    self._publish(rec)\n",
      "  File \"c:\\Users\\mathe\\AppData\\Local\\Programs\\Python\\Python310\\lib\\site-packages\\wandb\\sdk\\interface\\interface_sock.py\", line 51, in _publish\n",
      "    self._sock_client.send_record_publish(record)\n",
      "  File \"c:\\Users\\mathe\\AppData\\Local\\Programs\\Python\\Python310\\lib\\site-packages\\wandb\\sdk\\lib\\sock_client.py\", line 221, in send_record_publish\n",
      "    self.send_server_request(server_req)\n",
      "  File \"c:\\Users\\mathe\\AppData\\Local\\Programs\\Python\\Python310\\lib\\site-packages\\wandb\\sdk\\lib\\sock_client.py\", line 155, in send_server_request\n",
      "    self._send_message(msg)\n",
      "  File \"c:\\Users\\mathe\\AppData\\Local\\Programs\\Python\\Python310\\lib\\site-packages\\wandb\\sdk\\lib\\sock_client.py\", line 152, in _send_message\n",
      "    self._sendall_with_error_handle(header + data)\n",
      "  File \"c:\\Users\\mathe\\AppData\\Local\\Programs\\Python\\Python310\\lib\\site-packages\\wandb\\sdk\\lib\\sock_client.py\", line 130, in _sendall_with_error_handle\n",
      "    sent = self._sock.send(data)\n",
      "ConnectionAbortedError: [WinError 10053] Uma conexão estabelecida foi anulada pelo software no computador host\n"
     ]
    }
   ],
   "source": [
    "wandb.init(project='wandb-test')\n",
    "wandb.agent(sweep_id, function = model, count=10)\n"
   ]
  }
 ],
 "metadata": {
  "kernelspec": {
   "display_name": "Python 3",
   "language": "python",
   "name": "python3"
  },
  "language_info": {
   "codemirror_mode": {
    "name": "ipython",
    "version": 3
   },
   "file_extension": ".py",
   "mimetype": "text/x-python",
   "name": "python",
   "nbconvert_exporter": "python",
   "pygments_lexer": "ipython3",
   "version": "3.10.0"
  },
  "vscode": {
   "interpreter": {
    "hash": "8d3e54fe3ce154e32ac346abb9a52721706f8b6192d2a6d9e7d1f2a1d569502c"
   }
  }
 },
 "nbformat": 4,
 "nbformat_minor": 5
}
