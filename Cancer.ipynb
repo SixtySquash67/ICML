{
 "cells": [
  {
   "cell_type": "code",
   "execution_count": 1,
   "id": "ce90bd9d",
   "metadata": {},
   "outputs": [],
   "source": [
    "import numpy as np\n",
    "import pandas as pd\n",
    "import matplotlib.pyplot as plt\n",
    "import seaborn as sn\n",
    "import random as rd\n",
    "import scipy.stats as stats\n",
    "from numpy.random import random as rand\n",
    "from mpl_toolkits.mplot3d import Axes3D"
   ]
  },
  {
   "cell_type": "code",
   "execution_count": 2,
   "id": "3a5bc0ae",
   "metadata": {},
   "outputs": [],
   "source": [
    "df = pd.DataFrame(pd.read_csv(\"cancerdata.csv\"))\n",
    "df['diagnosis'] = df['diagnosis'].replace(['B'], 0)\n",
    "df['diagnosis'] = df['diagnosis'].replace(['M'], 1)\n",
    "df['diagnosis'] = pd.to_numeric(df['diagnosis'])\n",
    "train = df.sample(frac=0.8, random_state=25)\n",
    "test = df.drop(train.index)\n",
    "#test_0 = test\n",
    "#test_0 = test_0.loc[test_0['diagnosis'] == 0]\n",
    "#test_1 = test\n",
    "#test_1 = test_1.loc[test_1['diagnosis'] == 1]"
   ]
  },
  {
   "cell_type": "code",
   "execution_count": 3,
   "id": "028ac7c7",
   "metadata": {},
   "outputs": [
    {
     "name": "stdout",
     "output_type": "stream",
     "text": [
      "(455,) 455\n"
     ]
    },
    {
     "data": {
      "text/plain": [
       "114"
      ]
     },
     "execution_count": 3,
     "metadata": {},
     "output_type": "execute_result"
    }
   ],
   "source": [
    "x1 = (train.area_mean.values-train.area_mean.values.min())/(train.area_mean.values.max()-train.area_mean.values.min())\n",
    "x2 = (train.texture_mean.values-train.texture_mean.values.min())/(train.texture_mean.values.max()-train.texture_mean.values.min())\n",
    "x1_test = (test.area_mean.values-test.area_mean.values.min())/(test.area_mean.values.max()-test.area_mean.values.min())\n",
    "x2_test = (test.texture_mean.values-test.texture_mean.values.min())/(test.texture_mean.values.max()-test.texture_mean.values.min())\n",
    "\n",
    "#x1_test0 = (test_0.area_mean.values-test_0.area_mean.values.min())/(test_0.area_mean.values.max()-test_0.area_mean.values.min())\n",
    "#x1_test1 = (test_1.area_mean.values-test_1.area_mean.values.min())/(test_1.area_mean.values.max()-test_1.area_mean.values.min())\n",
    "\n",
    "y = train.diagnosis.values\n",
    "y_test = test.diagnosis.values\n",
    "m = len(y)\n",
    "\n",
    "\n",
    "X = np.array([[1]*len(x1), x1]).T\n",
    "X_test =np.array([[1]*len(x1_test), x1_test]).T\n",
    "#X_test0 =np.array([[1]*len(x1_test0), x1_test0]).T\n",
    "#X_test1 =np.array([[1]*len(x1_test1), x1_test1]).T\n",
    "\n",
    "print(y.shape, m)\n",
    "y_test.size                          #1, area[i]"
   ]
  },
  {
   "cell_type": "code",
   "execution_count": 4,
   "id": "008d0b5e",
   "metadata": {},
   "outputs": [
    {
     "name": "stdout",
     "output_type": "stream",
     "text": [
      "0.03096734347001351 0.2542820732342481\n",
      "-3.729768370530047 15.342932615545674\n"
     ]
    }
   ],
   "source": [
    "np.random.seed(234)\n",
    "n = 2\n",
    "alpha = 0.001\n",
    "contador = 1\n",
    "somatorios = [0,0]\n",
    "W = rand(n)\n",
    "\n",
    "print(W[0], W[1])\n",
    "while (contador < 1000000):\n",
    "    \n",
    "    h = 1/(1+np.exp(-(np.dot(W,X.T))))\n",
    "    for j in range(0,n):\n",
    "        somatorios[j] = ((h - y)*X[:,j]).sum()\n",
    "    #print(somatorios[0],somatorios[1],j)\n",
    "    \n",
    "    for k in range(0,n):\n",
    "        W[k] = W[k] - (alpha/m)*somatorios[k]\n",
    "\n",
    "    contador += 1\n",
    "print(W[0], W[1])"
   ]
  },
  {
   "cell_type": "code",
   "execution_count": 5,
   "id": "5a3757a5",
   "metadata": {},
   "outputs": [],
   "source": [
    "from pdb import set_trace\n",
    "class LogisticRegression:\n",
    "    def __init__(self,alpha=0.001):\n",
    "        self.alpha = alpha\n",
    "    def train(self,X_train,y_train):\n",
    "        set_trace()\n",
    "        np.random.seed(234)\n",
    "        n = X_train.shape[1]\n",
    "        m = y_train.size\n",
    "        contador = 1\n",
    "        somatorios = [0]*n\n",
    "        self.W = rand(n)\n",
    "        self.X_train = X_train\n",
    "        while (contador < 1000000):\n",
    "\n",
    "            h = 1/(1+np.exp(-(np.dot(self.W,X_train.T))))\n",
    "            for j in range(n):\n",
    "                somatorios[j] = ((h - y_train)*X[:,j]).sum()\n",
    "\n",
    "            for k in range(n):\n",
    "                self.W[k] = self.W[k] - (self.alpha/m)*somatorios[k]\n",
    "            contador += 1\n",
    "    def test(self,X_test):\n",
    "        y_pred = 1/(1+np.exp(-(np.dot(self.W,self.X_train.T)))) > 0.5\n",
    "        return y_pred"
   ]
  },
  {
   "cell_type": "code",
   "execution_count": 8,
   "id": "166dbb3b",
   "metadata": {},
   "outputs": [
    {
     "data": {
      "text/plain": [
       "<AxesSubplot:>"
      ]
     },
     "execution_count": 8,
     "metadata": {},
     "output_type": "execute_result"
    },
    {
     "data": {
      "image/png": "[encoded data removed]",
      "text/plain": [
       "<Figure size 360x360 with 2 Axes>"
      ]
     },
     "metadata": {
      "needs_background": "light"
     },
     "output_type": "display_data"
    }
   ],
   "source": [
    "array = [[TP,TN],[FP,FN]]\n",
    "df_cm = pd.DataFrame(array, index = [i for i in [\"True\",\"False\"]],\n",
    "                  columns = [i for i in [\"Positive\",\"Negative\"]])\n",
    "plt.figure(figsize = (5,5))\n",
    "sn.heatmap(df_cm, annot=True)"
   ]
  },
  {
   "attachments": {
    "image.png": {
     "image/png": "[encoded data removed]"
    }
   },
   "cell_type": "markdown",
   "id": "f964f4c7",
   "metadata": {},
   "source": [
    "# Precision\n",
    "![image.png](attachment:image.png)"
   ]
  },
  {
   "cell_type": "code",
   "execution_count": null,
   "id": "8af97542",
   "metadata": {},
   "outputs": [],
   "source": [
    "Precision = TP/(TP + FP)\n",
    "Precision"
   ]
  },
  {
   "attachments": {
    "image.png": {
     "image/png": "[encoded data removed]"
    }
   },
   "cell_type": "markdown",
   "id": "3a9dc14f",
   "metadata": {},
   "source": [
    "# Recall\n",
    "![image.png](attachment:image.png)"
   ]
  },
  {
   "cell_type": "code",
   "execution_count": null,
   "id": "ba2e4a47",
   "metadata": {},
   "outputs": [],
   "source": [
    "Recall = TP / (TP + FN)\n",
    "Recall"
   ]
  },
  {
   "attachments": {
    "image.png": {
     "image/png": "[encoded data removed]"
    }
   },
   "cell_type": "markdown",
   "id": "90e823d0",
   "metadata": {},
   "source": [
    "# Specificity\n",
    "![image.png](attachment:image.png)"
   ]
  },
  {
   "cell_type": "code",
   "execution_count": null,
   "id": "61b6d537",
   "metadata": {},
   "outputs": [],
   "source": [
    "Specificity = TN / (TN + FP)\n",
    "Specificity"
   ]
  },
  {
   "attachments": {
    "image.png": {
     "image/png": "[encoded data removed]"
    }
   },
   "cell_type": "markdown",
   "id": "39ac1662",
   "metadata": {},
   "source": [
    "# F1-Score\n",
    "F1-Score is a measure combining both precision and recall. It is generally described as the harmonic mean of the two. Harmonic mean is just another way to calculate an “average” of values, generally described as more suitable for ratios (such as precision and recall) than the traditional arithmetic mean.\n",
    "![image.png](attachment:image.png)"
   ]
  },
  {
   "cell_type": "code",
   "execution_count": null,
   "id": "380bc16c",
   "metadata": {},
   "outputs": [],
   "source": [
    "F1 = 2 * ( Precision * Recall / (Precision + Recall) )\n",
    "F1"
   ]
  },
  {
   "attachments": {
    "image.png": {
     "image/png": "[encoded data removed]"
    }
   },
   "cell_type": "markdown",
   "id": "32256591",
   "metadata": {},
   "source": [
    "# Balanced Accuracy\n",
    "![image.png](attachment:image.png)"
   ]
  },
  {
   "cell_type": "code",
   "execution_count": null,
   "id": "f3dc2adf",
   "metadata": {},
   "outputs": [],
   "source": [
    "BA = (Recall + Specificity) / 2\n",
    "BA"
   ]
  },
  {
   "cell_type": "code",
   "execution_count": null,
   "id": "34ae9857",
   "metadata": {},
   "outputs": [],
   "source": [
    "import numpy as np\n",
    "from sklearn.model_selection import StratifiedKFold\n",
    "#X = np.array([[5, 6], [7, 8], [9, 10], [11,12], [13,14], [15,16]])\n",
    "#y = np.array([0, 0, 1, 1, 2, 2])\n",
    "\n",
    "skf = StratifiedKFold(n_splits=2)\n",
    "print([(i,j) for i,j in skf.split(X, y)])\n",
    "\n",
    "for train_index, test_index in skf.split(X, y):\n",
    "    print(\"TRAIN:\", train_index, \"TEST:\", test_index)\n",
    "    X_train, X_test = X[train_index], X[test_index]\n",
    "    y_train, y_test = y[train_index], y[test_index]"
   ]
  },
  {
   "cell_type": "code",
   "execution_count": 7,
   "id": "6c7bc2cc",
   "metadata": {},
   "outputs": [
    {
     "name": "stdout",
     "output_type": "stream",
     "text": [
      "(569, 2) 569\n"
     ]
    },
    {
     "data": {
      "text/plain": [
       "StratifiedKFold(n_splits=10, random_state=None, shuffle=False)"
      ]
     },
     "execution_count": 7,
     "metadata": {},
     "output_type": "execute_result"
    }
   ],
   "source": [
    "import numpy as np\n",
    "from sklearn.model_selection import StratifiedKFold\n",
    "\n",
    "df = pd.DataFrame(pd.read_csv(\"cancerdata.csv\"))\n",
    "df['diagnosis'] = df['diagnosis'].replace(['B'], 0)\n",
    "df['diagnosis'] = df['diagnosis'].replace(['M'], 1)\n",
    "df['diagnosis'] = pd.to_numeric(df['diagnosis'])\n",
    "y = df['diagnosis'].to_numpy()\n",
    "X = (df.area_mean.values-df.area_mean.values.min())/(df.area_mean.values.max()-df.area_mean.values.min())\n",
    "\n",
    "X = np.array([[1]*len(X), X]).T\n",
    "print(X.shape, y.size)\n",
    "\n",
    "skf = StratifiedKFold(n_splits = 10)\n",
    "#print([(i,j) for i,j in skf.split(X, y)])\n"
   ]
  },
  {
   "cell_type": "code",
   "execution_count": null,
   "id": "25bf0546",
   "metadata": {},
   "outputs": [],
   "source": [
    "LR = LogisticRegression()\n",
    "for train_index, test_index in skf.split(X, y):\n",
    "    print(\"TRAIN:\", train_index.size, \"TEST:\", test_index.size)\n",
    "    X_train, X_test = X[train_index], X[test_index]\n",
    "    y_train, y_test = y[train_index], y[test_index]\n",
    "    LR.train(X_train,y_train)"
   ]
  },
  {
   "cell_type": "code",
   "execution_count": 6,
   "id": "b0dd94a5",
   "metadata": {
    "scrolled": true
   },
   "outputs": [
    {
     "ename": "NameError",
     "evalue": "name 'y_pred' is not defined",
     "output_type": "error",
     "traceback": [
      "\u001b[1;31m---------------------------------------------------------------------------\u001b[0m",
      "\u001b[1;31mNameError\u001b[0m                                 Traceback (most recent call last)",
      "Input \u001b[1;32mIn [6]\u001b[0m, in \u001b[0;36m<module>\u001b[1;34m\u001b[0m\n\u001b[0;32m      3\u001b[0m TN \u001b[38;5;241m=\u001b[39m \u001b[38;5;241m0\u001b[39m\n\u001b[0;32m      4\u001b[0m FN \u001b[38;5;241m=\u001b[39m \u001b[38;5;241m0\u001b[39m\n\u001b[1;32m----> 6\u001b[0m \u001b[38;5;28;01mfor\u001b[39;00m i \u001b[38;5;129;01min\u001b[39;00m \u001b[38;5;28mrange\u001b[39m(\u001b[38;5;28mlen\u001b[39m(\u001b[43my_pred\u001b[49m)): \n\u001b[0;32m      7\u001b[0m     \u001b[38;5;28;01mif\u001b[39;00m y_pred[i] \u001b[38;5;241m==\u001b[39m \u001b[38;5;241m1\u001b[39m \u001b[38;5;129;01mand\u001b[39;00m y_test[i] \u001b[38;5;241m==\u001b[39m \u001b[38;5;241m1\u001b[39m:\n\u001b[0;32m      8\u001b[0m        TP \u001b[38;5;241m+\u001b[39m\u001b[38;5;241m=\u001b[39m \u001b[38;5;241m1\u001b[39m\n",
      "\u001b[1;31mNameError\u001b[0m: name 'y_pred' is not defined"
     ]
    }
   ],
   "source": [
    "TP = 0\n",
    "FP = 0\n",
    "TN = 0\n",
    "FN = 0\n",
    "\n",
    "for i in range(len(y_pred)): \n",
    "    if y_pred[i] == 1 and y_test[i] == 1:\n",
    "       TP += 1\n",
    "    if y_pred[i] == 1 and y_test[i] == 0:\n",
    "       FP += 1\n",
    "    if y_pred[i] == 0 and y_test[i] == 0:\n",
    "       TN += 1\n",
    "    if y_pred[i] == 0 and y_test[i] == 1:\n",
    "       FN += 1\n",
    "print(\"True Positive = \" ,TP,\"\\nFalse Positive =\",FP,\"\\nTrue Negative = \",TN,\"\\nFalse Negative =\", FN)"
   ]
  },
  {
   "cell_type": "code",
   "execution_count": null,
   "id": "a5c275c4",
   "metadata": {},
   "outputs": [],
   "source": [
    "z = np.arange(0, 1, 0.0088)\n",
    "z2 = [0.5,0.5,0.5,0.5,0.5,0.5,0.5,0.5,0.5,0.5,0.5]\n",
    "h_test = 1/(1+np.exp(-(np.dot(W,X_test.T))))\n",
    "#h_test0 = 1/(1+np.exp(-(np.dot(W,X_test0.T)))) \n",
    "#h_test1 = 1/(1+np.exp(-(np.dot(W,X_test1.T))))\n",
    "\n",
    "plt.plot(y_test, W[1]*z+W[0], color='red', linewidth = 0, marker='X', markerfacecolor='w', markersize=10)\n",
    "plt.plot(x1_test, h_test, color='blue', linewidth = 1)\n",
    "plt.xlabel('Tamanho do tumor')\n",
    "plt.ylabel('Probabilidade')\n",
    "plt.title('Sigmoid')\n",
    "#plt.plot(h, z, 'b', linewidth = 2, markerfacecolor='blue', markersize = 2)\n",
    "plt.xlim(0, 1.1)\n",
    "plt.ylim(0, 1.1)\n",
    "\n",
    "plt.show()"
   ]
  },
  {
   "cell_type": "code",
   "execution_count": null,
   "id": "4fe1c281",
   "metadata": {},
   "outputs": [],
   "source": [
    "\n",
    "y_pred = (h_test >= 0.5)\n",
    "(y_pred == y_test).sum()/y_pred.size\n"
   ]
  },
  {
   "cell_type": "code",
   "execution_count": null,
   "id": "d05c831f",
   "metadata": {},
   "outputs": [],
   "source": [
    "z = np.arange(0, 1, 0.0088)\n",
    "z2 = [0.5,0.5,0.5,0.5,0.5,0.5,0.5,0.5,0.5,0.5,0.5]\n",
    "h_test = 1/(1+np.exp(-(np.dot(W,X_test.T))))\n",
    "plt.plot(x1_test, h_test, color='red', linewidth = 0, marker='X', markerfacecolor='w', markersize=10)\n",
    "plt.xlabel('Tamanho do tumor')\n",
    "plt.ylabel('Probabilidade')\n",
    "plt.title('Sigmoid')\n",
    "plt.xlim(0, 1.1)\n",
    "plt.ylim(0, 1.1)\n",
    "\n",
    "plt.show()"
   ]
  }
 ],
 "metadata": {
  "kernelspec": {
   "display_name": "Python 3 (ipykernel)",
   "language": "python",
   "name": "python3"
  },
  "language_info": {
   "codemirror_mode": {
    "name": "ipython",
    "version": 3
   },
   "file_extension": ".py",
   "mimetype": "text/x-python",
   "name": "python",
   "nbconvert_exporter": "python",
   "pygments_lexer": "ipython3",
   "version": "3.10.0"
  }
 },
 "nbformat": 4,
 "nbformat_minor": 5
}
