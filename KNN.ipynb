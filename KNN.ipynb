{
 "cells": [
  {
   "cell_type": "code",
   "execution_count": 1,
   "id": "36d735f1",
   "metadata": {},
   "outputs": [],
   "source": [
    "import numpy as np\n",
    "import pandas as pd\n",
    "from sklearn import metrics\n",
    "import math"
   ]
  },
  {
   "cell_type": "code",
   "execution_count": 2,
   "id": "948b475b",
   "metadata": {},
   "outputs": [
    {
     "data": {
      "text/plain": [
       "(455, 33)"
      ]
     },
     "execution_count": 2,
     "metadata": {},
     "output_type": "execute_result"
    }
   ],
   "source": [
    "df = pd.DataFrame(pd.read_csv(\"cancerdata.csv\"))\n",
    "df['diagnosis'] = df['diagnosis'].replace(['B'], 0)\n",
    "df['diagnosis'] = df['diagnosis'].replace(['M'], 1)\n",
    "df['diagnosis'] = pd.to_numeric(df['diagnosis'])\n",
    "train = df.sample(frac=0.8, random_state=25)\n",
    "test = df.drop(train.index)\n",
    "train.shape"
   ]
  },
  {
   "cell_type": "code",
   "execution_count": 3,
   "id": "7e5a603b",
   "metadata": {},
   "outputs": [],
   "source": [
    "def normalize(X,base):\n",
    "    result = np.zeros(X.shape)\n",
    "    for (index, colname) in enumerate(base):\n",
    "        if(index > 1 and index < 32):\n",
    "            result[:,index-2] = (base[colname].values-base[colname].values.min())/(base[colname].values.max()-base[colname].values.min())\n",
    "    return result"
   ]
  },
  {
   "cell_type": "code",
   "execution_count": 4,
   "id": "dbae2e4f",
   "metadata": {},
   "outputs": [],
   "source": [
    "X = np.zeros((455,30))\n",
    "X_test = np.zeros((114,30))\n",
    "X = normalize(X,train)\n",
    "X_test = normalize(X_test,test)"
   ]
  },
  {
   "cell_type": "code",
   "execution_count": 5,
   "id": "6aed103b",
   "metadata": {},
   "outputs": [],
   "source": [
    "Y_answ = test.diagnosis.values\n",
    "Y_pred = np.zeros(Y_answ.shape)\n",
    "Distancia = np.zeros((114,455))\n",
    "Y_train = train.diagnosis.values\n",
    "Soma = 0\n",
    "k = 17"
   ]
  },
  {
   "cell_type": "code",
   "execution_count": 6,
   "id": "e1e5b6f3",
   "metadata": {},
   "outputs": [],
   "source": [
    "f = open('out.txt', 'w')\n",
    "for (index, colname) in enumerate(X_test):#114\n",
    "    for (index2, colname2) in enumerate(X):#455\n",
    "        Distancia[index,index2] = math.sqrt(((X_test[index,:]-X[index2,:])**2).sum())  #raiz da soma dos quadrados\n",
    "    klni = Distancia[index,:].argsort()[:k]         # K lowest numbers indexes\n",
    "    labels, freq = np.unique(Y_train[klni], return_counts = True)\n",
    "    Y_pred[index] = labels[np.argmax(freq)]\n",
    "Y_pred = Y_pred.astype(int)"
   ]
  },
  {
   "cell_type": "code",
   "execution_count": 7,
   "id": "789a25b1",
   "metadata": {},
   "outputs": [
    {
     "name": "stdout",
     "output_type": "stream",
     "text": [
      "Accuracy: 0.9736842105263158\n"
     ]
    }
   ],
   "source": [
    "print(\"Accuracy:\", metrics.accuracy_score(Y_answ, Y_pred))"
   ]
  }
 ],
 "metadata": {
  "kernelspec": {
   "display_name": "Python 3 (ipykernel)",
   "language": "python",
   "name": "python3"
  },
  "language_info": {
   "codemirror_mode": {
    "name": "ipython",
    "version": 3
   },
   "file_extension": ".py",
   "mimetype": "text/x-python",
   "name": "python",
   "nbconvert_exporter": "python",
   "pygments_lexer": "ipython3",
   "version": "3.10.0"
  },
  "vscode": {
   "interpreter": {
    "hash": "8d3e54fe3ce154e32ac346abb9a52721706f8b6192d2a6d9e7d1f2a1d569502c"
   }
  }
 },
 "nbformat": 4,
 "nbformat_minor": 5
}
