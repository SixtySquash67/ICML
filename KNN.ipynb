{
 "cells": [
  {
   "cell_type": "code",
   "execution_count": 32,
   "id": "36d735f1",
   "metadata": {},
   "outputs": [],
   "source": [
    "import numpy as np\n",
    "import pandas as pd\n",
    "from statistics import mode\n",
    "import difflib\n",
    "from sklearn import metrics\n",
    "import math"
   ]
  },
  {
   "cell_type": "code",
   "execution_count": 33,
   "id": "948b475b",
   "metadata": {},
   "outputs": [
    {
     "data": {
      "text/plain": [
       "(455, 33)"
      ]
     },
     "execution_count": 33,
     "metadata": {},
     "output_type": "execute_result"
    }
   ],
   "source": [
    "df = pd.DataFrame(pd.read_csv(\"cancerdata.csv\"))\n",
    "df['diagnosis'] = df['diagnosis'].replace(['B'], 0)\n",
    "df['diagnosis'] = df['diagnosis'].replace(['M'], 1)\n",
    "df['diagnosis'] = pd.to_numeric(df['diagnosis'])\n",
    "train = df.sample(frac=0.8, random_state=25)\n",
    "test = df.drop(train.index)\n",
    "train.shape"
   ]
  },
  {
   "cell_type": "code",
   "execution_count": 34,
   "id": "7e5a603b",
   "metadata": {},
   "outputs": [],
   "source": [
    "def normalize(X,base):\n",
    "    result = np.zeros(X.shape)\n",
    "    for (index, colname) in enumerate(base):\n",
    "        if(index > 1 and index < 32):\n",
    "            result[:,index-2] = (base[colname].values-base[colname].values.min())/(base[colname].values.max()-base[colname].values.min())\n",
    "    return result"
   ]
  },
  {
   "cell_type": "code",
   "execution_count": 55,
   "id": "dbae2e4f",
   "metadata": {},
   "outputs": [
    {
     "data": {
      "text/plain": [
       "(455, 30)"
      ]
     },
     "execution_count": 55,
     "metadata": {},
     "output_type": "execute_result"
    }
   ],
   "source": [
    "X = np.zeros((455,30))\n",
    "X_test = np.zeros((114,30))\n",
    "X = normalize(X,train)\n",
    "X_test = normalize(X_test,test)\n",
    "X.shape"
   ]
  },
  {
   "cell_type": "code",
   "execution_count": 36,
   "id": "ae24c1a2",
   "metadata": {},
   "outputs": [
    {
     "name": "stdout",
     "output_type": "stream",
     "text": [
      "(455, 30)\n",
      "(114, 30)\n"
     ]
    },
    {
     "data": {
      "text/plain": [
       "array([[0.25883856, 0.21043324, 0.26798424, ..., 0.63702891, 0.56640814,\n",
       "        0.74076058],\n",
       "       [0.31941881, 0.51591512, 0.34420565, ..., 0.8079034 , 0.47212797,\n",
       "        0.94108195],\n",
       "       [0.43300677, 0.4305924 , 0.44440605, ..., 0.75850714, 0.49878817,\n",
       "        0.63149438],\n",
       "       ...,\n",
       "       [0.389938  , 0.87002653, 0.4119273 , ..., 0.86205635, 0.59161415,\n",
       "        0.91751473],\n",
       "       [0.45525108, 0.75773652, 0.44578813, ..., 0.51884376, 0.13814833,\n",
       "        0.24584896],\n",
       "       [0.64456434, 0.81299735, 0.66553797, ..., 0.96963044, 0.59112942,\n",
       "        0.73647563]])"
      ]
     },
     "execution_count": 36,
     "metadata": {},
     "output_type": "execute_result"
    }
   ],
   "source": [
    "print(X.shape)\n",
    "print(X_test.shape)\n",
    "X_test"
   ]
  },
  {
   "cell_type": "code",
   "execution_count": 44,
   "id": "6aed103b",
   "metadata": {},
   "outputs": [
    {
     "data": {
      "text/plain": [
       "(455,)"
      ]
     },
     "execution_count": 44,
     "metadata": {},
     "output_type": "execute_result"
    }
   ],
   "source": [
    "Y_answ = test.diagnosis.values\n",
    "Y_pred = np.zeros(Y_answ.shape)\n",
    "Distancia = np.zeros((114,455))\n",
    "Y_train = train.diagnosis.values\n",
    "Soma = 0\n",
    "k = 3\n",
    "Y_train.shape"
   ]
  },
  {
   "cell_type": "code",
   "execution_count": 49,
   "id": "e1e5b6f3",
   "metadata": {},
   "outputs": [
    {
     "data": {
      "text/plain": [
       "array([1, 1, 1, 0, 1, 1, 1, 1, 0, 0, 0, 1, 1, 1, 0, 0, 0, 0, 0, 0, 1, 0,\n",
       "       0, 0, 0, 0, 0, 1, 1, 0, 0, 0, 1, 0, 0, 0, 1, 1, 0, 0, 1, 1, 0, 0,\n",
       "       0, 1, 1, 0, 1, 1, 0, 0, 0, 1, 0, 0, 0, 1, 0, 1, 1, 0, 1, 0, 0, 0,\n",
       "       1, 0, 0, 0, 1, 0, 0, 1, 0, 1, 0, 1, 0, 1, 0, 0, 0, 0, 0, 1, 0, 0,\n",
       "       1, 0, 0, 0, 1, 1, 0, 0, 0, 1, 0, 0, 0, 0, 0, 0, 1, 0, 1, 0, 1, 1,\n",
       "       0, 1, 1, 1])"
      ]
     },
     "execution_count": 49,
     "metadata": {},
     "output_type": "execute_result"
    }
   ],
   "source": [
    "f = open('out.txt', 'w')\n",
    "for (index, colname) in enumerate(X_test):#114\n",
    "    for (index2, colname2) in enumerate(X):#455\n",
    "        Distancia[index,index2] = math.sqrt(((X_test[index,:]-X[index2,:])**2).sum())  #raiz da soma dos quadrados\n",
    "    #f.write('\\n\\nAntes\\n\\n')\n",
    "    #f.write(str(Distancia[:,index]))\n",
    "    #f.write('\\n\\nklni\\n\\n')\n",
    "    klni = Distancia[index,:].argsort()[:k]         # K lowest numbers indexes\n",
    "    labels, freq = np.unique(Y_train[klni], return_counts = True)\n",
    "    Y_pred[index] = labels[np.argmax(freq)]\n",
    "Y_pred = Y_pred.astype(int)\n",
    "Y_pred"
   ]
  },
  {
   "cell_type": "code",
   "execution_count": 51,
   "id": "53bcac0f",
   "metadata": {},
   "outputs": [
    {
     "data": {
      "text/plain": [
       "array([188, 440, 408], dtype=int64)"
      ]
     },
     "execution_count": 51,
     "metadata": {},
     "output_type": "execute_result"
    }
   ],
   "source": [
    "klni"
   ]
  },
  {
   "cell_type": "code",
   "execution_count": 52,
   "id": "ef4043ab",
   "metadata": {},
   "outputs": [
    {
     "name": "stdout",
     "output_type": "stream",
     "text": [
      "[1] [3]\n",
      "[1 1 1]\n",
      "[[1.35425865 1.77212121 1.87195228]\n",
      " [1.13065725 1.61969583 1.69222819]\n",
      " [0.87804933 1.39198739 1.34544801]\n",
      " [1.72135262 2.24261824 2.12316085]\n",
      " [1.06087178 1.31408072 1.62581682]\n",
      " [1.43804134 1.69230647 1.41064907]\n",
      " [1.31572745 1.72338349 1.50103712]\n",
      " [1.42561639 2.06485996 1.87024748]\n",
      " [2.36135289 2.82755134 2.70457104]\n",
      " [2.12294711 2.62916195 2.42968304]\n",
      " [2.10269579 2.54726368 2.42576699]\n",
      " [1.07017593 1.66495474 1.57131824]\n",
      " [1.0574975  1.37865855 1.40921425]\n",
      " [1.32734272 1.83553545 1.727955  ]\n",
      " [2.18548687 2.64633103 2.41728953]\n",
      " [2.39925436 2.68257958 2.67763466]\n",
      " [2.03235571 2.30515793 2.30550257]\n",
      " [1.83212871 2.33913158 2.14458652]\n",
      " [2.02188603 2.45692142 2.30430451]\n",
      " [1.6751985  2.2035303  2.02353242]\n",
      " [1.4399903  1.92288368 1.71528563]\n",
      " [2.54963683 2.96437471 2.91268305]\n",
      " [1.77318691 2.2066472  2.08889017]\n",
      " [1.95800567 2.46693451 2.25203281]\n",
      " [2.21654926 2.58663041 2.48725933]\n",
      " [1.39986015 1.74710062 1.67645113]\n",
      " [1.8783413  2.33650662 2.26009534]\n",
      " [1.27841583 1.73594164 1.54549328]\n",
      " [1.26994441 1.7950986  1.61140468]\n",
      " [2.25557725 2.62591841 2.39234766]\n",
      " [2.0609566  2.39662747 2.28561006]\n",
      " [1.75985438 2.28294123 2.12570842]\n",
      " [1.65919006 1.94779632 2.23605182]\n",
      " [1.72747945 2.11667309 1.96872505]\n",
      " [2.09725229 2.49705711 2.52354363]\n",
      " [2.5193284  2.37955577 2.71585939]\n",
      " [1.0960322  1.34648971 1.19938218]\n",
      " [1.94225866 2.34972875 2.07239239]\n",
      " [1.84262595 2.22272112 2.1684873 ]\n",
      " [2.0873612  2.58626306 2.29574407]\n",
      " [1.45461617 1.87010984 1.62271774]\n",
      " [1.74251174 2.22434007 1.97088557]\n",
      " [2.51995381 2.90990869 2.7791878 ]\n",
      " [2.14945806 2.53670011 2.33436398]\n",
      " [1.99996708 2.47464441 2.2708898 ]\n",
      " [1.23617603 1.74057724 1.41061379]\n",
      " [0.96266854 0.859341   0.78329194]\n",
      " [2.0037598  2.52830008 2.29593076]\n",
      " [2.40301428 2.03567782 1.95988047]\n",
      " [1.48116814 1.85911268 1.89930965]\n",
      " [2.21285069 2.61761053 2.51148182]\n",
      " [1.91845321 2.42050803 2.18637125]\n",
      " [1.53572144 2.06094845 1.87523333]\n",
      " [1.16005082 1.68357622 1.68748623]\n",
      " [1.96747118 2.48225495 2.16812082]\n",
      " [2.04126131 2.56651901 2.39722548]\n",
      " [2.07981845 2.54610305 2.37810542]\n",
      " [1.26203233 1.74956821 1.49894949]\n",
      " [1.42462392 1.8721443  1.77821498]\n",
      " [1.18936273 1.81832075 1.62169438]\n",
      " [1.82626081 2.32185732 1.9523081 ]\n",
      " [2.00054926 2.46861784 2.21213731]\n",
      " [1.00554301 1.11865035 0.80593681]\n",
      " [2.159204   2.54520027 2.43763001]\n",
      " [2.198695   2.61948515 2.50048063]\n",
      " [2.11619863 2.58445811 2.37795951]\n",
      " [0.88323625 1.07694859 0.92225521]\n",
      " [2.20688279 2.66684612 2.46453045]\n",
      " [2.08633692 2.55915185 2.33682864]\n",
      " [2.19292122 2.72642628 2.47621109]\n",
      " [1.19764769 1.71356804 1.40570863]\n",
      " [1.84990276 2.10918179 2.25913713]\n",
      " [1.93119316 2.32163073 2.25321729]\n",
      " [0.87986667 1.15234285 1.29700056]\n",
      " [2.35032755 2.86308534 2.57809061]\n",
      " [1.16954923 1.61674233 1.44921823]\n",
      " [2.39479776 2.76082731 2.67253592]\n",
      " [1.29551115 1.4311462  1.00360615]\n",
      " [1.8621689  2.34015431 2.24928644]\n",
      " [1.33545462 1.34000889 1.73451021]\n",
      " [2.25991485 2.65089782 2.52112612]\n",
      " [2.17262872 2.63786309 2.46126889]\n",
      " [1.61782757 2.13107572 2.00942406]\n",
      " [1.89557537 2.37927737 2.18056504]\n",
      " [1.93046725 2.31613021 2.20156851]\n",
      " [1.54220488 2.03281007 1.85020197]\n",
      " [1.96226145 2.42664191 2.26953341]\n",
      " [1.69381533 2.18134779 1.94126237]\n",
      " [1.00426646 1.5254154  1.2811596 ]\n",
      " [1.98380793 2.44028195 2.20009944]\n",
      " [1.92218987 2.40063802 2.25716264]\n",
      " [2.26868916 2.73281977 2.46525708]\n",
      " [0.89175179 1.30323586 1.34475222]\n",
      " [1.10447059 1.39607953 1.20105381]\n",
      " [1.90169639 2.39014713 2.12670385]\n",
      " [1.67283152 2.11433929 1.97178045]\n",
      " [1.95666391 2.41562226 2.20201613]\n",
      " [1.46322784 1.78012146 1.42183264]\n",
      " [1.75511757 2.18350182 2.00546673]\n",
      " [2.05136905 2.58070722 2.28354846]\n",
      " [1.5709931  2.0705131  1.86041506]\n",
      " [2.31321505 2.76619517 2.60691955]\n",
      " [1.84402894 2.38013922 2.26320258]\n",
      " [1.9210458  2.3860561  2.27228064]\n",
      " [1.22075823 1.57695838 1.42516771]\n",
      " [2.09896647 2.58782198 2.33609639]\n",
      " [1.56990425 2.09952455 1.83247449]\n",
      " [1.65402666 2.14428604 1.84586677]\n",
      " [1.27361855 1.53137652 1.33790863]\n",
      " [0.82671732 1.18660434 0.95128431]\n",
      " [2.02891812 2.498359   2.35320217]\n",
      " [1.06008159 1.56234522 1.62167675]\n",
      " [1.42240528 1.95655087 1.58665952]\n",
      " [1.01216475 1.06161818 1.25009292]]\n"
     ]
    },
    {
     "data": {
      "text/plain": [
       "(array([1, 2, 3, 4]), array([2, 1, 2, 1], dtype=int64))"
      ]
     },
     "execution_count": 52,
     "metadata": {},
     "output_type": "execute_result"
    }
   ],
   "source": [
    "labels, freq = np.unique(Y_train[klni], return_counts = True)\n",
    "print(labels,freq)\n",
    "print(Y_train[klni])\n",
    "print(Distancia[:,klni])\n",
    "np.unique([1,1,2,3,3,4],return_counts = True)"
   ]
  },
  {
   "cell_type": "code",
   "execution_count": 53,
   "id": "1d20ecf7",
   "metadata": {},
   "outputs": [
    {
     "data": {
      "text/plain": [
       "array([1, 1, 1, 0, 1, 1, 1, 1, 0, 0, 0, 1, 1, 1, 0, 0, 0, 0, 0, 0, 1, 0,\n",
       "       0, 0, 0, 0, 0, 1, 1, 0, 0, 0, 1, 0, 0, 0, 1, 0, 0, 0, 1, 1, 0, 0,\n",
       "       0, 1, 1, 0, 1, 1, 0, 0, 0, 1, 0, 0, 0, 1, 1, 1, 1, 0, 1, 0, 0, 0,\n",
       "       1, 0, 0, 0, 1, 0, 0, 1, 0, 1, 0, 1, 0, 1, 0, 0, 0, 0, 0, 0, 0, 0,\n",
       "       1, 1, 0, 0, 1, 1, 0, 0, 0, 1, 0, 0, 0, 0, 0, 0, 1, 0, 0, 1, 1, 1,\n",
       "       0, 1, 1, 1], dtype=int64)"
      ]
     },
     "execution_count": 53,
     "metadata": {},
     "output_type": "execute_result"
    }
   ],
   "source": [
    "Y_answ"
   ]
  },
  {
   "cell_type": "code",
   "execution_count": 54,
   "id": "789a25b1",
   "metadata": {},
   "outputs": [
    {
     "name": "stdout",
     "output_type": "stream",
     "text": [
      "Accuracy: 0.9473684210526315\n",
      "Inaccuracy: 0.05263157894736842\n"
     ]
    },
    {
     "data": {
      "text/plain": [
       "array([False, False, False,  True, False, False, False, False,  True,\n",
       "        True,  True, False, False, False,  True,  True,  True,  True,\n",
       "        True,  True, False,  True,  True,  True,  True,  True,  True,\n",
       "       False, False,  True,  True,  True, False,  True,  True,  True,\n",
       "       False, False,  True,  True, False, False,  True,  True,  True,\n",
       "       False, False,  True, False, False,  True,  True,  True, False,\n",
       "        True,  True,  True, False,  True, False, False,  True, False,\n",
       "        True,  True,  True, False,  True,  True,  True, False,  True,\n",
       "        True, False,  True, False,  True, False,  True, False,  True,\n",
       "        True,  True,  True,  True, False,  True,  True, False,  True,\n",
       "        True,  True, False, False,  True,  True,  True, False,  True,\n",
       "        True,  True,  True,  True,  True, False,  True, False,  True,\n",
       "       False, False,  True, False, False, False])"
      ]
     },
     "execution_count": 54,
     "metadata": {},
     "output_type": "execute_result"
    }
   ],
   "source": [
    "negado = np.logical_not(Y_pred)\n",
    "print(\"Accuracy:\", metrics.accuracy_score(Y_answ, Y_pred))\n",
    "print(\"Inaccuracy:\", metrics.accuracy_score(Y_answ, negado))\n",
    "negado"
   ]
  }
 ],
 "metadata": {
  "kernelspec": {
   "display_name": "Python 3 (ipykernel)",
   "language": "python",
   "name": "python3"
  },
  "language_info": {
   "codemirror_mode": {
    "name": "ipython",
    "version": 3
   },
   "file_extension": ".py",
   "mimetype": "text/x-python",
   "name": "python",
   "nbconvert_exporter": "python",
   "pygments_lexer": "ipython3",
   "version": "3.10.0"
  },
  "vscode": {
   "interpreter": {
    "hash": "8d3e54fe3ce154e32ac346abb9a52721706f8b6192d2a6d9e7d1f2a1d569502c"
   }
  }
 },
 "nbformat": 4,
 "nbformat_minor": 5
}
