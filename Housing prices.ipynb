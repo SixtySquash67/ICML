{
 "cells": [
  {
   "cell_type": "code",
   "execution_count": 1,
   "id": "8df0bf31",
   "metadata": {},
   "outputs": [],
   "source": [
    "import numpy as np\n",
    "import pandas as pd\n",
    "import matplotlib.pyplot as plt\n",
    "from mpl_toolkits.mplot3d import Axes3D\n",
    "import seaborn as sns\n",
    "import random as rd\n",
    "import scipy.stats as stats\n",
    "from numpy.random import random as rand"
   ]
  },
  {
   "cell_type": "code",
   "execution_count": 2,
   "id": "cb091ee7",
   "metadata": {},
   "outputs": [
    {
     "data": {
      "text/html": [
       "<div>\n",
       "<style scoped>\n",
       "    .dataframe tbody tr th:only-of-type {\n",
       "        vertical-align: middle;\n",
       "    }\n",
       "\n",
       "    .dataframe tbody tr th {\n",
       "        vertical-align: top;\n",
       "    }\n",
       "\n",
       "    .dataframe thead th {\n",
       "        text-align: right;\n",
       "    }\n",
       "</style>\n",
       "<table border=\"1\" class=\"dataframe\">\n",
       "  <thead>\n",
       "    <tr style=\"text-align: right;\">\n",
       "      <th></th>\n",
       "      <th>price</th>\n",
       "      <th>area</th>\n",
       "      <th>bedrooms</th>\n",
       "      <th>bathrooms</th>\n",
       "      <th>stories</th>\n",
       "      <th>mainroad</th>\n",
       "      <th>guestroom</th>\n",
       "      <th>basement</th>\n",
       "      <th>hotwaterheating</th>\n",
       "      <th>airconditioning</th>\n",
       "      <th>parking</th>\n",
       "      <th>prefarea</th>\n",
       "      <th>furnishingstatus</th>\n",
       "    </tr>\n",
       "  </thead>\n",
       "  <tbody>\n",
       "    <tr>\n",
       "      <th>0</th>\n",
       "      <td>13300000</td>\n",
       "      <td>7420</td>\n",
       "      <td>4</td>\n",
       "      <td>2</td>\n",
       "      <td>3</td>\n",
       "      <td>yes</td>\n",
       "      <td>no</td>\n",
       "      <td>no</td>\n",
       "      <td>no</td>\n",
       "      <td>yes</td>\n",
       "      <td>2</td>\n",
       "      <td>yes</td>\n",
       "      <td>furnished</td>\n",
       "    </tr>\n",
       "    <tr>\n",
       "      <th>1</th>\n",
       "      <td>12250000</td>\n",
       "      <td>8960</td>\n",
       "      <td>4</td>\n",
       "      <td>4</td>\n",
       "      <td>4</td>\n",
       "      <td>yes</td>\n",
       "      <td>no</td>\n",
       "      <td>no</td>\n",
       "      <td>no</td>\n",
       "      <td>yes</td>\n",
       "      <td>3</td>\n",
       "      <td>no</td>\n",
       "      <td>furnished</td>\n",
       "    </tr>\n",
       "    <tr>\n",
       "      <th>2</th>\n",
       "      <td>12250000</td>\n",
       "      <td>9960</td>\n",
       "      <td>3</td>\n",
       "      <td>2</td>\n",
       "      <td>2</td>\n",
       "      <td>yes</td>\n",
       "      <td>no</td>\n",
       "      <td>yes</td>\n",
       "      <td>no</td>\n",
       "      <td>no</td>\n",
       "      <td>2</td>\n",
       "      <td>yes</td>\n",
       "      <td>semi-furnished</td>\n",
       "    </tr>\n",
       "    <tr>\n",
       "      <th>3</th>\n",
       "      <td>12215000</td>\n",
       "      <td>7500</td>\n",
       "      <td>4</td>\n",
       "      <td>2</td>\n",
       "      <td>2</td>\n",
       "      <td>yes</td>\n",
       "      <td>no</td>\n",
       "      <td>yes</td>\n",
       "      <td>no</td>\n",
       "      <td>yes</td>\n",
       "      <td>3</td>\n",
       "      <td>yes</td>\n",
       "      <td>furnished</td>\n",
       "    </tr>\n",
       "    <tr>\n",
       "      <th>4</th>\n",
       "      <td>11410000</td>\n",
       "      <td>7420</td>\n",
       "      <td>4</td>\n",
       "      <td>1</td>\n",
       "      <td>2</td>\n",
       "      <td>yes</td>\n",
       "      <td>yes</td>\n",
       "      <td>yes</td>\n",
       "      <td>no</td>\n",
       "      <td>yes</td>\n",
       "      <td>2</td>\n",
       "      <td>no</td>\n",
       "      <td>furnished</td>\n",
       "    </tr>\n",
       "  </tbody>\n",
       "</table>\n",
       "</div>"
      ],
      "text/plain": [
       "      price  area  bedrooms  bathrooms  stories mainroad guestroom basement  \\\n",
       "0  13300000  7420         4          2        3      yes        no       no   \n",
       "1  12250000  8960         4          4        4      yes        no       no   \n",
       "2  12250000  9960         3          2        2      yes        no      yes   \n",
       "3  12215000  7500         4          2        2      yes        no      yes   \n",
       "4  11410000  7420         4          1        2      yes       yes      yes   \n",
       "\n",
       "  hotwaterheating airconditioning  parking prefarea furnishingstatus  \n",
       "0              no             yes        2      yes        furnished  \n",
       "1              no             yes        3       no        furnished  \n",
       "2              no              no        2      yes   semi-furnished  \n",
       "3              no             yes        3      yes        furnished  \n",
       "4              no             yes        2       no        furnished  "
      ]
     },
     "execution_count": 2,
     "metadata": {},
     "output_type": "execute_result"
    }
   ],
   "source": [
    "df = pd.DataFrame(pd.read_csv(\"Housing.csv\"))\n",
    "df.head()"
   ]
  },
  {
   "cell_type": "code",
   "execution_count": 3,
   "id": "562f2f5f",
   "metadata": {},
   "outputs": [
    {
     "data": {
      "text/html": [
       "<div>\n",
       "<style scoped>\n",
       "    .dataframe tbody tr th:only-of-type {\n",
       "        vertical-align: middle;\n",
       "    }\n",
       "\n",
       "    .dataframe tbody tr th {\n",
       "        vertical-align: top;\n",
       "    }\n",
       "\n",
       "    .dataframe thead th {\n",
       "        text-align: right;\n",
       "    }\n",
       "</style>\n",
       "<table border=\"1\" class=\"dataframe\">\n",
       "  <thead>\n",
       "    <tr style=\"text-align: right;\">\n",
       "      <th></th>\n",
       "      <th>price</th>\n",
       "      <th>area</th>\n",
       "      <th>bedrooms</th>\n",
       "      <th>bathrooms</th>\n",
       "      <th>stories</th>\n",
       "      <th>mainroad</th>\n",
       "      <th>guestroom</th>\n",
       "      <th>basement</th>\n",
       "      <th>hotwaterheating</th>\n",
       "      <th>airconditioning</th>\n",
       "      <th>parking</th>\n",
       "      <th>prefarea</th>\n",
       "      <th>furnishingstatus</th>\n",
       "    </tr>\n",
       "  </thead>\n",
       "  <tbody>\n",
       "    <tr>\n",
       "      <th>6</th>\n",
       "      <td>10150000</td>\n",
       "      <td>8580</td>\n",
       "      <td>4</td>\n",
       "      <td>3</td>\n",
       "      <td>4</td>\n",
       "      <td>yes</td>\n",
       "      <td>no</td>\n",
       "      <td>no</td>\n",
       "      <td>no</td>\n",
       "      <td>yes</td>\n",
       "      <td>2</td>\n",
       "      <td>yes</td>\n",
       "      <td>semi-furnished</td>\n",
       "    </tr>\n",
       "    <tr>\n",
       "      <th>47</th>\n",
       "      <td>7490000</td>\n",
       "      <td>6600</td>\n",
       "      <td>3</td>\n",
       "      <td>1</td>\n",
       "      <td>4</td>\n",
       "      <td>yes</td>\n",
       "      <td>no</td>\n",
       "      <td>no</td>\n",
       "      <td>no</td>\n",
       "      <td>yes</td>\n",
       "      <td>3</td>\n",
       "      <td>yes</td>\n",
       "      <td>furnished</td>\n",
       "    </tr>\n",
       "    <tr>\n",
       "      <th>444</th>\n",
       "      <td>3220000</td>\n",
       "      <td>3120</td>\n",
       "      <td>3</td>\n",
       "      <td>1</td>\n",
       "      <td>2</td>\n",
       "      <td>no</td>\n",
       "      <td>no</td>\n",
       "      <td>no</td>\n",
       "      <td>no</td>\n",
       "      <td>no</td>\n",
       "      <td>0</td>\n",
       "      <td>no</td>\n",
       "      <td>furnished</td>\n",
       "    </tr>\n",
       "    <tr>\n",
       "      <th>325</th>\n",
       "      <td>4007500</td>\n",
       "      <td>3460</td>\n",
       "      <td>4</td>\n",
       "      <td>1</td>\n",
       "      <td>2</td>\n",
       "      <td>yes</td>\n",
       "      <td>no</td>\n",
       "      <td>no</td>\n",
       "      <td>no</td>\n",
       "      <td>yes</td>\n",
       "      <td>0</td>\n",
       "      <td>no</td>\n",
       "      <td>semi-furnished</td>\n",
       "    </tr>\n",
       "    <tr>\n",
       "      <th>382</th>\n",
       "      <td>3570000</td>\n",
       "      <td>3150</td>\n",
       "      <td>3</td>\n",
       "      <td>1</td>\n",
       "      <td>2</td>\n",
       "      <td>yes</td>\n",
       "      <td>no</td>\n",
       "      <td>yes</td>\n",
       "      <td>no</td>\n",
       "      <td>no</td>\n",
       "      <td>0</td>\n",
       "      <td>no</td>\n",
       "      <td>furnished</td>\n",
       "    </tr>\n",
       "  </tbody>\n",
       "</table>\n",
       "</div>"
      ],
      "text/plain": [
       "        price  area  bedrooms  bathrooms  stories mainroad guestroom basement  \\\n",
       "6    10150000  8580         4          3        4      yes        no       no   \n",
       "47    7490000  6600         3          1        4      yes        no       no   \n",
       "444   3220000  3120         3          1        2       no        no       no   \n",
       "325   4007500  3460         4          1        2      yes        no       no   \n",
       "382   3570000  3150         3          1        2      yes        no      yes   \n",
       "\n",
       "    hotwaterheating airconditioning  parking prefarea furnishingstatus  \n",
       "6                no             yes        2      yes   semi-furnished  \n",
       "47               no             yes        3      yes        furnished  \n",
       "444              no              no        0       no        furnished  \n",
       "325              no             yes        0       no   semi-furnished  \n",
       "382              no              no        0       no        furnished  "
      ]
     },
     "execution_count": 3,
     "metadata": {},
     "output_type": "execute_result"
    }
   ],
   "source": [
    "train = df.sample(frac=0.8, random_state=25)\n",
    "test = df.drop(train.index)\n",
    "train.head()"
   ]
  },
  {
   "cell_type": "code",
   "execution_count": 4,
   "id": "a2429c6e",
   "metadata": {},
   "outputs": [
    {
     "name": "stdout",
     "output_type": "stream",
     "text": [
      "(436, 3) 436\n"
     ]
    },
    {
     "data": {
      "text/plain": [
       "array([[1.        , 0.47628866, 0.6       ],\n",
       "       [1.        , 0.34020619, 0.4       ],\n",
       "       [1.        , 0.10103093, 0.4       ],\n",
       "       ...,\n",
       "       [1.        , 0.19587629, 0.2       ],\n",
       "       [1.        , 0.19587629, 0.4       ],\n",
       "       [1.        , 0.35821306, 0.4       ]])"
      ]
     },
     "execution_count": 4,
     "metadata": {},
     "output_type": "execute_result"
    }
   ],
   "source": [
    "x = (train.area.values-train.area.values.min())/(train.area.values.max()-train.area.values.min())\n",
    "y = (train.price.values-train.price.values.min())/(train.price.values.max()-train.price.values.min())\n",
    "z = (train.bedrooms.values-train.bedrooms.values.min())/(train.bedrooms.values.max()-train.bedrooms.values.min())\n",
    "\n",
    "x_test = (test.area.values-test.area.values.min())/(test.area.values.max()-test.area.values.min())\n",
    "y_test = (test.price.values-test.price.values.min())/(test.price.values.max()-test.price.values.min())\n",
    "z_test = (test.bedrooms.values-test.bedrooms.values.min())/(test.bedrooms.values.max()-test.bedrooms.values.min())\n",
    "m = len(x)\n",
    "X = np.array([[1]*len(x), x, z]).T\n",
    "print(X.shape, m)\n",
    "X                            #1, area[i]"
   ]
  },
  {
   "cell_type": "code",
   "execution_count": 5,
   "id": "98fd112b",
   "metadata": {},
   "outputs": [
    {
     "data": {
      "image/png": "[encoded data removed]",
      "text/plain": [
       "<Figure size 432x288 with 1 Axes>"
      ]
     },
     "metadata": {
      "needs_background": "light"
     },
     "output_type": "display_data"
    }
   ],
   "source": [
    "plt.plot(x, y, color='red', linewidth = 0, marker='x', markerfacecolor='blue', markersize = 2)\n",
    "plt.xlabel('Área')\n",
    "plt.ylabel('Preço')\n",
    "plt.title('Preço das casas por área')\n",
    "\n",
    "plt.show()"
   ]
  },
  {
   "cell_type": "markdown",
   "id": "2fedb6e0",
   "metadata": {},
   "source": [
    "# Rascunho\n",
    "#### Funcao hipotetica\n",
    "h(x) = theta0 + theta1*X\n",
    "#### Funcao custo\n",
    "J(theta0, theta1) = (1/2m) * [Somatorio de 1 a m de: ( h(x[i] - y[i] ) ^2  ]\n",
    "#### Funcao gradiente\n",
    "theta_j = theta_j - alpha * d/dtheta_j * J(theta0, theta1)\n",
    "\n",
    "\n",
    "E será repetida até convergir"
   ]
  },
  {
   "cell_type": "markdown",
   "id": "7d737dbb",
   "metadata": {},
   "source": [
    "# Implementação"
   ]
  },
  {
   "cell_type": "code",
   "execution_count": 6,
   "id": "3d6e14a4",
   "metadata": {},
   "outputs": [],
   "source": [
    "#for i in range(0,545):\n",
    "#    print(X[:,0][i], X[:,1][i], X[:,2][i])"
   ]
  },
  {
   "cell_type": "code",
   "execution_count": 7,
   "id": "1f4b7478",
   "metadata": {
    "scrolled": true
   },
   "outputs": [
    {
     "name": "stdout",
     "output_type": "stream",
     "text": [
      "0.03096734347001351 0.2542820732342481 0.9124004435059823\n"
     ]
    }
   ],
   "source": [
    "np.random.seed(234)\n",
    "n = 3\n",
    "alpha = 0.001\n",
    "contador = 1\n",
    "somatorios = [0,0,0]\n",
    "W = rand(n)\n",
    "\n",
    "print(W[0], W[1], W[2])\n",
    "while (contador < 100000):        \n",
    "    h = np.dot(W,X.T)\n",
    "    \n",
    "    for j in range(0,n):\n",
    "        somatorios[j] = ((h - y)*X[:,j]).sum()\n",
    "    \n",
    "    for k in range(0,n):\n",
    "        W[k] = W[k] - (alpha/m)*somatorios[k]\n",
    "\n",
    "    contador += 1"
   ]
  },
  {
   "cell_type": "code",
   "execution_count": 8,
   "id": "db63a0ba",
   "metadata": {},
   "outputs": [],
   "source": [
    "#z = np.arange(0, 10, 1)\n",
    "\n",
    "#h = W[0] + W[1] * z + W[2] * z\n",
    "#print(\"theta0 : \"+ str(theta0*100) + \"\\ntheta1 : \"+ str(theta1))\n",
    "#plt.plot(x_test, y_test, color='red', linewidth = 0, marker='x', markerfacecolor='blue', markersize=5)\n",
    "#plt.xlabel('Área')\n",
    "#plt.ylabel('Preço')\n",
    "#plt.title('Preço das casas por área')\n",
    "#plt.plot(h, z, 'b', linewidth = 2, markerfacecolor='blue', markersize = 2)\n",
    "#plt.xlim(0, 1.1)\n",
    "#plt.ylim(0, 1.1)\n",
    "\n",
    "#plt.show()\n",
    "#print(W[0], W[1], W[2])"
   ]
  },
  {
   "cell_type": "code",
   "execution_count": 9,
   "id": "602ec1af",
   "metadata": {},
   "outputs": [
    {
     "data": {
      "image/png": "[encoded data removed]",
      "text/plain": [
       "<Figure size 432x288 with 1 Axes>"
      ]
     },
     "metadata": {
      "needs_background": "light"
     },
     "output_type": "display_data"
    }
   ],
   "source": [
    "fig = plt.figure()\n",
    "ax = plt.axes(projection='3d')\n",
    "i = np.arange(0, 109, 1)\n",
    "ax.set_xlabel('x')\n",
    "ax.set_ylabel('y')\n",
    "ax.set_zlabel('z')\n",
    "X = np.arange(0, 1, 0.1)\n",
    "Y = np.arange(0, 1, 0.1)\n",
    "h = W[0] + W[1] * X + W[2] * Y\n",
    "ax.scatter(x_test, z_test, i, s=20)\n",
    "ax.plot(X,Y,h)\n",
    "ax.view_init(30,20)"
   ]
  },
  {
   "cell_type": "code",
   "execution_count": 10,
   "id": "ebbbcd4b",
   "metadata": {},
   "outputs": [
    {
     "data": {
      "image/png": "[encoded data removed]",
      "text/plain": [
       "<Figure size 432x288 with 1 Axes>"
      ]
     },
     "metadata": {
      "needs_background": "light"
     },
     "output_type": "display_data"
    }
   ],
   "source": [
    "fig = plt.figure()\n",
    "ax = plt.axes(projection='3d')\n",
    "ax.set_xlabel('x')\n",
    "ax.set_ylabel('y')\n",
    "ax.set_zlabel('z')\n",
    "\n",
    "ax.plot(X,Y,h)\n",
    "ax.view_init(30,20)\n",
    "\n"
   ]
  },
  {
   "cell_type": "code",
   "execution_count": 12,
   "id": "52af95dc",
   "metadata": {},
   "outputs": [
    {
     "data": {
      "text/plain": [
       "array([-0.01605953,  0.07225196,  0.16056345,  0.24887494,  0.33718643,\n",
       "        0.42549792,  0.51380941,  0.6021209 ,  0.69043239,  0.77874388])"
      ]
     },
     "execution_count": 12,
     "metadata": {},
     "output_type": "execute_result"
    }
   ],
   "source": [
    "h"
   ]
  },
  {
   "cell_type": "code",
   "execution_count": null,
   "id": "20cae37e",
   "metadata": {},
   "outputs": [],
   "source": []
  }
 ],
 "metadata": {
  "kernelspec": {
   "display_name": "Python 3 (ipykernel)",
   "language": "python",
   "name": "python3"
  },
  "language_info": {
   "codemirror_mode": {
    "name": "ipython",
    "version": 3
   },
   "file_extension": ".py",
   "mimetype": "text/x-python",
   "name": "python",
   "nbconvert_exporter": "python",
   "pygments_lexer": "ipython3",
   "version": "3.10.0"
  }
 },
 "nbformat": 4,
 "nbformat_minor": 5
}
