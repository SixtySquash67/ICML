{
 "cells": [
  {
   "cell_type": "code",
   "execution_count": 1,
   "id": "fd1cd6f0",
   "metadata": {},
   "outputs": [],
   "source": [
    "import numpy as np\n",
    "from pdb import set_trace"
   ]
  },
  {
   "cell_type": "code",
   "execution_count": 13,
   "id": "a43c1acc",
   "metadata": {},
   "outputs": [
    {
     "name": "stdout",
     "output_type": "stream",
     "text": [
      "Input\n",
      "[[0 0 1]\n",
      " [0 1 1]]\n",
      "Theta1\n",
      "[[-0.33235023 -0.17669354]\n",
      " [-5.24043315  4.58119908]\n",
      " [ 2.29773029 -1.94080109]]\n",
      "Z2\n",
      "[[ 2.2977284  -1.9407988 ]\n",
      " [-2.94270123  2.64039617]]\n",
      "A2\n",
      "[[0.90868873 0.12556013]\n",
      " [0.05008261 0.93341659]]\n",
      "Theta2\n",
      "[[-7.29796724]\n",
      " [ 6.54730721]]\n",
      "Z3\n",
      "[[-5.80949402]\n",
      " [ 5.74585655]]\n",
      "A3\n",
      "[[-5.80949402]\n",
      " [ 5.74585655]]\n"
     ]
    }
   ],
   "source": [
    "#inp = np.array([ [0,0,1],[0,1,1],[1,0,1],[1,1,1],[1,1,1],[1,1,1]])\n",
    "inp = np.array([[0,0,1],[0,1,1]])\n",
    "y = np.array([[0,1]]).T\n",
    "\n",
    "\n",
    "theta1 = 2*np.random.random((3,2)) - 1\n",
    "\n",
    "theta2 = 2*np.random.random((2,1)) - 1\n",
    "\n",
    "for j in range(60000):\n",
    "    #set_trace()\n",
    "    #ForwardPass\n",
    "    z2 = np.dot(inp,theta1)     #Theta*input\n",
    "    a2 = 1/(1+np.exp(-(z2)))    #sig(z2)\n",
    "    z3 = np.dot(a2,theta2)      #theta2*a2\n",
    "    a3 = 1/(1+np.exp(-(z3)))    #sig(z3)\n",
    "\n",
    "    #BackProp\n",
    "    dJda3 = (y - a3)            #dJ/da3\n",
    "    da3dz3 = (a3*(1-a3))        #da3/dz3\n",
    "    dz3dtheta2 = a2\n",
    "\n",
    "    #Update\n",
    "    theta2 += a2.T.dot(dJda3 * da3dz3)\n",
    "    theta1 += inp.T.dot((dJda3 * da3dz3).dot(theta2.T) * (a2 * (1-a2)))\n",
    "print(\"Input\")\n",
    "print(inp)\n",
    "print(\"Theta1\")\n",
    "print(theta1)\n",
    "print(\"Z2\")\n",
    "print(z2)\n",
    "print(\"A2\")\n",
    "print(a2)\n",
    "print(\"Theta2\")\n",
    "print(theta2)\n",
    "print(\"Z3\")\n",
    "print(z3)\n",
    "print(\"A3\")\n",
    "print(z3)\n"
   ]
  },
  {
   "cell_type": "markdown",
   "id": "08ed558c",
   "metadata": {},
   "source": [
    "# 11 Lines\n",
    "X = np.array([ [0,0,1],[0,1,1],[1,0,1],[1,1,1] ])\n",
    "\n",
    "y = np.array([[0,1,1,0]]).T\n",
    "\n",
    "syn0 = 2*np.random.random((3,4)) - 1\n",
    "\n",
    "syn1 = 2*np.random.random((4,1)) - 1\n",
    "\n",
    "for j in range(0,60000):\n",
    "\n",
    "    l1 = 1/(1+np.exp(-(np.dot(X,syn0))))\n",
    "    \n",
    "    l2 = 1/(1+np.exp(-(np.dot(l1,syn1))))\n",
    "    \n",
    "    l2_delta = (y - l2)*(l2*(1-l2))\n",
    "    \n",
    "    l1_delta = l2_delta.dot(syn1.T) * (l1 * (1-l1))\n",
    "    \n",
    "    syn1 += l1.T.dot(l2_delta)\n",
    "    \n",
    "    syn0 += X.T.dot(l1_delta)\n",
    "    "
   ]
  },
  {
   "cell_type": "code",
   "execution_count": null,
   "id": "b35fccac",
   "metadata": {},
   "outputs": [],
   "source": []
  }
 ],
 "metadata": {
  "kernelspec": {
   "display_name": "Python 3 (ipykernel)",
   "language": "python",
   "name": "python3"
  },
  "language_info": {
   "codemirror_mode": {
    "name": "ipython",
    "version": 3
   },
   "file_extension": ".py",
   "mimetype": "text/x-python",
   "name": "python",
   "nbconvert_exporter": "python",
   "pygments_lexer": "ipython3",
   "version": "3.10.0"
  }
 },
 "nbformat": 4,
 "nbformat_minor": 5
}
