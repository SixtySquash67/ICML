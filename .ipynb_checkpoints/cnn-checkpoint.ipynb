{
 "cells": [
  {
   "cell_type": "code",
   "execution_count": 1,
   "id": "52cb02be",
   "metadata": {},
   "outputs": [],
   "source": [
    "import numpy as np\n"
   ]
  },
  {
   "cell_type": "code",
   "execution_count": 28,
   "id": "c5972119",
   "metadata": {
    "scrolled": true
   },
   "outputs": [
    {
     "name": "stdout",
     "output_type": "stream",
     "text": [
      "[[0.38068291 0.77997274 0.96165647 0.17750368 0.77223326 0.46167738]\n",
      " [0.92702692 0.46829753 0.22754142 0.78631267 0.80201787 0.78819517]\n",
      " [0.64821828 0.25525015 0.39106522 0.53649733 0.80762587 0.33564919]\n",
      " [0.40074852 0.35014714 0.39401035 0.20146269 0.90767092 0.27521243]\n",
      " [0.84973451 0.56830842 0.21061384 0.37397862 0.06904771 0.79236958]\n",
      " [0.83945792 0.81679051 0.70030034 0.29616017 0.36973178 0.95064346]]\n",
      "[[0.         0.38068291 0.77997274 0.96165647 0.17750368 0.77223326\n",
      "  0.46167738 0.        ]\n",
      " [0.         0.92702692 0.46829753 0.22754142 0.78631267 0.80201787\n",
      "  0.78819517 0.        ]\n",
      " [0.         0.64821828 0.25525015 0.39106522 0.53649733 0.80762587\n",
      "  0.33564919 0.        ]\n",
      " [0.         0.40074852 0.35014714 0.39401035 0.20146269 0.90767092\n",
      "  0.27521243 0.        ]\n",
      " [0.         0.84973451 0.56830842 0.21061384 0.37397862 0.06904771\n",
      "  0.79236958 0.        ]\n",
      " [0.         0.83945792 0.81679051 0.70030034 0.29616017 0.36973178\n",
      "  0.95064346 0.        ]]\n",
      "[[1. 1. 1.]]\n"
     ]
    }
   ],
   "source": [
    "A = np.random.random_sample((6,6))\n",
    "kernel = np.ones((1,3))\n",
    "print(A)\n",
    "A = np.hstack((np.zeros((A.shape[0],1)), A))\n",
    "A = np.hstack( (A, np.zeros((A.shape[0],1)) ))\n",
    "print(A)\n",
    "\n",
    "print(kernel)"
   ]
  },
  {
   "cell_type": "code",
   "execution_count": 46,
   "id": "96be6c95",
   "metadata": {},
   "outputs": [
    {
     "data": {
      "text/plain": [
       "array([[0.38688521, 0.70743737, 0.63971096, 0.63713113, 0.47047144,\n",
       "        0.41130354],\n",
       "       [0.46510815, 0.54095529, 0.49405054, 0.60529065, 0.79217523,\n",
       "        0.53007101],\n",
       "       [0.30115614, 0.43151121, 0.3942709 , 0.57839614, 0.55992413,\n",
       "        0.38109169],\n",
       "       [0.25029855, 0.38163534, 0.31520672, 0.50104798, 0.46144868,\n",
       "        0.39429445],\n",
       "       [0.47268098, 0.54288559, 0.38430029, 0.21788006, 0.41179864,\n",
       "        0.2871391 ],\n",
       "       [0.55208281, 0.78551626, 0.60441701, 0.45539743, 0.53884514,\n",
       "        0.44012508]])"
      ]
     },
     "execution_count": 46,
     "metadata": {},
     "output_type": "execute_result"
    }
   ],
   "source": [
    "out = np.ones((A.shape[0],A.shape[1]-2))\n",
    "for i in range(A.shape[0]):\n",
    "    for j in range(1,A.shape[1] - 1):\n",
    "        out[i,j-1] = (A[i,j-1]*kernel[0][0] + A[i,j]*kernel[0][1] + A[i,j+1]*kernel[0][2])/3\n",
    "out"
   ]
  },
  {
   "cell_type": "code",
   "execution_count": 14,
   "id": "f7d46229",
   "metadata": {},
   "outputs": [
    {
     "data": {
      "text/plain": [
       "array([0.15178871])"
      ]
     },
     "execution_count": 14,
     "metadata": {},
     "output_type": "execute_result"
    }
   ],
   "source": [
    "i = 0\n",
    "j = 1\n",
    "A[i,j-1:j+2]\n",
    "dot = np.dot(kernel,A[i,j-1:j+2])/kernel.shape[1]\n",
    "dot"
   ]
  }
 ],
 "metadata": {
  "kernelspec": {
   "display_name": "Python 3 (ipykernel)",
   "language": "python",
   "name": "python3"
  },
  "language_info": {
   "codemirror_mode": {
    "name": "ipython",
    "version": 3
   },
   "file_extension": ".py",
   "mimetype": "text/x-python",
   "name": "python",
   "nbconvert_exporter": "python",
   "pygments_lexer": "ipython3",
   "version": "3.10.0"
  }
 },
 "nbformat": 4,
 "nbformat_minor": 5
}
