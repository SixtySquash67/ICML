{
 "cells": [
  {
   "cell_type": "code",
   "execution_count": 66,
   "metadata": {},
   "outputs": [],
   "source": [
    "import os\n",
    "import shutil"
   ]
  },
  {
   "cell_type": "code",
   "execution_count": 14,
   "metadata": {},
   "outputs": [
    {
     "name": "stdout",
     "output_type": "stream",
     "text": [
      "000001.jpg 0 1 1 0 0 0 0 0 0 0 0 1 0 0 0 0 0 0 1 1 0 1 0 0 1 0 0 1 0 0 0 1 1 0 1 0 1 0 0 1\n",
      "\n",
      "1\n"
     ]
    }
   ],
   "source": [
    "FileAttr = open(\"FileAttr.txt\", \"r\")\n",
    "attrs = FileAttr.readlines()\n",
    "print(attrs[0])\n",
    "print(attrs[6][51])\n",
    "#                                               v"
   ]
  },
  {
   "cell_type": "code",
   "execution_count": 80,
   "metadata": {},
   "outputs": [
    {
     "name": "stdout",
     "output_type": "stream",
     "text": [
      "Homens inseridos =  5000\n",
      "Mulheres inseridas =  5000\n"
     ]
    }
   ],
   "source": [
    "TAM = 5000\n",
    "homens = [1]*TAM\n",
    "mulheres = [1]*TAM\n",
    "indiceM = 0\n",
    "indiceH = 0\n",
    "for i in range(0, 30000):\n",
    "    #Mulher\n",
    "    if(int(attrs[i][51]) == 0 and indiceM < TAM):\n",
    "        nome = []\n",
    "        for j in range(0,7):\n",
    "            nome.append(attrs[i][j])\n",
    "        nome.append('png')\n",
    "        mulheres[indiceM] = nome\n",
    "        indiceM += 1\n",
    "    #Homem\n",
    "    elif indiceH < TAM:\n",
    "        nome2 = []\n",
    "        for j in range(0,7):\n",
    "            nome2.append(attrs[i][j])\n",
    "        nome2.append('png')\n",
    "        homens[indiceH] = nome2\n",
    "        indiceH += 1\n",
    "print(\"Homens inseridos = \",indiceH)\n",
    "print(\"Mulheres inseridas = \",indiceM)\n",
    "\n"
   ]
  },
  {
   "cell_type": "code",
   "execution_count": 81,
   "metadata": {},
   "outputs": [
    {
     "data": {
      "text/plain": [
       "'000007.png'"
      ]
     },
     "execution_count": 81,
     "metadata": {},
     "output_type": "execute_result"
    }
   ],
   "source": [
    "''.join(homens[1])"
   ]
  },
  {
   "cell_type": "code",
   "execution_count": 83,
   "metadata": {},
   "outputs": [],
   "source": [
    "src_dir = \"train/\"\n",
    "Homens_dir = \"5KMEN/\"\n",
    "Mulheres_dir = \"5KWOMEN/\"\n",
    "\n",
    "# Iterate through each filename in your array\n",
    "for i in range(0,TAM):\n",
    "    src_path = os.path.join(src_dir, ''.join(homens[i]))\n",
    "    target_path = os.path.join(Homens_dir, ''.join(homens[i]))\n",
    "    shutil.copy(src_path, target_path)\n",
    "\n",
    "for j in range(0,TAM):\n",
    "    src_path = os.path.join(src_dir, ''.join(mulheres[j]))\n",
    "    target_path = os.path.join(Mulheres_dir, ''.join(mulheres[j]))\n",
    "    shutil.copy(src_path, target_path)"
   ]
  }
 ],
 "metadata": {
  "kernelspec": {
   "display_name": "Python 3",
   "language": "python",
   "name": "python3"
  },
  "language_info": {
   "codemirror_mode": {
    "name": "ipython",
    "version": 3
   },
   "file_extension": ".py",
   "mimetype": "text/x-python",
   "name": "python",
   "nbconvert_exporter": "python",
   "pygments_lexer": "ipython3",
   "version": "3.10.0"
  },
  "orig_nbformat": 4
 },
 "nbformat": 4,
 "nbformat_minor": 2
}
