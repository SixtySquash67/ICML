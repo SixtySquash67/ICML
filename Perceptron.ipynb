{
 "cells": [
  {
   "cell_type": "code",
   "execution_count": null,
   "id": "c3a87a01",
   "metadata": {},
   "outputs": [],
   "source": [
    "import numpy as np\n",
    "from sklearn.utils import check_random_state\n",
    "from sklearn.base import BaseEstimator, ClassifierMixin\n",
    "\n",
    "class Perceptron(BaseEstimator, ClassifierMixin):\n",
    "    \"\"\"Perceptron classifier\"\"\"\n",
    "    def __init__(self, max_iter=50, lern_rate=0.2, random_state=None):\n",
    "        super(Perceptron, self).__init__()\n",
    "        self.max_iter = max_iter\n",
    "        self.lern_rate = lern_rate\n",
    "        self.random_state = random_state\n",
    "\n",
    "    def fit(self, X, y):\n",
    "        random_state = check_random_state(self.random_state)\n",
    "        n_samples, n_features = X.shape\n",
    "        self.w = random_state.rand(n_features)\n",
    "\n",
    "        for i in range(self.max_iter):\n",
    "            idx = random_state.randint(0, n_samples)\n",
    "            x, expected = X[idx,:], y[idx]\n",
    "            d = np.dot(x, self.w)\n",
    "            error = expected - self.step_func(d)\n",
    "            #if the error is zero (1-1 or 0-0), then there is no update in w\n",
    "            #if the error is one (1-0), it means that the prediction was zero\n",
    "            #if the erros is minus one (0-1), it means that the prediction was one\n",
    "            self.w += self.lern_rate * error * x\n",
    "            print(error)\n",
    "\n",
    "        return self\n",
    "\n",
    "    @classmethod\n",
    "    def step_func(self, d):\n",
    "        offset = 0 if d < 0 else 1\n",
    "        return offset\n",
    "\n",
    "    def predict(self, X):\n",
    "        v = np.dot(X, self.w)\n",
    "        y = np.array([self.step_func(d) for d in v])\n",
    "        return y\n",
    "\n",
    "if __name__ == '__main__':\n",
    "    X = np.array([[0,0,1],[0,1,1],[1,0,1],[1,1,1]])\n",
    "    y = np.array([0,1,1,1])\n",
    "\n",
    "    cls = Perceptron()\n",
    "    cls.fit(X, y)\n",
    "    print(cls.predict(X))"
   ]
  }
 ],
 "metadata": {
  "kernelspec": {
   "display_name": "Python 3 (ipykernel)",
   "language": "python",
   "name": "python3"
  },
  "language_info": {
   "codemirror_mode": {
    "name": "ipython",
    "version": 3
   },
   "file_extension": ".py",
   "mimetype": "text/x-python",
   "name": "python",
   "nbconvert_exporter": "python",
   "pygments_lexer": "ipython3",
   "version": "3.10.0"
  },
  "vscode": {
   "interpreter": {
    "hash": "8d3e54fe3ce154e32ac346abb9a52721706f8b6192d2a6d9e7d1f2a1d569502c"
   }
  }
 },
 "nbformat": 4,
 "nbformat_minor": 5
}
