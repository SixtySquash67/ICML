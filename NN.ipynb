{
 "cells": [
  {
   "cell_type": "code",
   "execution_count": 19,
   "id": "83e2072a",
   "metadata": {},
   "outputs": [],
   "source": [
    "import numpy as np"
   ]
  },
  {
   "cell_type": "code",
   "execution_count": 58,
   "id": "39911605",
   "metadata": {},
   "outputs": [
    {
     "data": {
      "text/plain": [
       "array([[1.        , 0.37454012, 0.95071431, 0.73199394],\n",
       "       [1.        , 0.59865848, 0.15601864, 0.15599452],\n",
       "       [1.        , 0.05808361, 0.86617615, 0.60111501],\n",
       "       [1.        , 0.70807258, 0.02058449, 0.96990985],\n",
       "       [1.        , 0.83244264, 0.21233911, 0.18182497],\n",
       "       [1.        , 0.18340451, 0.30424224, 0.52475643],\n",
       "       [1.        , 0.43194502, 0.29122914, 0.61185289],\n",
       "       [1.        , 0.13949386, 0.29214465, 0.36636184],\n",
       "       [1.        , 0.45606998, 0.78517596, 0.19967378],\n",
       "       [1.        , 0.51423444, 0.59241457, 0.04645041]])"
      ]
     },
     "execution_count": 58,
     "metadata": {},
     "output_type": "execute_result"
    }
   ],
   "source": [
    "rs = np.random.RandomState(42)\n",
    "x = rs.rand(10,3)\n",
    "x = np.vstack(([1]*x.shape[0],x.T)).T\n",
    "W1 = rs.rand(4,4)\n",
    "W2 = rs.rand(5)\n",
    "x"
   ]
  },
  {
   "cell_type": "code",
   "execution_count": 38,
   "id": "e9895615",
   "metadata": {},
   "outputs": [],
   "source": [
    "def g(a):\n",
    "    return 1/(1+np.exp(-a))"
   ]
  },
  {
   "cell_type": "code",
   "execution_count": 64,
   "id": "ab66200d",
   "metadata": {},
   "outputs": [
    {
     "data": {
      "text/plain": [
       "array([[1.        , 0.83819992, 0.82597674, 0.61883128, 0.87448411],\n",
       "       [1.        , 0.78545543, 0.70370404, 0.5761088 , 0.76637681],\n",
       "       [1.        , 0.78193357, 0.75865771, 0.58516374, 0.85590927],\n",
       "       [1.        , 0.79227949, 0.83670966, 0.63047278, 0.8416857 ],\n",
       "       [1.        , 0.82677199, 0.75068469, 0.5966657 , 0.77830234],\n",
       "       [1.        , 0.73318926, 0.71704943, 0.57293714, 0.81231385],\n",
       "       [1.        , 0.77642517, 0.76928226, 0.59640411, 0.82355929],\n",
       "       [1.        , 0.72206708, 0.67809242, 0.55922153, 0.79411268],\n",
       "       [1.        , 0.83090439, 0.74390683, 0.58697397, 0.81973013],\n",
       "       [1.        , 0.81921722, 0.70872938, 0.57591157, 0.78971965]])"
      ]
     },
     "execution_count": 64,
     "metadata": {},
     "output_type": "execute_result"
    }
   ],
   "source": [
    "a = g(np.dot(x,W1))\n",
    "a = np.vstack(([1]*a.shape[0],a.T)).T\n",
    "a"
   ]
  },
  {
   "cell_type": "code",
   "execution_count": 65,
   "id": "ae331685",
   "metadata": {},
   "outputs": [
    {
     "data": {
      "text/plain": [
       "array([0.89673687, 0.87593508, 0.88807054, 0.8922391 , 0.88257273,\n",
       "       0.878527  , 0.88542498, 0.87339205, 0.88633524, 0.88052269])"
      ]
     },
     "execution_count": 65,
     "metadata": {},
     "output_type": "execute_result"
    }
   ],
   "source": [
    "g(np.dot(a , W2))"
   ]
  },
  {
   "cell_type": "code",
   "execution_count": 67,
   "id": "7688e31e",
   "metadata": {},
   "outputs": [
    {
     "ename": "ValueError",
     "evalue": "shapes (10,4) and (5,) not aligned: 4 (dim 1) != 5 (dim 0)",
     "output_type": "error",
     "traceback": [
      "\u001b[1;31m---------------------------------------------------------------------------\u001b[0m",
      "\u001b[1;31mValueError\u001b[0m                                Traceback (most recent call last)",
      "Input \u001b[1;32mIn [67]\u001b[0m, in \u001b[0;36m<module>\u001b[1;34m\u001b[0m\n\u001b[0;32m      1\u001b[0m a \u001b[38;5;241m=\u001b[39m g(np\u001b[38;5;241m.\u001b[39mdot(x,W1))\n\u001b[0;32m      2\u001b[0m a\n\u001b[1;32m----> 3\u001b[0m \u001b[43mnp\u001b[49m\u001b[38;5;241;43m.\u001b[39;49m\u001b[43mdot\u001b[49m\u001b[43m(\u001b[49m\u001b[43ma\u001b[49m\u001b[43m,\u001b[49m\u001b[43mW2\u001b[49m\u001b[43m)\u001b[49m\n",
      "File \u001b[1;32m<__array_function__ internals>:180\u001b[0m, in \u001b[0;36mdot\u001b[1;34m(*args, **kwargs)\u001b[0m\n",
      "\u001b[1;31mValueError\u001b[0m: shapes (10,4) and (5,) not aligned: 4 (dim 1) != 5 (dim 0)"
     ]
    }
   ],
   "source": [
    "a = g(np.dot(x,W1))\n",
    "a\n",
    "np.dot(a, W2)"
   ]
  },
  {
   "cell_type": "code",
   "execution_count": null,
   "id": "270b3073",
   "metadata": {},
   "outputs": [],
   "source": []
  }
 ],
 "metadata": {
  "kernelspec": {
   "display_name": "Python 3 (ipykernel)",
   "language": "python",
   "name": "python3"
  },
  "language_info": {
   "codemirror_mode": {
    "name": "ipython",
    "version": 3
   },
   "file_extension": ".py",
   "mimetype": "text/x-python",
   "name": "python",
   "nbconvert_exporter": "python",
   "pygments_lexer": "ipython3",
   "version": "3.10.0"
  }
 },
 "nbformat": 4,
 "nbformat_minor": 5
}
