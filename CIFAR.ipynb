{
 "cells": [
  {
   "cell_type": "code",
   "execution_count": 1,
   "id": "bc25749e",
   "metadata": {},
   "outputs": [
    {
     "name": "stdout",
     "output_type": "stream",
     "text": [
      "GPUs Available:  1\n"
     ]
    }
   ],
   "source": [
    "import tensorflow as tf\n",
    "gpu = tf.config.experimental.list_physical_devices('GPU')\n",
    "print(\"GPUs Available: \", len(gpu))\n",
    "tf.config.experimental.set_memory_growth(gpu[0], True)\n",
    "import os\n",
    "from keras.datasets import cifar10\n",
    "from keras.models import Model\n",
    "from keras.layers import Input\n",
    "from keras import applications\n",
    "from keras import layers\n",
    "from keras import models\n",
    "from keras import utils\n",
    "from keras import optimizers\n",
    "from keras.callbacks import ModelCheckpoint, EarlyStopping\n",
    "from keras.applications.vgg16 import VGG16\n",
    "from keras.utils import to_categorical\n",
    "from sklearn.model_selection import train_test_split\n",
    "from sklearn import datasets\n",
    "from sklearn.svm import LinearSVC\n",
    "from sklearn.preprocessing import MinMaxScaler\n",
    "from matplotlib import pyplot as plt\n",
    "import numpy as np\n",
    "from PIL import Image\n",
    "import cv2"
   ]
  },
  {
   "cell_type": "code",
   "execution_count": 2,
   "id": "b61c59ee",
   "metadata": {},
   "outputs": [
    {
     "name": "stdout",
     "output_type": "stream",
     "text": [
      "Model: \"vgg16\"\n",
      "_________________________________________________________________\n",
      " Layer (type)                Output Shape              Param #   \n",
      "=================================================================\n",
      " input_1 (InputLayer)        [(None, 32, 32, 3)]       0         \n",
      "                                                                 \n",
      " block1_conv1 (Conv2D)       (None, 32, 32, 64)        1792      \n",
      "                                                                 \n",
      " block1_conv2 (Conv2D)       (None, 32, 32, 64)        36928     \n",
      "                                                                 \n",
      " block1_pool (MaxPooling2D)  (None, 16, 16, 64)        0         \n",
      "                                                                 \n",
      " block2_conv1 (Conv2D)       (None, 16, 16, 128)       73856     \n",
      "                                                                 \n",
      " block2_conv2 (Conv2D)       (None, 16, 16, 128)       147584    \n",
      "                                                                 \n",
      " block2_pool (MaxPooling2D)  (None, 8, 8, 128)         0         \n",
      "                                                                 \n",
      " block3_conv1 (Conv2D)       (None, 8, 8, 256)         295168    \n",
      "                                                                 \n",
      " block3_conv2 (Conv2D)       (None, 8, 8, 256)         590080    \n",
      "                                                                 \n",
      " block3_conv3 (Conv2D)       (None, 8, 8, 256)         590080    \n",
      "                                                                 \n",
      " block3_pool (MaxPooling2D)  (None, 4, 4, 256)         0         \n",
      "                                                                 \n",
      " block4_conv1 (Conv2D)       (None, 4, 4, 512)         1180160   \n",
      "                                                                 \n",
      " block4_conv2 (Conv2D)       (None, 4, 4, 512)         2359808   \n",
      "                                                                 \n",
      " block4_conv3 (Conv2D)       (None, 4, 4, 512)         2359808   \n",
      "                                                                 \n",
      " block4_pool (MaxPooling2D)  (None, 2, 2, 512)         0         \n",
      "                                                                 \n",
      " block5_conv1 (Conv2D)       (None, 2, 2, 512)         2359808   \n",
      "                                                                 \n",
      " block5_conv2 (Conv2D)       (None, 2, 2, 512)         2359808   \n",
      "                                                                 \n",
      " block5_conv3 (Conv2D)       (None, 2, 2, 512)         2359808   \n",
      "                                                                 \n",
      " block5_pool (MaxPooling2D)  (None, 1, 1, 512)         0         \n",
      "                                                                 \n",
      "=================================================================\n",
      "Total params: 14,714,688\n",
      "Trainable params: 14,714,688\n",
      "Non-trainable params: 0\n",
      "_________________________________________________________________\n"
     ]
    }
   ],
   "source": [
    "imgnet = applications.VGG16(weights = \"imagenet\", include_top=False, input_shape = (32, 32, 3))\n",
    "imgnet.summary()"
   ]
  },
  {
   "cell_type": "code",
   "execution_count": 3,
   "id": "7af2202f",
   "metadata": {},
   "outputs": [
    {
     "data": {
      "text/plain": [
       "(50000, 32, 32, 3)"
      ]
     },
     "execution_count": 3,
     "metadata": {},
     "output_type": "execute_result"
    }
   ],
   "source": [
    "(x_train, y_train), (x_test, y_test) = cifar10.load_data()\n",
    "#x_train = x_train[-10000:]\n",
    "#y_train = y_train[-10000:]\n",
    "\n",
    "#x_test = x_test[:-9000]\n",
    "#y_test = y_test[:-9000]\n",
    "x_train.shape"
   ]
  },
  {
   "cell_type": "code",
   "execution_count": 4,
   "id": "7fc27433",
   "metadata": {},
   "outputs": [
    {
     "data": {
      "text/plain": [
       "array([0, 1, 0, 0, 0, 0, 0, 0, 0, 0])"
      ]
     },
     "execution_count": 4,
     "metadata": {},
     "output_type": "execute_result"
    }
   ],
   "source": [
    "y_train = to_categorical(y_train, dtype='int')\n",
    "y_test = to_categorical(y_test, dtype='int')\n",
    "y_test[9]"
   ]
  },
  {
   "cell_type": "code",
   "execution_count": 5,
   "id": "0e11d452",
   "metadata": {},
   "outputs": [
    {
     "data": {
      "text/plain": [
       "(50000, 10)"
      ]
     },
     "execution_count": 5,
     "metadata": {},
     "output_type": "execute_result"
    },
    {
     "data": {
      "image/png": "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\n",
      "text/plain": [
       "<Figure size 432x288 with 1 Axes>"
      ]
     },
     "metadata": {
      "needs_background": "light"
     },
     "output_type": "display_data"
    }
   ],
   "source": [
    "plt.imshow(x_test[9])\n",
    "y_train.shape"
   ]
  },
  {
   "cell_type": "code",
   "execution_count": 6,
   "id": "8a4319b0",
   "metadata": {},
   "outputs": [
    {
     "data": {
      "text/plain": [
       "(10000, 32, 32, 3)"
      ]
     },
     "execution_count": 6,
     "metadata": {},
     "output_type": "execute_result"
    }
   ],
   "source": [
    "x_test.shape"
   ]
  },
  {
   "cell_type": "code",
   "execution_count": 7,
   "id": "7ea67389",
   "metadata": {},
   "outputs": [
    {
     "data": {
      "text/plain": [
       "(128, 128, 3)"
      ]
     },
     "execution_count": 7,
     "metadata": {},
     "output_type": "execute_result"
    },
    {
     "data": {
      "image/png": "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\n",
      "text/plain": [
       "<Figure size 432x288 with 1 Axes>"
      ]
     },
     "metadata": {
      "needs_background": "light"
     },
     "output_type": "display_data"
    }
   ],
   "source": [
    "sr = cv2.dnn_superres.DnnSuperResImpl_create()\n",
    "path = \"EDSR_x4.pb\"\n",
    "sr.readModel(path)\n",
    "sr.setModel(\"edsr\",4)\n",
    "#x_train = np.zeros((10000,128,128,3))\n",
    "#x_test = np.zeros((1000,128,128,3))\n",
    "#for i in range(0, 49999):\n",
    "#    x_train[i] = sr.upsample(X_train[i])\n",
    "#for j in range(0, 9999):\n",
    "#    x_test[j] = sr.upsample(X_test[j])\n",
    "result = sr.upsample(x_test[9])\n",
    "plt.imshow(result)\n",
    "result.shape"
   ]
  },
  {
   "cell_type": "code",
   "execution_count": 8,
   "id": "4a20cff6",
   "metadata": {},
   "outputs": [
    {
     "data": {
      "text/plain": [
       "(50000, 32, 32, 3)"
      ]
     },
     "execution_count": 8,
     "metadata": {},
     "output_type": "execute_result"
    }
   ],
   "source": [
    "x_train.shape"
   ]
  },
  {
   "cell_type": "code",
   "execution_count": 9,
   "id": "53190596",
   "metadata": {},
   "outputs": [],
   "source": [
    "imgnet.trainable = False"
   ]
  },
  {
   "cell_type": "code",
   "execution_count": 10,
   "id": "4db5e760",
   "metadata": {},
   "outputs": [
    {
     "name": "stdout",
     "output_type": "stream",
     "text": [
      "Model: \"sequential\"\n",
      "_________________________________________________________________\n",
      " Layer (type)                Output Shape              Param #   \n",
      "=================================================================\n",
      " block1_conv1 (Conv2D)       (None, 32, 32, 64)        1792      \n",
      "                                                                 \n",
      " block1_conv2 (Conv2D)       (None, 32, 32, 64)        36928     \n",
      "                                                                 \n",
      " block1_pool (MaxPooling2D)  (None, 16, 16, 64)        0         \n",
      "                                                                 \n",
      " block2_conv1 (Conv2D)       (None, 16, 16, 128)       73856     \n",
      "                                                                 \n",
      " block2_conv2 (Conv2D)       (None, 16, 16, 128)       147584    \n",
      "                                                                 \n",
      " block2_pool (MaxPooling2D)  (None, 8, 8, 128)         0         \n",
      "                                                                 \n",
      " block3_conv1 (Conv2D)       (None, 8, 8, 256)         295168    \n",
      "                                                                 \n",
      " block3_conv2 (Conv2D)       (None, 8, 8, 256)         590080    \n",
      "                                                                 \n",
      " block3_conv3 (Conv2D)       (None, 8, 8, 256)         590080    \n",
      "                                                                 \n",
      " block3_pool (MaxPooling2D)  (None, 4, 4, 256)         0         \n",
      "                                                                 \n",
      " block4_conv1 (Conv2D)       (None, 4, 4, 512)         1180160   \n",
      "                                                                 \n",
      " block4_conv2 (Conv2D)       (None, 4, 4, 512)         2359808   \n",
      "                                                                 \n",
      " block4_conv3 (Conv2D)       (None, 4, 4, 512)         2359808   \n",
      "                                                                 \n",
      " block4_pool (MaxPooling2D)  (None, 2, 2, 512)         0         \n",
      "                                                                 \n",
      " block5_conv1 (Conv2D)       (None, 2, 2, 512)         2359808   \n",
      "                                                                 \n",
      " block5_conv2 (Conv2D)       (None, 2, 2, 512)         2359808   \n",
      "                                                                 \n",
      " block5_conv3 (Conv2D)       (None, 2, 2, 512)         2359808   \n",
      "                                                                 \n",
      " block5_pool (MaxPooling2D)  (None, 1, 1, 512)         0         \n",
      "                                                                 \n",
      " flatten (Flatten)           (None, 512)               0         \n",
      "                                                                 \n",
      " dense (Dense)               (None, 256)               131328    \n",
      "                                                                 \n",
      " dense_1 (Dense)             (None, 64)                16448     \n",
      "                                                                 \n",
      " dense_2 (Dense)             (None, 10)                650       \n",
      "                                                                 \n",
      "=================================================================\n",
      "Total params: 14,863,114\n",
      "Trainable params: 148,426\n",
      "Non-trainable params: 14,714,688\n",
      "_________________________________________________________________\n"
     ]
    }
   ],
   "source": [
    "new = models.Sequential(imgnet.layers[:])\n",
    "    \n",
    "for layer in new.layers:\n",
    "    layer.trainable = False\n",
    "    \n",
    "new.add(layers.Flatten())\n",
    "new.add(layers.Dense(256, activation='relu'))\n",
    "new.add(layers.Dense(64, activation='relu'))\n",
    "new.add(layers.Dense(10, activation='softmax'))\n",
    "\n",
    "new.compile(optimizer = 'adam', loss = 'categorical_crossentropy', metrics = ['accuracy'])\n",
    "new.summary()"
   ]
  },
  {
   "cell_type": "code",
   "execution_count": 11,
   "id": "1bacfee2",
   "metadata": {},
   "outputs": [],
   "source": [
    "checkpoint_path = \"./training/cp-{epoch:02d}-{val_accuracy:.5f}.hdf5\"\n",
    "checkpoint_dir = os.path.dirname(checkpoint_path)\n",
    "checkpoint = ModelCheckpoint(checkpoint_path, monitor = \"val_accuracy\", save_best_only = True, save_freq=\"epoch\", mode = \"max\")\n",
    "sstop = EarlyStopping(monitor = 'val_loss', patience = 1) "
   ]
  },
  {
   "cell_type": "code",
   "execution_count": 12,
   "id": "3053841d",
   "metadata": {},
   "outputs": [
    {
     "name": "stdout",
     "output_type": "stream",
     "text": [
<<<<<<< HEAD
      "Epoch 1/15\n",
      "313/313 [==============================] - 11s 22ms/step - loss: 2.1841 - accuracy: 0.3801 - val_loss: 1.5367 - val_accuracy: 0.4823\n",
      "Epoch 2/15\n",
      "313/313 [==============================] - 6s 20ms/step - loss: 1.3315 - accuracy: 0.5394 - val_loss: 1.3442 - val_accuracy: 0.5444\n",
      "Epoch 3/15\n",
      "313/313 [==============================] - 6s 20ms/step - loss: 1.1512 - accuracy: 0.5981 - val_loss: 1.2787 - val_accuracy: 0.5612\n",
      "Epoch 4/15\n",
      "313/313 [==============================] - 7s 21ms/step - loss: 1.0434 - accuracy: 0.6351 - val_loss: 1.2382 - val_accuracy: 0.5850\n",
      "Epoch 5/15\n",
      "313/313 [==============================] - 6s 20ms/step - loss: 0.9615 - accuracy: 0.6619 - val_loss: 1.2484 - val_accuracy: 0.5837\n",
      "Epoch 6/15\n",
      "313/313 [==============================] - 7s 21ms/step - loss: 0.8849 - accuracy: 0.6881 - val_loss: 1.2634 - val_accuracy: 0.5924\n",
      "Epoch 7/15\n",
      "313/313 [==============================] - 7s 21ms/step - loss: 0.8200 - accuracy: 0.7110 - val_loss: 1.2726 - val_accuracy: 0.5972\n",
      "Epoch 8/15\n",
      "313/313 [==============================] - 7s 21ms/step - loss: 0.7547 - accuracy: 0.7341 - val_loss: 1.3648 - val_accuracy: 0.5845\n",
      "Epoch 9/15\n",
      "313/313 [==============================] - 7s 21ms/step - loss: 0.6961 - accuracy: 0.7568 - val_loss: 1.3638 - val_accuracy: 0.5905\n",
      "Epoch 10/15\n",
      "313/313 [==============================] - 6s 21ms/step - loss: 0.6342 - accuracy: 0.7773 - val_loss: 1.4696 - val_accuracy: 0.5813\n",
      "Epoch 11/15\n",
      "313/313 [==============================] - 6s 20ms/step - loss: 0.5928 - accuracy: 0.7905 - val_loss: 1.4841 - val_accuracy: 0.5900\n",
      "Epoch 12/15\n",
      "313/313 [==============================] - 6s 20ms/step - loss: 0.5338 - accuracy: 0.8109 - val_loss: 1.5378 - val_accuracy: 0.5887\n",
      "Epoch 13/15\n",
      "313/313 [==============================] - 6s 20ms/step - loss: 0.4933 - accuracy: 0.8274 - val_loss: 1.6589 - val_accuracy: 0.5849\n",
      "Epoch 14/15\n",
      "313/313 [==============================] - 6s 20ms/step - loss: 0.4506 - accuracy: 0.8413 - val_loss: 1.7282 - val_accuracy: 0.5810\n",
      "Epoch 15/15\n",
      "313/313 [==============================] - 6s 20ms/step - loss: 0.4139 - accuracy: 0.8540 - val_loss: 1.8227 - val_accuracy: 0.5745\n"
=======
      "Epoch 1/25\n",
      "20/20 [==============================] - 9s 256ms/step - loss: 9.6756 - accuracy: 0.2126 - val_loss: 3.2762 - val_accuracy: 0.3056\n",
      "Epoch 2/25\n",
      "20/20 [==============================] - 4s 225ms/step - loss: 2.4066 - accuracy: 0.3047 - val_loss: 2.0410 - val_accuracy: 0.2986\n",
      "Epoch 3/25\n",
      "20/20 [==============================] - 5s 234ms/step - loss: 1.9113 - accuracy: 0.3353 - val_loss: 1.8543 - val_accuracy: 0.3764\n",
      "Epoch 4/25\n",
      "20/20 [==============================] - 5s 234ms/step - loss: 1.7570 - accuracy: 0.4062 - val_loss: 1.7567 - val_accuracy: 0.4141\n",
      "Epoch 5/25\n",
      "20/20 [==============================] - 5s 238ms/step - loss: 1.6456 - accuracy: 0.4405 - val_loss: 1.6845 - val_accuracy: 0.4393\n",
      "Epoch 6/25\n",
      "20/20 [==============================] - 5s 231ms/step - loss: 1.5584 - accuracy: 0.4636 - val_loss: 1.6313 - val_accuracy: 0.4560\n",
      "Epoch 7/25\n",
      "20/20 [==============================] - 5s 233ms/step - loss: 1.4845 - accuracy: 0.4851 - val_loss: 1.5837 - val_accuracy: 0.4709\n",
      "Epoch 8/25\n",
      "20/20 [==============================] - 5s 232ms/step - loss: 1.4197 - accuracy: 0.5066 - val_loss: 1.5492 - val_accuracy: 0.4820\n",
      "Epoch 9/25\n",
      "20/20 [==============================] - 5s 245ms/step - loss: 1.3642 - accuracy: 0.5242 - val_loss: 1.5193 - val_accuracy: 0.4933\n",
      "Epoch 10/25\n",
      "20/20 [==============================] - 5s 244ms/step - loss: 1.3128 - accuracy: 0.5415 - val_loss: 1.4951 - val_accuracy: 0.5007\n",
      "Epoch 11/25\n",
      "20/20 [==============================] - 5s 255ms/step - loss: 1.2662 - accuracy: 0.5566 - val_loss: 1.4751 - val_accuracy: 0.5089\n",
      "Epoch 12/25\n",
      "20/20 [==============================] - 5s 250ms/step - loss: 1.2251 - accuracy: 0.5704 - val_loss: 1.4556 - val_accuracy: 0.5141\n",
      "Epoch 13/25\n",
      "20/20 [==============================] - 4s 229ms/step - loss: 1.1879 - accuracy: 0.5834 - val_loss: 1.4415 - val_accuracy: 0.5228\n",
      "Epoch 14/25\n",
      "20/20 [==============================] - 4s 230ms/step - loss: 1.1539 - accuracy: 0.5972 - val_loss: 1.4257 - val_accuracy: 0.5282\n",
      "Epoch 15/25\n",
      "20/20 [==============================] - 4s 227ms/step - loss: 1.1227 - accuracy: 0.6062 - val_loss: 1.4176 - val_accuracy: 0.5246\n",
      "Epoch 16/25\n",
      "20/20 [==============================] - 5s 237ms/step - loss: 1.0921 - accuracy: 0.6176 - val_loss: 1.4121 - val_accuracy: 0.5316\n",
      "Epoch 17/25\n",
      "20/20 [==============================] - 5s 233ms/step - loss: 1.0640 - accuracy: 0.6265 - val_loss: 1.4010 - val_accuracy: 0.5352\n",
      "Epoch 18/25\n",
      "20/20 [==============================] - 5s 246ms/step - loss: 1.0365 - accuracy: 0.6363 - val_loss: 1.4012 - val_accuracy: 0.5369\n",
      "Epoch 19/25\n",
      "20/20 [==============================] - 5s 234ms/step - loss: 1.0115 - accuracy: 0.6462 - val_loss: 1.3917 - val_accuracy: 0.5404\n",
      "Epoch 20/25\n",
      "20/20 [==============================] - 5s 243ms/step - loss: 0.9869 - accuracy: 0.6551 - val_loss: 1.3902 - val_accuracy: 0.5425\n",
      "Epoch 21/25\n",
      "20/20 [==============================] - 5s 236ms/step - loss: 0.9648 - accuracy: 0.6614 - val_loss: 1.3891 - val_accuracy: 0.5464\n",
      "Epoch 22/25\n",
      "20/20 [==============================] - 5s 235ms/step - loss: 0.9408 - accuracy: 0.6697 - val_loss: 1.3902 - val_accuracy: 0.5505\n",
      "Epoch 23/25\n",
      "20/20 [==============================] - 5s 231ms/step - loss: 0.9208 - accuracy: 0.6754 - val_loss: 1.3872 - val_accuracy: 0.5496\n",
      "Epoch 24/25\n",
      "20/20 [==============================] - 5s 233ms/step - loss: 0.8991 - accuracy: 0.6830 - val_loss: 1.3864 - val_accuracy: 0.5539\n",
      "Epoch 25/25\n",
      "20/20 [==============================] - 4s 226ms/step - loss: 0.8774 - accuracy: 0.6911 - val_loss: 1.3892 - val_accuracy: 0.5539\n"
>>>>>>> 50a03a8c6526c803c7cf4dbaeaa44f6e45af56ba
     ]
    },
    {
     "data": {
      "text/plain": [
<<<<<<< HEAD
       "<keras.callbacks.History at 0x274e3426620>"
=======
       "<keras.callbacks.History at 0x1995e2342e0>"
>>>>>>> 50a03a8c6526c803c7cf4dbaeaa44f6e45af56ba
      ]
     },
     "execution_count": 12,
     "metadata": {},
     "output_type": "execute_result"
    }
   ],
   "source": [
    "TBcallback = tf.keras.callbacks.TensorBoard(log_dir = \"logs/\", histogram_freq = 1)\n",
<<<<<<< HEAD
    "new.fit(x_train, y_train, epochs=15, validation_split=0.2, batch_size=128, callbacks=[checkpoint, TBcallback], shuffle = True)"
=======
    "new.fit(x_train, y_train, epochs=25, validation_split=0.2, batch_size=2000, callbacks=[checkpoint, TBcallback], shuffle = True)"
>>>>>>> 50a03a8c6526c803c7cf4dbaeaa44f6e45af56ba
   ]
  },
  {
   "cell_type": "code",
   "execution_count": 13,
   "id": "78d958c2",
   "metadata": {},
   "outputs": [
    {
     "name": "stdout",
     "output_type": "stream",
     "text": [
<<<<<<< HEAD
      "313/313 [==============================] - 2s 7ms/step - loss: 1.8072 - accuracy: 0.5908\n"
=======
      "313/313 [==============================] - 3s 8ms/step - loss: 1.3719 - accuracy: 0.5640\n"
>>>>>>> 50a03a8c6526c803c7cf4dbaeaa44f6e45af56ba
     ]
    },
    {
     "data": {
      "text/plain": [
<<<<<<< HEAD
       "[1.8072007894515991, 0.5907999873161316]"
=======
       "[1.3718581199645996, 0.5640000104904175]"
>>>>>>> 50a03a8c6526c803c7cf4dbaeaa44f6e45af56ba
      ]
     },
     "execution_count": 13,
     "metadata": {},
     "output_type": "execute_result"
    }
   ],
   "source": [
    "new.evaluate(x_test, y_test)"
   ]
  },
  {
   "cell_type": "code",
   "execution_count": 14,
   "id": "8d145b02",
   "metadata": {},
   "outputs": [
    {
     "name": "stdout",
     "output_type": "stream",
     "text": [
<<<<<<< HEAD
      "Epoch 1/3\n",
      "1250/1250 [==============================] - 38s 28ms/step - loss: 0.3110 - accuracy: 0.8933 - val_loss: 1.8625 - val_accuracy: 0.5979\n",
      "Epoch 2/3\n",
      "1250/1250 [==============================] - 35s 28ms/step - loss: 0.2478 - accuracy: 0.9183 - val_loss: 1.8834 - val_accuracy: 0.6092\n",
      "Epoch 3/3\n",
      "1250/1250 [==============================] - 36s 29ms/step - loss: 0.2082 - accuracy: 0.9333 - val_loss: 1.9336 - val_accuracy: 0.6138\n"
=======
      "Epoch 1/5\n",
      "20/20 [==============================] - 14s 482ms/step - loss: 0.8492 - accuracy: 0.7013 - val_loss: 1.3897 - val_accuracy: 0.5561\n",
      "Epoch 2/5\n",
      "20/20 [==============================] - 9s 476ms/step - loss: 0.8446 - accuracy: 0.7034 - val_loss: 1.3882 - val_accuracy: 0.5572\n",
      "Epoch 3/5\n",
      "20/20 [==============================] - 9s 465ms/step - loss: 0.8417 - accuracy: 0.7041 - val_loss: 1.3871 - val_accuracy: 0.5563\n",
      "Epoch 4/5\n",
      "20/20 [==============================] - 9s 461ms/step - loss: 0.8390 - accuracy: 0.7053 - val_loss: 1.3859 - val_accuracy: 0.5570\n",
      "Epoch 5/5\n",
      "20/20 [==============================] - 9s 465ms/step - loss: 0.8366 - accuracy: 0.7060 - val_loss: 1.3848 - val_accuracy: 0.5581\n"
>>>>>>> 50a03a8c6526c803c7cf4dbaeaa44f6e45af56ba
     ]
    },
    {
     "data": {
      "text/plain": [
<<<<<<< HEAD
       "<keras.callbacks.History at 0x274b94e25f0>"
=======
       "<keras.callbacks.History at 0x199682861d0>"
>>>>>>> 50a03a8c6526c803c7cf4dbaeaa44f6e45af56ba
      ]
     },
     "execution_count": 14,
     "metadata": {},
     "output_type": "execute_result"
    }
   ],
   "source": [
    "new.trainable = True\n",
<<<<<<< HEAD
    "new.compile(optimizer = optimizers.RMSprop(learning_rate = 0.000001), loss = 'categorical_crossentropy', metrics = ['accuracy'])\n",
=======
    "new.compile(optimizer = optimizers.RMSprop(learning_rate = 0.0000001), loss = 'categorical_crossentropy', metrics = ['accuracy'])\n",
>>>>>>> 50a03a8c6526c803c7cf4dbaeaa44f6e45af56ba
    "checkpoint_path = \"./training/cpFT-{epoch:02d}-{val_accuracy:.5f}.hdf5\"\n",
    "checkpoint_dir = os.path.dirname(checkpoint_path)\n",
    "checkpoint = ModelCheckpoint(checkpoint_path, monitor = \"val_accuracy\", save_best_only = True, save_freq=\"epoch\", mode = \"max\")\n",
    "\n",
<<<<<<< HEAD
    "new.fit(x_train, y_train, epochs=3, validation_split=0.2, batch_size=32, shuffle = True, callbacks=[checkpoint, TBcallback])"
=======
    "new.fit(x_train, y_train, epochs=5, validation_split=0.2, batch_size=2000, shuffle = True, callbacks=[checkpoint, TBcallback])"
>>>>>>> 50a03a8c6526c803c7cf4dbaeaa44f6e45af56ba
   ]
  },
  {
   "cell_type": "code",
   "execution_count": 15,
   "id": "9d10fa61",
   "metadata": {},
   "outputs": [
    {
     "name": "stdout",
     "output_type": "stream",
     "text": [
<<<<<<< HEAD
      "313/313 [==============================] - 3s 8ms/step - loss: 1.9273 - accuracy: 0.6196\n"
=======
      "313/313 [==============================] - 3s 8ms/step - loss: 1.3686 - accuracy: 0.5660\n"
>>>>>>> 50a03a8c6526c803c7cf4dbaeaa44f6e45af56ba
     ]
    }
   ],
   "source": [
    "new.evaluate(x_test, y_test)\n",
    "new.save('./models/CIFAR.h5')"
   ]
  },
  {
   "cell_type": "code",
   "execution_count": 16,
   "id": "0451916a",
   "metadata": {},
   "outputs": [
    {
     "name": "stdout",
     "output_type": "stream",
     "text": [
      "C:\\Users\\mathe\\IC (Machine Learning)\\img\n"
     ]
    }
   ],
   "source": [
    "path = os.path.join(os.getcwd(), \"img\")\n",
    "print(path)"
   ]
  },
  {
   "cell_type": "code",
   "execution_count": 17,
   "id": "92f3bf2d",
   "metadata": {},
   "outputs": [],
   "source": [
    "\n",
    "\n",
    "#img = tf.keras.utils.image_dataset_from_directory(path, labels='inferred')\n",
    "#img.shape\n",
    "\n",
    "#new.predict(img)\n"
   ]
  },
  {
   "cell_type": "code",
   "execution_count": null,
   "id": "83b22dcc",
   "metadata": {},
   "outputs": [],
   "source": []
  }
 ],
 "metadata": {
  "kernelspec": {
   "display_name": "Python 3 (ipykernel)",
   "language": "python",
   "name": "python3"
  },
  "language_info": {
   "codemirror_mode": {
    "name": "ipython",
    "version": 3
   },
   "file_extension": ".py",
   "mimetype": "text/x-python",
   "name": "python",
   "nbconvert_exporter": "python",
   "pygments_lexer": "ipython3",
   "version": "3.10.0"
  }
 },
 "nbformat": 4,
 "nbformat_minor": 5
}
