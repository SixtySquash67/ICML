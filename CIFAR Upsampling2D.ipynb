{
 "cells": [
  {
   "cell_type": "code",
   "execution_count": 2,
   "id": "cca9af76",
   "metadata": {},
   "outputs": [
    {
     "name": "stdout",
     "output_type": "stream",
     "text": [
      "GPUs Available:  1\n"
     ]
    }
   ],
   "source": [
    "import tensorflow as tf\n",
    "gpu = tf.config.experimental.list_physical_devices('GPU')\n",
    "print(\"GPUs Available: \", len(gpu))\n",
    "tf.config.experimental.set_memory_growth(gpu[0], True)\n",
    "import os\n",
    "from keras.datasets import cifar10\n",
    "from keras.models import Model\n",
    "from keras.layers import Input\n",
    "from keras import applications\n",
    "from keras import layers\n",
    "from keras import models\n",
    "from keras import utils\n",
    "from keras import optimizers\n",
    "from keras.callbacks import ModelCheckpoint, EarlyStopping\n",
    "from keras.applications.vgg16 import VGG16\n",
    "from keras.utils import to_categorical\n",
    "from sklearn.model_selection import train_test_split\n",
    "from sklearn import datasets\n",
    "from sklearn.svm import LinearSVC\n",
    "from sklearn.preprocessing import MinMaxScaler\n",
    "from matplotlib import pyplot as plt\n",
    "import numpy as np\n",
    "from PIL import Image\n",
    "import cv2"
   ]
  },
  {
   "cell_type": "code",
   "execution_count": 3,
   "id": "526be68c",
   "metadata": {},
   "outputs": [],
   "source": [
    "inputTensor = Input(shape= (32,32,3))\n",
    "up2d = layers.UpSampling2D((7,7))(inputTensor)\n",
    "imgnet = applications.VGG16(weights = \"imagenet\", include_top=False, input_shape = (224, 224, 3), input_tensor = up2d)\n",
    "#imgnet.summary()"
   ]
  },
  {
   "cell_type": "code",
   "execution_count": null,
   "id": "c3288495",
   "metadata": {},
   "outputs": [],
   "source": []
  },
  {
   "cell_type": "code",
   "execution_count": 3,
   "id": "d8206f23",
   "metadata": {},
   "outputs": [
    {
     "data": {
      "text/plain": [
       "(50000, 32, 32, 3)"
      ]
     },
     "execution_count": 3,
     "metadata": {},
     "output_type": "execute_result"
    }
   ],
   "source": [
    "(x_train, y_train), (x_test, y_test) = cifar10.load_data()\n",
    "#x_train = x_train[-10000:]\n",
    "#y_train = y_train[-10000:]\n",
    "\n",
    "#x_test = x_test[:-9000]\n",
    "#y_test = y_test[:-9000]\n",
    "x_train.shape"
   ]
  },
  {
   "cell_type": "code",
   "execution_count": 4,
   "id": "0c789860",
   "metadata": {},
   "outputs": [
    {
     "data": {
      "text/plain": [
       "array([0, 1, 0, 0, 0, 0, 0, 0, 0, 0])"
      ]
     },
     "execution_count": 4,
     "metadata": {},
     "output_type": "execute_result"
    }
   ],
   "source": [
    "y_train = to_categorical(y_train, dtype='int')\n",
    "y_test = to_categorical(y_test, dtype='int')\n",
    "y_test[9]"
   ]
  },
  {
   "cell_type": "code",
   "execution_count": 5,
   "id": "59925259",
   "metadata": {},
   "outputs": [
    {
     "data": {
      "text/plain": [
       "(50000, 10)"
      ]
     },
     "execution_count": 5,
     "metadata": {},
     "output_type": "execute_result"
    },
    {
     "data": {
      "image/png": "[encoded data removed]",
      "text/plain": [
       "<Figure size 432x288 with 1 Axes>"
      ]
     },
     "metadata": {
      "needs_background": "light"
     },
     "output_type": "display_data"
    }
   ],
   "source": [
    "plt.imshow(x_test[9])\n",
    "y_train.shape"
   ]
  },
  {
   "cell_type": "code",
   "execution_count": 6,
   "id": "fe6b0c30",
   "metadata": {},
   "outputs": [
    {
     "name": "stdout",
     "output_type": "stream",
     "text": [
      "Model: \"sequential\"\n",
      "_________________________________________________________________\n",
      " Layer (type)                Output Shape              Param #   \n",
      "=================================================================\n",
      " up_sampling2d_1 (UpSampling  (None, 224, 224, 3)      0         \n",
      " 2D)                                                             \n",
      "                                                                 \n",
      "=================================================================\n",
      "Total params: 0\n",
      "Trainable params: 0\n",
      "Non-trainable params: 0\n",
      "_________________________________________________________________\n",
      "1/1 [==============================] - 0s 70ms/step\n"
     ]
    },
    {
     "data": {
      "text/plain": [
       "<matplotlib.image.AxesImage at 0x19de38464a0>"
      ]
     },
     "execution_count": 6,
     "metadata": {},
     "output_type": "execute_result"
    },
    {
     "data": {
      "image/png": "[encoded data removed]",
      "text/plain": [
       "<Figure size 432x288 with 1 Axes>"
      ]
     },
     "metadata": {
      "needs_background": "light"
     },
     "output_type": "display_data"
    }
   ],
   "source": [
    "test = models.Sequential()\n",
    "test.add(Input(shape=(32, 32, 3)))\n",
    "test.add(layers.UpSampling2D(size= (7,7)))\n",
    "test.summary()\n",
    "img = x_test[9]\n",
    "img = np.expand_dims(img, axis=0)\n",
    "saida = test.predict(img)\n",
    "saida.shape\n",
    "saida = np.reshape(saida, (224,224,3))\n",
    "saida = saida.astype(int)\n",
    "plt.imshow(saida)"
   ]
  },
  {
   "cell_type": "code",
   "execution_count": 7,
   "id": "98e184e4",
   "metadata": {},
   "outputs": [
    {
     "name": "stdout",
     "output_type": "stream",
     "text": [
      "Model: \"sequential_1\"\n",
      "_________________________________________________________________\n",
      " Layer (type)                Output Shape              Param #   \n",
      "=================================================================\n",
      " up_sampling2d (UpSampling2D  (None, 224, 224, 3)      0         \n",
      " )                                                               \n",
      "                                                                 \n",
      " block1_conv1 (Conv2D)       (None, 224, 224, 64)      1792      \n",
      "                                                                 \n",
      " block1_conv2 (Conv2D)       (None, 224, 224, 64)      36928     \n",
      "                                                                 \n",
      " block1_pool (MaxPooling2D)  (None, 112, 112, 64)      0         \n",
      "                                                                 \n",
      " block2_conv1 (Conv2D)       (None, 112, 112, 128)     73856     \n",
      "                                                                 \n",
      " block2_conv2 (Conv2D)       (None, 112, 112, 128)     147584    \n",
      "                                                                 \n",
      " block2_pool (MaxPooling2D)  (None, 56, 56, 128)       0         \n",
      "                                                                 \n",
      " block3_conv1 (Conv2D)       (None, 56, 56, 256)       295168    \n",
      "                                                                 \n",
      " block3_conv2 (Conv2D)       (None, 56, 56, 256)       590080    \n",
      "                                                                 \n",
      " block3_conv3 (Conv2D)       (None, 56, 56, 256)       590080    \n",
      "                                                                 \n",
      " block3_pool (MaxPooling2D)  (None, 28, 28, 256)       0         \n",
      "                                                                 \n",
      " block4_conv1 (Conv2D)       (None, 28, 28, 512)       1180160   \n",
      "                                                                 \n",
      " block4_conv2 (Conv2D)       (None, 28, 28, 512)       2359808   \n",
      "                                                                 \n",
      " block4_conv3 (Conv2D)       (None, 28, 28, 512)       2359808   \n",
      "                                                                 \n",
      " block4_pool (MaxPooling2D)  (None, 14, 14, 512)       0         \n",
      "                                                                 \n",
      " block5_conv1 (Conv2D)       (None, 14, 14, 512)       2359808   \n",
      "                                                                 \n",
      " block5_conv2 (Conv2D)       (None, 14, 14, 512)       2359808   \n",
      "                                                                 \n",
      " block5_conv3 (Conv2D)       (None, 14, 14, 512)       2359808   \n",
      "                                                                 \n",
      " block5_pool (MaxPooling2D)  (None, 7, 7, 512)         0         \n",
      "                                                                 \n",
      " flatten (Flatten)           (None, 25088)             0         \n",
      "                                                                 \n",
      " dense (Dense)               (None, 256)               6422784   \n",
      "                                                                 \n",
      " dense_1 (Dense)             (None, 64)                16448     \n",
      "                                                                 \n",
      " dense_2 (Dense)             (None, 10)                650       \n",
      "                                                                 \n",
      "=================================================================\n",
      "Total params: 21,154,570\n",
      "Trainable params: 6,439,882\n",
      "Non-trainable params: 14,714,688\n",
      "_________________________________________________________________\n"
     ]
    }
   ],
   "source": [
    "new = models.Sequential(imgnet.layers[:])\n",
    "    \n",
    "for layer in new.layers:\n",
    "    layer.trainable = False\n",
    "    \n",
    "new.add(layers.Flatten())\n",
    "new.add(layers.Dense(256, activation='relu'))\n",
    "new.add(layers.Dense(64, activation='relu'))\n",
    "new.add(layers.Dense(10, activation='softmax'))\n",
    "\n",
    "new.compile(optimizer = 'adam', loss = 'categorical_crossentropy', metrics = ['accuracy'])\n",
    "new.summary()"
   ]
  },
  {
   "cell_type": "code",
   "execution_count": 8,
   "id": "757ed81c",
   "metadata": {},
   "outputs": [],
   "source": [
    "checkpoint_path = \"./training/cp-{epoch:02d}-{val_accuracy:.5f}.hdf5\"\n",
    "checkpoint_dir = os.path.dirname(checkpoint_path)\n",
    "checkpoint = ModelCheckpoint(checkpoint_path, monitor = \"val_accuracy\", save_best_only = True, save_freq=\"epoch\", mode = \"max\")\n",
    "sstop = EarlyStopping(monitor = 'val_loss', patience = 1) "
   ]
  },
  {
   "cell_type": "code",
   "execution_count": 9,
   "id": "3cb7b869",
   "metadata": {},
   "outputs": [
    {
     "name": "stdout",
     "output_type": "stream",
     "text": [
      "Epoch 1/15\n",
      "313/313 [==============================] - 135s 400ms/step - loss: 1.6143 - accuracy: 0.5808 - val_loss: 1.0381 - val_accuracy: 0.6593\n",
      "Epoch 2/15\n",
      "313/313 [==============================] - 123s 393ms/step - loss: 0.7601 - accuracy: 0.7408 - val_loss: 0.9710 - val_accuracy: 0.6902\n",
      "Epoch 3/15\n",
      "313/313 [==============================] - 123s 394ms/step - loss: 0.5484 - accuracy: 0.8103 - val_loss: 0.9801 - val_accuracy: 0.7064\n",
      "Epoch 4/15\n",
      "313/313 [==============================] - 123s 393ms/step - loss: 0.4066 - accuracy: 0.8592 - val_loss: 1.0513 - val_accuracy: 0.7010\n",
      "Epoch 5/15\n",
      "313/313 [==============================] - 123s 393ms/step - loss: 0.2991 - accuracy: 0.8968 - val_loss: 1.1537 - val_accuracy: 0.6979\n",
      "Epoch 6/15\n",
      "313/313 [==============================] - 123s 393ms/step - loss: 0.2263 - accuracy: 0.9224 - val_loss: 1.2839 - val_accuracy: 0.6973\n",
      "Epoch 7/15\n",
      "313/313 [==============================] - 123s 394ms/step - loss: 0.2096 - accuracy: 0.9259 - val_loss: 1.3478 - val_accuracy: 0.6948\n",
      "Epoch 8/15\n",
      "313/313 [==============================] - 123s 393ms/step - loss: 0.1781 - accuracy: 0.9378 - val_loss: 1.5293 - val_accuracy: 0.6958\n",
      "Epoch 9/15\n",
      "313/313 [==============================] - 123s 394ms/step - loss: 0.1455 - accuracy: 0.9485 - val_loss: 1.5763 - val_accuracy: 0.6966\n",
      "Epoch 10/15\n",
      "313/313 [==============================] - 123s 393ms/step - loss: 0.1152 - accuracy: 0.9606 - val_loss: 1.7255 - val_accuracy: 0.6956\n",
      "Epoch 11/15\n",
      "313/313 [==============================] - 123s 393ms/step - loss: 0.0985 - accuracy: 0.9658 - val_loss: 1.7879 - val_accuracy: 0.7048\n",
      "Epoch 12/15\n",
      "313/313 [==============================] - 123s 393ms/step - loss: 0.1174 - accuracy: 0.9584 - val_loss: 1.8554 - val_accuracy: 0.6985\n",
      "Epoch 13/15\n",
      "313/313 [==============================] - 123s 393ms/step - loss: 0.1054 - accuracy: 0.9633 - val_loss: 2.0360 - val_accuracy: 0.6927\n",
      "Epoch 14/15\n",
      "313/313 [==============================] - 123s 393ms/step - loss: 0.1002 - accuracy: 0.9651 - val_loss: 2.0650 - val_accuracy: 0.6856\n",
      "Epoch 15/15\n",
      "313/313 [==============================] - 123s 393ms/step - loss: 0.0983 - accuracy: 0.9675 - val_loss: 2.0943 - val_accuracy: 0.6971\n"
     ]
    },
    {
     "data": {
      "text/plain": [
       "<keras.callbacks.History at 0x19da93a9360>"
      ]
     },
     "execution_count": 9,
     "metadata": {},
     "output_type": "execute_result"
    }
   ],
   "source": [
    "TBcallback = tf.keras.callbacks.TensorBoard(log_dir = \"logs/\", histogram_freq = 1)\n",
    "new.fit(x_train, y_train, epochs=15, validation_split=0.2, batch_size=128, callbacks=[checkpoint, TBcallback], shuffle = True)"
   ]
  },
  {
   "cell_type": "code",
   "execution_count": 10,
   "id": "c5fd7ede",
   "metadata": {},
   "outputs": [
    {
     "name": "stdout",
     "output_type": "stream",
     "text": [
      "313/313 [==============================] - 26s 82ms/step - loss: 2.0210 - accuracy: 0.7037\n"
     ]
    },
    {
     "data": {
      "text/plain": [
       "[2.0210366249084473, 0.7037000060081482]"
      ]
     },
     "execution_count": 10,
     "metadata": {},
     "output_type": "execute_result"
    }
   ],
   "source": [
    "new.evaluate(x_test, y_test)"
   ]
  },
  {
   "cell_type": "code",
   "execution_count": 11,
   "id": "c92a8023",
   "metadata": {},
   "outputs": [
    {
     "name": "stdout",
     "output_type": "stream",
     "text": [
      "Epoch 1/3\n",
      "1250/1250 [==============================] - 328s 260ms/step - loss: 0.0372 - accuracy: 0.9879 - val_loss: 2.0874 - val_accuracy: 0.7139\n",
      "Epoch 2/3\n",
      "1250/1250 [==============================] - 325s 260ms/step - loss: 0.0158 - accuracy: 0.9957 - val_loss: 2.2428 - val_accuracy: 0.7186\n",
      "Epoch 3/3\n",
      "1250/1250 [==============================] - 325s 260ms/step - loss: 0.0094 - accuracy: 0.9977 - val_loss: 2.3676 - val_accuracy: 0.7165\n"
     ]
    },
    {
     "data": {
      "text/plain": [
       "<keras.callbacks.History at 0x19dece5db40>"
      ]
     },
     "execution_count": 11,
     "metadata": {},
     "output_type": "execute_result"
    }
   ],
   "source": [
    "new.trainable = True\n",
    "new.compile(optimizer = optimizers.RMSprop(learning_rate = 0.000001), loss = 'categorical_crossentropy', metrics = ['accuracy'])\n",
    "checkpoint_path = \"./training/cpFT-{epoch:02d}-{val_accuracy:.5f}.hdf5\"\n",
    "checkpoint_dir = os.path.dirname(checkpoint_path)\n",
    "checkpoint = ModelCheckpoint(checkpoint_path, monitor = \"val_accuracy\", save_best_only = True, save_freq=\"epoch\", mode = \"max\")\n",
    "\n",
    "new.fit(x_train, y_train, epochs=3, validation_split=0.2, batch_size=32, shuffle = True, callbacks=[checkpoint, TBcallback])"
   ]
  },
  {
   "cell_type": "code",
   "execution_count": 12,
   "id": "c886e282",
   "metadata": {},
   "outputs": [
    {
     "name": "stdout",
     "output_type": "stream",
     "text": [
      "313/313 [==============================] - 25s 80ms/step - loss: 2.3535 - accuracy: 0.7181\n"
     ]
    }
   ],
   "source": [
    "new.evaluate(x_test, y_test)\n",
    "new.save('./models/CIFARup2d.h5')"
   ]
  },
  {
   "cell_type": "code",
   "execution_count": 13,
   "id": "6c5abcc0",
   "metadata": {},
   "outputs": [
    {
     "name": "stdout",
     "output_type": "stream",
     "text": [
      "1/1 [==============================] - 0s 340ms/step\n"
     ]
    },
    {
     "data": {
      "text/plain": [
       "array([[1.5032043e-14, 1.0000000e+00, 1.8043182e-16, 1.4121242e-18,\n",
       "        1.4458974e-12, 3.5740925e-13, 5.8560215e-13, 1.5270194e-21,\n",
       "        5.5628624e-10, 2.2126120e-12]], dtype=float32)"
      ]
     },
     "execution_count": 13,
     "metadata": {},
     "output_type": "execute_result"
    }
   ],
   "source": [
    "new.predict(x_test[9:10])"
   ]
  },
  {
   "cell_type": "code",
   "execution_count": 14,
   "id": "c8aea82c",
   "metadata": {},
   "outputs": [
    {
     "data": {
      "text/plain": [
       "[<keras.layers.reshaping.up_sampling2d.UpSampling2D at 0x19da9235b70>,\n",
       " <keras.layers.convolutional.conv2d.Conv2D at 0x19d8130fa60>,\n",
       " <keras.layers.convolutional.conv2d.Conv2D at 0x19d8130d990>,\n",
       " <keras.layers.pooling.max_pooling2d.MaxPooling2D at 0x19da92fd180>,\n",
       " <keras.layers.convolutional.conv2d.Conv2D at 0x19da92fcd00>,\n",
       " <keras.layers.convolutional.conv2d.Conv2D at 0x19da92fe5f0>,\n",
       " <keras.layers.pooling.max_pooling2d.MaxPooling2D at 0x19da92ff700>,\n",
       " <keras.layers.convolutional.conv2d.Conv2D at 0x19da92ff280>,\n",
       " <keras.layers.convolutional.conv2d.Conv2D at 0x19d8130d6f0>,\n",
       " <keras.layers.convolutional.conv2d.Conv2D at 0x19d8130d690>,\n",
       " <keras.layers.pooling.max_pooling2d.MaxPooling2D at 0x19da92fc550>,\n",
       " <keras.layers.convolutional.conv2d.Conv2D at 0x19d8130faf0>,\n",
       " <keras.layers.convolutional.conv2d.Conv2D at 0x19da92fef80>,\n",
       " <keras.layers.convolutional.conv2d.Conv2D at 0x19da9392260>,\n",
       " <keras.layers.pooling.max_pooling2d.MaxPooling2D at 0x19da93935e0>,\n",
       " <keras.layers.convolutional.conv2d.Conv2D at 0x19da9393160>,\n",
       " <keras.layers.convolutional.conv2d.Conv2D at 0x19da9393b20>,\n",
       " <keras.layers.convolutional.conv2d.Conv2D at 0x19da9393ee0>,\n",
       " <keras.layers.pooling.max_pooling2d.MaxPooling2D at 0x19da93a9b10>,\n",
       " <keras.layers.reshaping.flatten.Flatten at 0x19de385e140>,\n",
       " <keras.layers.core.dense.Dense at 0x19de385f130>,\n",
       " <keras.layers.core.dense.Dense at 0x19de38c5990>,\n",
       " <keras.layers.core.dense.Dense at 0x19de38a5990>]"
      ]
     },
     "execution_count": 14,
     "metadata": {},
     "output_type": "execute_result"
    }
   ],
   "source": [
    "new.layers"
   ]
  },
  {
   "cell_type": "code",
   "execution_count": null,
   "id": "ec0ddeac",
   "metadata": {},
   "outputs": [],
   "source": []
  }
 ],
 "metadata": {
  "kernelspec": {
   "display_name": "Python 3 (ipykernel)",
   "language": "python",
   "name": "python3"
  },
  "language_info": {
   "codemirror_mode": {
    "name": "ipython",
    "version": 3
   },
   "file_extension": ".py",
   "mimetype": "text/x-python",
   "name": "python",
   "nbconvert_exporter": "python",
   "pygments_lexer": "ipython3",
   "version": "3.10.0"
  }
 },
 "nbformat": 4,
 "nbformat_minor": 5
}
