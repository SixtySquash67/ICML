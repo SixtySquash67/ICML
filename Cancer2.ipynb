{
 "cells": [
  {
   "cell_type": "code",
   "execution_count": 2,
   "id": "f8242d9f",
   "metadata": {},
   "outputs": [],
   "source": [
    "import numpy as np\n",
    "import pandas as pd\n",
    "import matplotlib.pyplot as plt\n",
    "import seaborn as sn\n",
    "import random as rd\n",
    "import scipy.stats as stats\n",
    "from numpy.random import random as rand\n",
    "from mpl_toolkits.mplot3d import Axes3D\n",
    "from sklearn.metrics import balanced_accuracy_score"
   ]
  },
  {
   "cell_type": "code",
   "execution_count": 2,
   "id": "01e59167",
   "metadata": {},
   "outputs": [],
   "source": [
    "from pdb import set_trace\n",
    "class LogisticRegression:\n",
    "    def __init__(self,alpha=0.001):\n",
    "        self.alpha = alpha\n",
    "    def train(self,X_train,y_train):\n",
    "        #set_trace()\n",
    "        np.random.seed(234)\n",
    "        n = X_train.shape[1]\n",
    "        m = y_train.size\n",
    "        contador = 1\n",
    "        somatorios = [0]*n\n",
    "        self.W = rand(n)\n",
    "        self.X_train = X_train\n",
    "        while (contador < 100000):\n",
    "\n",
    "            h = 1/(1+np.exp(-(np.dot(self.W,X_train.T))))\n",
    "            for j in range(n):\n",
    "                somatorios[j] = ((h - y_train)*X_train[:,j]).sum()\n",
    "\n",
    "            for k in range(n):\n",
    "                self.W[k] = self.W[k] - (self.alpha/m)*somatorios[k]\n",
    "            contador += 1\n",
    "    def test(self,X_test):\n",
    "        y_pred = 1/(1+np.exp(-(np.dot(self.W,X_test.T)))) > 0.5\n",
    "        return y_pred"
   ]
  },
  {
   "cell_type": "code",
   "execution_count": 3,
   "id": "22ede2a9",
   "metadata": {},
   "outputs": [
    {
     "name": "stdout",
     "output_type": "stream",
     "text": [
      "(569, 5) 569\n"
     ]
    }
   ],
   "source": [
    "import numpy as np\n",
    "from sklearn.model_selection import StratifiedKFold\n",
    "\n",
    "df = pd.DataFrame(pd.read_csv(\"cancerdata.csv\"))\n",
    "df['diagnosis'] = df['diagnosis'].replace(['B'], 0)\n",
    "df['diagnosis'] = df['diagnosis'].replace(['M'], 1)\n",
    "df['diagnosis'] = pd.to_numeric(df['diagnosis'])\n",
    "y = df['diagnosis'].to_numpy()\n",
    "x = [None]*4\n",
    "x[0] = (df.area_mean.values-df.area_mean.values.min())/(df.area_mean.values.max()-df.area_mean.values.min())\n",
    "x[1] = (df.texture_mean.values-df.texture_mean.values.min())/(df.texture_mean.values.max()-df.texture_mean.values.min())\n",
    "x[2] = (df.smoothness_mean.values-df.smoothness_mean.values.min())/(df.smoothness_mean.values.max()-df.smoothness_mean.values.min())\n",
    "x[3] = (df.concavity_mean.values-df.concavity_mean.values.min())/(df.concavity_mean.values.max()-df.concavity_mean.values.min())\n",
    "X = np.array([[1]*len(x[0]), x[0], x[1], x[2], x[3]]).T\n",
    "print(X.shape, y.size)\n",
    "\n",
    "skf = StratifiedKFold(n_splits = 10)\n",
    "#print([(i,j) for i,j in skf.split(X, y)])"
   ]
  },
  {
   "cell_type": "code",
   "execution_count": 4,
   "id": "05dbc8aa",
   "metadata": {},
   "outputs": [
    {
     "name": "stdout",
     "output_type": "stream",
     "text": [
      "TRAIN: 512 TEST: 57\n",
      "TRAIN: 512 TEST: 57\n",
      "TRAIN: 512 TEST: 57\n",
      "TRAIN: 512 TEST: 57\n",
      "TRAIN: 512 TEST: 57\n",
      "TRAIN: 512 TEST: 57\n",
      "TRAIN: 512 TEST: 57\n",
      "TRAIN: 512 TEST: 57\n",
      "TRAIN: 512 TEST: 57\n",
      "TRAIN: 513 TEST: 56\n"
     ]
    }
   ],
   "source": [
    "LR = LogisticRegression()\n",
    "y_pred = []\n",
    "acc = []\n",
    "cont = 0\n",
    "for train_index, test_index in skf.split(X, y):\n",
    "    print(\"TRAIN:\", train_index.size, \"TEST:\", test_index.size)\n",
    "    X_train, X_test = X[train_index], X[test_index]\n",
    "    y_train, y_test = y[train_index], y[test_index]\n",
    "    LR.train(X_train,y_train)\n",
    "    y_pred.append(LR.test(X_test))\n",
    "    acc.append(balanced_accuracy_score(y_test,y_pred[cont]))\n",
    "    cont += 1\n"
   ]
  },
  {
   "cell_type": "code",
   "execution_count": 5,
   "id": "6f2e7254",
   "metadata": {},
   "outputs": [
    {
     "data": {
      "text/plain": [
       "0.8565728715728715"
      ]
     },
     "execution_count": 5,
     "metadata": {},
     "output_type": "execute_result"
    }
   ],
   "source": [
    "np.mean(acc)\n"
   ]
  },
  {
   "cell_type": "code",
   "execution_count": 6,
   "id": "858fe9ca",
   "metadata": {},
   "outputs": [
    {
     "ename": "ValueError",
     "evalue": "The truth value of an array with more than one element is ambiguous. Use a.any() or a.all()",
     "output_type": "error",
     "traceback": [
      "\u001b[1;31m---------------------------------------------------------------------------\u001b[0m",
      "\u001b[1;31mValueError\u001b[0m                                Traceback (most recent call last)",
      "Input \u001b[1;32mIn [6]\u001b[0m, in \u001b[0;36m<module>\u001b[1;34m\u001b[0m\n\u001b[0;32m      4\u001b[0m FN \u001b[38;5;241m=\u001b[39m \u001b[38;5;241m0\u001b[39m\n\u001b[0;32m      6\u001b[0m \u001b[38;5;28;01mfor\u001b[39;00m i \u001b[38;5;129;01min\u001b[39;00m \u001b[38;5;28mrange\u001b[39m(\u001b[38;5;28mlen\u001b[39m(y_pred)): \n\u001b[1;32m----> 7\u001b[0m     \u001b[38;5;28;01mif\u001b[39;00m \u001b[43my_pred\u001b[49m\u001b[43m[\u001b[49m\u001b[43mi\u001b[49m\u001b[43m]\u001b[49m\u001b[43m \u001b[49m\u001b[38;5;241;43m==\u001b[39;49m\u001b[43m \u001b[49m\u001b[38;5;241;43m1\u001b[39;49m \u001b[38;5;129;01mand\u001b[39;00m y_test[i] \u001b[38;5;241m==\u001b[39m \u001b[38;5;241m1\u001b[39m:\n\u001b[0;32m      8\u001b[0m        TP \u001b[38;5;241m+\u001b[39m\u001b[38;5;241m=\u001b[39m \u001b[38;5;241m1\u001b[39m\n\u001b[0;32m      9\u001b[0m     \u001b[38;5;28;01mif\u001b[39;00m y_pred[i] \u001b[38;5;241m==\u001b[39m \u001b[38;5;241m1\u001b[39m \u001b[38;5;129;01mand\u001b[39;00m y_test[i] \u001b[38;5;241m==\u001b[39m \u001b[38;5;241m0\u001b[39m:\n",
      "\u001b[1;31mValueError\u001b[0m: The truth value of an array with more than one element is ambiguous. Use a.any() or a.all()"
     ]
    }
   ],
   "source": [
    "TP = 0\n",
    "FP = 0\n",
    "TN = 0\n",
    "FN = 0\n",
    "\n",
    "for i in range(len(y_pred)): \n",
    "    if y_pred[i] == 1 and y_test[i] == 1:\n",
    "       TP += 1\n",
    "    if y_pred[i] == 1 and y_test[i] == 0:\n",
    "       FP += 1\n",
    "    if y_pred[i] == 0 and y_test[i] == 0:\n",
    "       TN += 1\n",
    "    if y_pred[i] == 0 and y_test[i] == 1:\n",
    "       FN += 1\n",
    "print(\"True Positive = \" ,TP,\"\\nFalse Positive =\",FP,\"\\nTrue Negative = \",TN,\"\\nFalse Negative =\", FN)"
   ]
  },
  {
   "cell_type": "code",
   "execution_count": 7,
   "id": "ba419299",
   "metadata": {},
   "outputs": [
    {
     "data": {
      "text/plain": [
       "<AxesSubplot:>"
      ]
     },
     "execution_count": 7,
     "metadata": {},
     "output_type": "execute_result"
    },
    {
     "data": {
      "image/png": "[encoded data removed]",
      "text/plain": [
       "<Figure size 360x360 with 2 Axes>"
      ]
     },
     "metadata": {
      "needs_background": "light"
     },
     "output_type": "display_data"
    }
   ],
   "source": [
    "array = [[TP,TN],[FP,FN]]\n",
    "df_cm = pd.DataFrame(array, index = [i for i in [\"True\",\"False\"]],\n",
    "                  columns = [i for i in [\"Positive\",\"Negative\"]])\n",
    "plt.figure(figsize = (5,5))\n",
    "sn.heatmap(df_cm, annot=True)"
   ]
  },
  {
   "cell_type": "code",
   "execution_count": 3,
   "id": "625cb909",
   "metadata": {},
   "outputs": [
    {
     "data": {
      "text/plain": [
       "array([[-0.82111739,  0.96875935,  0.3280034 ,  0.63766562],\n",
       "       [-0.52496849,  0.54798734,  0.68604523,  0.71586986],\n",
       "       [ 0.26104112, -0.14333164,  0.90759892,  0.41476855]])"
      ]
     },
     "execution_count": 3,
     "metadata": {},
     "output_type": "execute_result"
    }
   ],
   "source": [
    "syn0 = 2*np.random.random((3,4)) - 1\n",
    "syn0"
   ]
  },
  {
   "cell_type": "code",
   "execution_count": null,
   "id": "54f1d357",
   "metadata": {},
   "outputs": [],
   "source": []
  }
 ],
 "metadata": {
  "kernelspec": {
   "display_name": "Python 3 (ipykernel)",
   "language": "python",
   "name": "python3"
  },
  "language_info": {
   "codemirror_mode": {
    "name": "ipython",
    "version": 3
   },
   "file_extension": ".py",
   "mimetype": "text/x-python",
   "name": "python",
   "nbconvert_exporter": "python",
   "pygments_lexer": "ipython3",
   "version": "3.10.0"
  }
 },
 "nbformat": 4,
 "nbformat_minor": 5
}
