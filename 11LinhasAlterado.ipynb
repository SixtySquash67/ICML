{
 "cells": [
  {
   "cell_type": "code",
   "execution_count": 2,
   "id": "fd1cd6f0",
   "metadata": {},
   "outputs": [],
   "source": [
    "import numpy as np\n",
    "from pdb import set_trace"
   ]
  },
  {
   "cell_type": "code",
   "execution_count": 3,
   "id": "a43c1acc",
   "metadata": {},
   "outputs": [
    {
     "name": "stdout",
     "output_type": "stream",
     "text": [
      "Input\n",
      "[[0 0 1]\n",
      " [0 1 1]]\n",
      "Theta1\n",
      "[[-0.34258333 -0.38368813]\n",
      " [-4.68447116  5.18760407]\n",
      " [ 2.16025269 -2.42782081]]\n",
      "Z2\n",
      "[[ 2.16025068 -2.42781931]\n",
      " [-2.5242161   2.75978134]]\n",
      "A2\n",
      "[[0.89662279 0.08107579]\n",
      " [0.07417788 0.94046339]]\n",
      "Theta2\n",
      "[[-7.03423813]\n",
      " [ 6.72324748]]\n",
      "Z3\n",
      "[[-5.76195897]\n",
      " [ 5.80117658]]\n",
      "A3\n",
      "[[-5.76195897]\n",
      " [ 5.80117658]]\n"
     ]
    }
   ],
   "source": [
    "#inp = np.array([ [0,0,1],[0,1,1],[1,0,1],[1,1,1],[1,1,1],[1,1,1]])\n",
    "inp = np.array([[0,0,1],[0,1,1]])\n",
    "y = np.array([[0,1]]).T\n",
    "\n",
    "\n",
    "theta1 = 2*np.random.random((3,2)) - 1\n",
    "\n",
    "theta2 = 2*np.random.random((2,1)) - 1\n",
    "\n",
    "for j in range(60000):\n",
    "    #set_trace()\n",
    "    #ForwardPass\n",
    "    z2 = np.dot(inp,theta1)     #Theta*input\n",
    "    a2 = 1/(1+np.exp(-(z2)))    #sig(z2)\n",
    "    z3 = np.dot(a2,theta2)      #theta2*a2\n",
    "    a3 = 1/(1+np.exp(-(z3)))    #sig(z3)\n",
    "\n",
    "    #BackProp\n",
    "    dJda3 = (y - a3)            #dJ/da3\n",
    "    da3dz3 = (a3*(1-a3))        #da3/dz3\n",
    "    dz3dtheta2 = a2\n",
    "\n",
    "    #Update\n",
    "    theta2 += a2.T.dot(dJda3 * da3dz3)\n",
    "    theta1 += inp.T.dot((dJda3 * da3dz3).dot(theta2.T) * (a2 * (1-a2)))\n",
    "print(\"Input\")\n",
    "print(inp)\n",
    "print(\"Theta1\")\n",
    "print(theta1)\n",
    "print(\"Z2\")\n",
    "print(z2)\n",
    "print(\"A2\")\n",
    "print(a2)\n",
    "print(\"Theta2\")\n",
    "print(theta2)\n",
    "print(\"Z3\")\n",
    "print(z3)\n",
    "print(\"A3\")\n",
    "print(z3)"
   ]
  },
  {
   "cell_type": "code",
   "execution_count": null,
   "id": "2e4e2dc8",
   "metadata": {},
   "outputs": [],
   "source": []
  },
  {
   "cell_type": "markdown",
   "id": "08ed558c",
   "metadata": {},
   "source": [
    "# 11 Lines\n",
    "X = np.array([ [0,0,1],[0,1,1],[1,0,1],[1,1,1] ])\n",
    "\n",
    "y = np.array([[0,1,1,0]]).T\n",
    "\n",
    "syn0 = 2*np.random.random((3,4)) - 1\n",
    "\n",
    "syn1 = 2*np.random.random((4,1)) - 1\n",
    "\n",
    "for j in range(0,60000):\n",
    "\n",
    "    l1 = 1/(1+np.exp(-(np.dot(X,syn0))))\n",
    "    \n",
    "    l2 = 1/(1+np.exp(-(np.dot(l1,syn1))))\n",
    "    \n",
    "    l2_delta = (y - l2)*(l2*(1-l2))\n",
    "    \n",
    "    l1_delta = l2_delta.dot(syn1.T) * (l1 * (1-l1))\n",
    "    \n",
    "    syn1 += l1.T.dot(l2_delta)\n",
    "    \n",
    "    syn0 += X.T.dot(l1_delta)\n",
    "    "
   ]
  }
 ],
 "metadata": {
  "kernelspec": {
   "display_name": "Python 3 (ipykernel)",
   "language": "python",
   "name": "python3"
  },
  "language_info": {
   "codemirror_mode": {
    "name": "ipython",
    "version": 3
   },
   "file_extension": ".py",
   "mimetype": "text/x-python",
   "name": "python",
   "nbconvert_exporter": "python",
   "pygments_lexer": "ipython3",
   "version": "3.10.0"
  },
  "vscode": {
   "interpreter": {
    "hash": "8d3e54fe3ce154e32ac346abb9a52721706f8b6192d2a6d9e7d1f2a1d569502c"
   }
  }
 },
 "nbformat": 4,
 "nbformat_minor": 5
}
