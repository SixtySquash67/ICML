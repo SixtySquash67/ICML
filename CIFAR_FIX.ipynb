{
 "cells": [
  {
   "cell_type": "code",
   "execution_count": 1,
   "id": "8a335abc",
   "metadata": {},
   "outputs": [
    {
     "name": "stdout",
     "output_type": "stream",
     "text": [
      "GPUs Available:  1\n"
     ]
    }
   ],
   "source": [
    "import tensorflow as tf\n",
    "gpu = tf.config.experimental.list_physical_devices('GPU')\n",
    "print(\"GPUs Available: \", len(gpu))\n",
    "tf.config.experimental.set_memory_growth(gpu[0], True)\n",
    "import os\n",
    "from keras.datasets import cifar10\n",
    "from keras.models import Model\n",
    "from keras.layers import Input\n",
    "from keras import applications\n",
    "from keras import layers\n",
    "from keras import models\n",
    "from keras import optimizers\n",
    "from keras.callbacks import ModelCheckpoint, EarlyStopping\n",
    "from keras.applications.vgg16 import VGG16\n",
    "from keras.utils import to_categorical\n",
    "from sklearn.model_selection import train_test_split, StratifiedKFold\n",
    "from sklearn import datasets\n",
    "from sklearn.preprocessing import MinMaxScaler\n",
    "from sklearn.svm import LinearSVC\n",
    "from sklearn.utils.validation import column_or_1d\n",
    "from matplotlib import pyplot as plt\n",
    "import numpy as np\n",
    "from PIL import Image\n",
    "import cv2\n"
   ]
  },
  {
   "cell_type": "code",
   "execution_count": 2,
   "id": "319fffc4",
   "metadata": {},
   "outputs": [
    {
     "name": "stdout",
     "output_type": "stream",
     "text": [
      "Model: \"vgg16\"\n",
      "_________________________________________________________________\n",
      " Layer (type)                Output Shape              Param #   \n",
      "=================================================================\n",
      " input_1 (InputLayer)        [(None, 32, 32, 3)]       0         \n",
      "                                                                 \n",
      " block1_conv1 (Conv2D)       (None, 32, 32, 64)        1792      \n",
      "                                                                 \n",
      " block1_conv2 (Conv2D)       (None, 32, 32, 64)        36928     \n",
      "                                                                 \n",
      " block1_pool (MaxPooling2D)  (None, 16, 16, 64)        0         \n",
      "                                                                 \n",
      " block2_conv1 (Conv2D)       (None, 16, 16, 128)       73856     \n",
      "                                                                 \n",
      " block2_conv2 (Conv2D)       (None, 16, 16, 128)       147584    \n",
      "                                                                 \n",
      " block2_pool (MaxPooling2D)  (None, 8, 8, 128)         0         \n",
      "                                                                 \n",
      " block3_conv1 (Conv2D)       (None, 8, 8, 256)         295168    \n",
      "                                                                 \n",
      " block3_conv2 (Conv2D)       (None, 8, 8, 256)         590080    \n",
      "                                                                 \n",
      " block3_conv3 (Conv2D)       (None, 8, 8, 256)         590080    \n",
      "                                                                 \n",
      " block3_pool (MaxPooling2D)  (None, 4, 4, 256)         0         \n",
      "                                                                 \n",
      " block4_conv1 (Conv2D)       (None, 4, 4, 512)         1180160   \n",
      "                                                                 \n",
      " block4_conv2 (Conv2D)       (None, 4, 4, 512)         2359808   \n",
      "                                                                 \n",
      " block4_conv3 (Conv2D)       (None, 4, 4, 512)         2359808   \n",
      "                                                                 \n",
      " block4_pool (MaxPooling2D)  (None, 2, 2, 512)         0         \n",
      "                                                                 \n",
      " block5_conv1 (Conv2D)       (None, 2, 2, 512)         2359808   \n",
      "                                                                 \n",
      " block5_conv2 (Conv2D)       (None, 2, 2, 512)         2359808   \n",
      "                                                                 \n",
      " block5_conv3 (Conv2D)       (None, 2, 2, 512)         2359808   \n",
      "                                                                 \n",
      " block5_pool (MaxPooling2D)  (None, 1, 1, 512)         0         \n",
      "                                                                 \n",
      "=================================================================\n",
      "Total params: 14,714,688\n",
      "Trainable params: 14,714,688\n",
      "Non-trainable params: 0\n",
      "_________________________________________________________________\n"
     ]
    }
   ],
   "source": [
    "imgnet = applications.VGG16(weights = \"imagenet\", include_top=False, input_shape = (32, 32, 3))\n",
    "imgnet.summary()"
   ]
  },
  {
   "cell_type": "code",
<<<<<<< HEAD
   "execution_count": 5,
=======
   "execution_count": 18,
>>>>>>> 50a03a8c6526c803c7cf4dbaeaa44f6e45af56ba
   "id": "adf5bb53",
   "metadata": {},
   "outputs": [
    {
<<<<<<< HEAD
     "ename": "NameError",
     "evalue": "name 'x_train' is not defined",
     "output_type": "error",
     "traceback": [
      "\u001b[1;31m---------------------------------------------------------------------------\u001b[0m",
      "\u001b[1;31mNameError\u001b[0m                                 Traceback (most recent call last)",
      "Input \u001b[1;32mIn [5]\u001b[0m, in \u001b[0;36m<module>\u001b[1;34m\u001b[0m\n\u001b[0;32m      1\u001b[0m (x, y), (x_test, y_test) \u001b[38;5;241m=\u001b[39m cifar10\u001b[38;5;241m.\u001b[39mload_data()\n\u001b[0;32m      2\u001b[0m \u001b[38;5;66;03m#x_train = x_train[-10000:]\u001b[39;00m\n\u001b[0;32m      3\u001b[0m \u001b[38;5;66;03m#y_train = y_train[-10000:]\u001b[39;00m\n\u001b[0;32m      4\u001b[0m \n\u001b[0;32m      5\u001b[0m \u001b[38;5;66;03m#x_test = x_test[:-9000]\u001b[39;00m\n\u001b[0;32m      6\u001b[0m \u001b[38;5;66;03m#y_test = y_test[:-9000]\u001b[39;00m\n\u001b[1;32m----> 7\u001b[0m \u001b[43mx_train\u001b[49m\u001b[38;5;241m.\u001b[39mshape\n\u001b[0;32m      8\u001b[0m skf \u001b[38;5;241m=\u001b[39m StratifiedKFold(n_splits\u001b[38;5;241m=\u001b[39m\u001b[38;5;241m2\u001b[39m)\n\u001b[0;32m      9\u001b[0m \u001b[38;5;28;01mfor\u001b[39;00m train_index, test_index \u001b[38;5;129;01min\u001b[39;00m skf\u001b[38;5;241m.\u001b[39msplit(x_train, y_train):\n",
      "\u001b[1;31mNameError\u001b[0m: name 'x_train' is not defined"
=======
     "name": "stdout",
     "output_type": "stream",
     "text": [
      "TRAIN: [11863 11883 11885 ... 24997 24998 24999] TEST: [    0     1     2 ... 12772 12783 12788]\n",
      "TRAIN: [    0     1     2 ... 12772 12783 12788] TEST: [11863 11883 11885 ... 24997 24998 24999]\n"
>>>>>>> 50a03a8c6526c803c7cf4dbaeaa44f6e45af56ba
     ]
    }
   ],
   "source": [
    "(x, y), (x_test, y_test) = cifar10.load_data()\n",
    "#x_train = x_train[-10000:]\n",
    "#y_train = y_train[-10000:]\n",
    "\n",
    "#x_test = x_test[:-9000]\n",
    "#y_test = y_test[:-9000]\n",
    "x_train.shape\n",
    "skf = StratifiedKFold(n_splits=2)\n",
    "for train_index, test_index in skf.split(x_train, y_train):\n",
    "    print(\"TRAIN:\", train_index, \"TEST:\", test_index)\n",
    "    x_train, x_val = x[train_index], x[test_index]\n",
    "    y_train, y_val = y[train_index], y[test_index]\n",
    "#x_train, x_val = "
   ]
  },
  {
   "cell_type": "code",
<<<<<<< HEAD
   "execution_count": 6,
=======
   "execution_count": 4,
>>>>>>> 50a03a8c6526c803c7cf4dbaeaa44f6e45af56ba
   "id": "d42d6017",
   "metadata": {},
   "outputs": [
    {
     "data": {
      "text/plain": [
       "(32, 32, 3)"
      ]
     },
<<<<<<< HEAD
     "execution_count": 6,
=======
     "execution_count": 4,
>>>>>>> 50a03a8c6526c803c7cf4dbaeaa44f6e45af56ba
     "metadata": {},
     "output_type": "execute_result"
    }
   ],
   "source": [
    "x_test[9].shape"
   ]
  },
  {
   "cell_type": "code",
<<<<<<< HEAD
   "execution_count": 8,
=======
   "execution_count": 5,
>>>>>>> 50a03a8c6526c803c7cf4dbaeaa44f6e45af56ba
   "id": "8c154984",
   "metadata": {},
   "outputs": [
    {
     "name": "stdout",
     "output_type": "stream",
     "text": [
<<<<<<< HEAD
      "1/1 [==============================] - 0s 16ms/step\n"
=======
      "1/1 [==============================] - 2s 2s/step\n"
>>>>>>> 50a03a8c6526c803c7cf4dbaeaa44f6e45af56ba
     ]
    },
    {
     "data": {
      "text/plain": [
<<<<<<< HEAD
       "array([[[[ 46.364887  ,   0.        , 112.55614   ,   0.        ,\n",
       "            0.        ,   0.        ,   0.        ,   0.        ,\n",
       "            0.        ,   0.        ,   0.        ,   0.        ,\n",
       "           79.240456  ,   0.        ,   0.        ,   0.        ,\n",
       "            0.        ,   0.        ,   0.        ,   0.        ,\n",
       "            0.        ,   0.        ,   0.        ,   0.        ,\n",
       "            0.        ,   0.        ,   0.        ,  40.48933   ,\n",
       "           50.638367  ,   0.        ,  56.294685  ,   0.        ,\n",
       "            0.        ,   0.        ,   0.        ,   0.        ,\n",
       "            0.        ,   0.        ,   0.        ,   0.        ,\n",
       "            0.        ,   0.        ,   0.        ,   0.        ,\n",
       "            0.        ,  24.912828  ,   0.        ,   0.        ,\n",
       "            0.        ,   0.        ,   0.        ,   0.        ,\n",
       "            0.        ,   0.        ,  89.53818   ,   0.        ,\n",
       "            0.        ,   0.        ,   0.        ,   0.        ,\n",
       "            0.        ,   0.        ,   0.        ,   0.        ,\n",
       "            0.        ,   0.        ,   0.        ,   0.        ,\n",
       "            0.        ,  17.503971  ,   0.        ,  66.69816   ,\n",
       "           24.784143  ,   0.        ,   0.        ,   0.        ,\n",
       "            0.        ,   0.        ,   0.        ,   0.        ,\n",
       "            0.        ,  25.768066  ,   0.        ,  21.467173  ,\n",
       "            0.        ,   0.        ,   0.        ,   0.        ,\n",
       "            0.        ,   0.        ,   0.        ,  39.92228   ,\n",
       "            0.        ,   0.        ,   3.2421072 ,   0.        ,\n",
       "            0.        ,   0.        ,   0.        ,   0.        ,\n",
       "            0.        ,   0.        ,   0.        ,   0.        ,\n",
       "            6.054148  ,   0.        ,  30.230171  ,   0.        ,\n",
       "           45.899277  , 145.61531   ,  20.46777   ,   0.        ,\n",
       "            0.        ,   0.        ,   0.        ,   0.        ,\n",
       "           22.44519   ,  68.23271   ,   0.        ,   0.        ,\n",
       "           41.885952  ,  61.504253  ,   0.        ,   0.        ,\n",
       "            0.        ,  55.005756  ,   0.        ,   0.        ,\n",
       "            0.        ,   0.        ,   0.        ,   0.        ,\n",
       "            0.        ,   0.        ,   0.        ,   0.        ,\n",
       "            0.        ,   0.        ,   0.        ,   0.        ,\n",
       "            0.        ,   0.        ,  34.701748  ,   0.        ,\n",
       "            0.        ,   0.        ,   0.        ,   0.        ,\n",
       "            0.        ,  78.39558   ,   0.        ,   0.        ,\n",
       "            0.        ,   0.        ,  47.219105  ,   0.        ,\n",
       "            0.        ,   0.        ,  37.46293   ,  64.16932   ,\n",
       "            0.        ,   0.        ,   0.        ,   0.        ,\n",
       "            0.        ,   9.068617  ,   0.        ,   0.        ,\n",
       "           30.098993  ,  31.967682  ,   0.        ,   0.        ,\n",
       "            0.        ,   0.        ,   0.        ,   0.27683875,\n",
       "            0.        ,   0.        ,   0.        ,   0.        ,\n",
       "            0.        ,   0.        ,  23.66236   ,   0.        ,\n",
       "            0.        ,   0.        ,   0.        ,   0.        ,\n",
       "            0.        ,   0.        ,   0.        ,   0.        ,\n",
       "            0.        ,   0.        ,  80.08526   ,   0.        ,\n",
       "            0.        ,   0.        ,   0.        ,   0.        ,\n",
       "            0.        ,   0.        ,   0.        ,   0.        ,\n",
       "            0.        ,   5.254652  ,   0.        ,   0.        ,\n",
       "            0.        ,   0.        ,   0.        ,  31.535805  ,\n",
       "            0.        ,  36.078033  ,   0.        ,   0.        ,\n",
       "            0.        ,   0.        ,   0.        ,   0.        ,\n",
       "            0.        ,   0.        ,   0.        ,   0.        ,\n",
       "            0.        ,   0.        ,   0.        ,   0.        ,\n",
       "            0.        ,   0.        ,   0.        ,   4.440222  ,\n",
       "            0.        ,   0.        ,   0.        ,   0.        ,\n",
       "            0.        ,   0.        ,   0.        ,  60.12549   ,\n",
       "           41.839592  ,   2.4939213 ,   0.        ,   0.        ,\n",
       "            0.        ,   0.        ,   0.        ,   8.960102  ,\n",
       "            0.        ,   0.        ,   0.        ,   0.        ,\n",
       "            0.        ,   0.        ,   0.        ,   0.        ,\n",
       "            0.        ,   0.        ,   0.        ,   0.        ,\n",
       "            0.        ,  10.111209  ,   0.        ,   0.        ,\n",
=======
       "array([[[[ 46.364853  ,   0.        , 112.55617   ,   0.        ,\n",
       "            0.        ,   0.        ,   0.        ,   0.        ,\n",
       "            0.        ,   0.        ,   0.        ,   0.        ,\n",
       "           79.24045   ,   0.        ,   0.        ,   0.        ,\n",
       "            0.        ,   0.        ,   0.        ,   0.        ,\n",
       "            0.        ,   0.        ,   0.        ,   0.        ,\n",
       "            0.        ,   0.        ,   0.        ,  40.489193  ,\n",
       "           50.638535  ,   0.        ,  56.294704  ,   0.        ,\n",
       "            0.        ,   0.        ,   0.        ,   0.        ,\n",
       "            0.        ,   0.        ,   0.        ,   0.        ,\n",
       "            0.        ,   0.        ,   0.        ,   0.        ,\n",
       "            0.        ,  24.912712  ,   0.        ,   0.        ,\n",
       "            0.        ,   0.        ,   0.        ,   0.        ,\n",
       "            0.        ,   0.        ,  89.53809   ,   0.        ,\n",
       "            0.        ,   0.        ,   0.        ,   0.        ,\n",
       "            0.        ,   0.        ,   0.        ,   0.        ,\n",
       "            0.        ,   0.        ,   0.        ,   0.        ,\n",
       "            0.        ,  17.503967  ,   0.        ,  66.697945  ,\n",
       "           24.784266  ,   0.        ,   0.        ,   0.        ,\n",
       "            0.        ,   0.        ,   0.        ,   0.        ,\n",
       "            0.        ,  25.767864  ,   0.        ,  21.467215  ,\n",
       "            0.        ,   0.        ,   0.        ,   0.        ,\n",
       "            0.        ,   0.        ,   0.        ,  39.92212   ,\n",
       "            0.        ,   0.        ,   3.2420614 ,   0.        ,\n",
       "            0.        ,   0.        ,   0.        ,   0.        ,\n",
       "            0.        ,   0.        ,   0.        ,   0.        ,\n",
       "            6.0539927 ,   0.        ,  30.230167  ,   0.        ,\n",
       "           45.899223  , 145.61508   ,  20.467852  ,   0.        ,\n",
       "            0.        ,   0.        ,   0.        ,   0.        ,\n",
       "           22.44501   ,  68.2325    ,   0.        ,   0.        ,\n",
       "           41.885822  ,  61.503944  ,   0.        ,   0.        ,\n",
       "            0.        ,  55.005802  ,   0.        ,   0.        ,\n",
       "            0.        ,   0.        ,   0.        ,   0.        ,\n",
       "            0.        ,   0.        ,   0.        ,   0.        ,\n",
       "            0.        ,   0.        ,   0.        ,   0.        ,\n",
       "            0.        ,   0.        ,  34.70168   ,   0.        ,\n",
       "            0.        ,   0.        ,   0.        ,   0.        ,\n",
       "            0.        ,  78.39544   ,   0.        ,   0.        ,\n",
       "            0.        ,   0.        ,  47.219093  ,   0.        ,\n",
       "            0.        ,   0.        ,  37.462887  ,  64.16937   ,\n",
       "            0.        ,   0.        ,   0.        ,   0.        ,\n",
       "            0.        ,   9.068714  ,   0.        ,   0.        ,\n",
       "           30.098896  ,  31.96763   ,   0.        ,   0.        ,\n",
       "            0.        ,   0.        ,   0.        ,   0.27684194,\n",
       "            0.        ,   0.        ,   0.        ,   0.        ,\n",
       "            0.        ,   0.        ,  23.662329  ,   0.        ,\n",
       "            0.        ,   0.        ,   0.        ,   0.        ,\n",
       "            0.        ,   0.        ,   0.        ,   0.        ,\n",
       "            0.        ,   0.        ,  80.085266  ,   0.        ,\n",
       "            0.        ,   0.        ,   0.        ,   0.        ,\n",
       "            0.        ,   0.        ,   0.        ,   0.        ,\n",
       "            0.        ,   5.254632  ,   0.        ,   0.        ,\n",
       "            0.        ,   0.        ,   0.        ,  31.535843  ,\n",
       "            0.        ,  36.077805  ,   0.        ,   0.        ,\n",
       "            0.        ,   0.        ,   0.        ,   0.        ,\n",
       "            0.        ,   0.        ,   0.        ,   0.        ,\n",
       "            0.        ,   0.        ,   0.        ,   0.        ,\n",
       "            0.        ,   0.        ,   0.        ,   4.440273  ,\n",
       "            0.        ,   0.        ,   0.        ,   0.        ,\n",
       "            0.        ,   0.        ,   0.        ,  60.125412  ,\n",
       "           41.839592  ,   2.4939609 ,   0.        ,   0.        ,\n",
       "            0.        ,   0.        ,   0.        ,   8.960041  ,\n",
       "            0.        ,   0.        ,   0.        ,   0.        ,\n",
       "            0.        ,   0.        ,   0.        ,   0.        ,\n",
       "            0.        ,   0.        ,   0.        ,   0.        ,\n",
       "            0.        ,  10.111183  ,   0.        ,   0.        ,\n",
>>>>>>> 50a03a8c6526c803c7cf4dbaeaa44f6e45af56ba
       "            0.        ,   0.        ,   0.        ,   0.        ,\n",
       "            0.        ,   0.        ,   0.        ,   0.        ,\n",
       "            0.        ,   0.        ,   0.        ,   0.        ,\n",
       "            0.        ,   0.        ,   0.        ,   0.        ,\n",
<<<<<<< HEAD
       "            0.        ,   0.        ,   0.        ,  29.464457  ,\n",
       "            4.348606  ,   0.        ,   0.        ,   0.        ,\n",
       "            0.        ,   0.        ,   0.        ,   0.        ,\n",
       "            2.0316985 ,   0.        ,   0.        ,   0.        ,\n",
       "            0.        ,   0.        ,   0.        ,   0.        ,\n",
       "            0.        ,   0.        ,   0.        ,   0.        ,\n",
       "            0.        ,   0.        ,   0.        ,   0.        ,\n",
       "          116.203476  ,   0.        ,   0.        ,   0.        ,\n",
       "            0.        ,  19.26863   ,   0.        ,   0.        ,\n",
       "           63.889057  ,   0.        ,  93.32046   ,   0.        ,\n",
       "            0.        ,   0.        ,  10.010303  ,   0.        ,\n",
       "            0.        ,   0.        ,   0.        ,   0.        ,\n",
       "            0.        ,   0.        ,   0.        ,   0.        ,\n",
       "            0.        ,   0.        ,  14.260639  ,   0.        ,\n",
       "            0.        ,   0.        ,   2.219568  ,   0.        ,\n",
       "            0.        ,   0.        ,   0.        ,  19.57676   ,\n",
       "            0.        ,   4.385341  ,   7.7028236 ,   0.        ,\n",
       "            0.        ,  38.353058  ,   0.        ,   0.        ,\n",
       "            0.        ,   0.        ,   0.        ,   0.        ,\n",
       "            0.        ,   0.        ,   0.        ,  73.20186   ,\n",
       "            0.        ,   0.        ,   0.        ,   0.        ,\n",
       "            0.        ,  44.75464   ,   0.        ,   0.        ,\n",
       "            0.        ,   0.        ,  14.808097  ,   0.        ,\n",
       "            0.        ,   0.        ,   0.        ,   0.        ,\n",
       "            0.        ,   0.        ,   0.        ,   0.        ,\n",
       "            2.2372928 ,   0.        ,   0.        ,  23.254248  ,\n",
       "            0.        ,   0.        ,   0.        ,  50.39635   ,\n",
=======
       "            0.        ,   0.        ,   0.        ,  29.464344  ,\n",
       "            4.348487  ,   0.        ,   0.        ,   0.        ,\n",
       "            0.        ,   0.        ,   0.        ,   0.        ,\n",
       "            2.031624  ,   0.        ,   0.        ,   0.        ,\n",
       "            0.        ,   0.        ,   0.        ,   0.        ,\n",
       "            0.        ,   0.        ,   0.        ,   0.        ,\n",
       "            0.        ,   0.        ,   0.        ,   0.        ,\n",
       "          116.203545  ,   0.        ,   0.        ,   0.        ,\n",
       "            0.        ,  19.268585  ,   0.        ,   0.        ,\n",
       "           63.889004  ,   0.        ,  93.32035   ,   0.        ,\n",
       "            0.        ,   0.        ,  10.010267  ,   0.        ,\n",
       "            0.        ,   0.        ,   0.        ,   0.        ,\n",
       "            0.        ,   0.        ,   0.        ,   0.        ,\n",
       "            0.        ,   0.        ,  14.26062   ,   0.        ,\n",
       "            0.        ,   0.        ,   2.2197037 ,   0.        ,\n",
       "            0.        ,   0.        ,   0.        ,  19.57678   ,\n",
       "            0.        ,   4.3853297 ,   7.7029414 ,   0.        ,\n",
       "            0.        ,  38.353107  ,   0.        ,   0.        ,\n",
       "            0.        ,   0.        ,   0.        ,   0.        ,\n",
       "            0.        ,   0.        ,   0.        ,  73.20194   ,\n",
       "            0.        ,   0.        ,   0.        ,   0.        ,\n",
       "            0.        ,  44.75467   ,   0.        ,   0.        ,\n",
       "            0.        ,   0.        ,  14.808032  ,   0.        ,\n",
       "            0.        ,   0.        ,   0.        ,   0.        ,\n",
       "            0.        ,   0.        ,   0.        ,   0.        ,\n",
       "            2.237276  ,   0.        ,   0.        ,  23.25421   ,\n",
       "            0.        ,   0.        ,   0.        ,  50.396206  ,\n",
>>>>>>> 50a03a8c6526c803c7cf4dbaeaa44f6e45af56ba
       "            0.        ,   0.        ,   0.        ,   0.        ,\n",
       "            0.        ,   0.        ,   0.        ,   0.        ,\n",
       "            0.        ,   0.        ,   0.        ,   0.        ,\n",
       "            0.        ,   0.        ,   0.        ,   0.        ,\n",
<<<<<<< HEAD
       "            0.        ,   0.        ,  20.301632  ,  14.936472  ,\n",
       "            0.        ,   0.        ,  24.419954  ,   0.        ,\n",
       "            0.        ,  43.204422  ,  82.62362   ,   0.        ,\n",
=======
       "            0.        ,   0.        ,  20.30174   ,  14.936414  ,\n",
       "            0.        ,   0.        ,  24.419912  ,   0.        ,\n",
       "            0.        ,  43.204666  ,  82.62369   ,   0.        ,\n",
>>>>>>> 50a03a8c6526c803c7cf4dbaeaa44f6e45af56ba
       "            0.        ,   0.        ,   0.        ,   0.        ,\n",
       "            0.        ,   0.        ,   0.        ,   0.        ,\n",
       "            0.        ,   0.        ,   0.        ,   0.        ,\n",
       "            0.        ,   0.        ,   0.        ,   0.        ,\n",
<<<<<<< HEAD
       "           58.016453  ,   0.        ,   0.        ,   0.        ,\n",
       "            0.        ,   0.        ,   0.        ,  16.391722  ,\n",
       "            0.        ,   0.        ,   0.        ,   0.        ,\n",
       "            0.        ,  58.810764  ,   0.        ,   0.        ,\n",
       "            0.        ,   0.        ,   0.        ,   0.        ,\n",
       "          115.77913   ,   0.        ,   0.        ,   0.        ,\n",
=======
       "           58.016575  ,   0.        ,   0.        ,   0.        ,\n",
       "            0.        ,   0.        ,   0.        ,  16.391806  ,\n",
       "            0.        ,   0.        ,   0.        ,   0.        ,\n",
       "            0.        ,  58.810825  ,   0.        ,   0.        ,\n",
       "            0.        ,   0.        ,   0.        ,   0.        ,\n",
       "          115.779015  ,   0.        ,   0.        ,   0.        ,\n",
>>>>>>> 50a03a8c6526c803c7cf4dbaeaa44f6e45af56ba
       "            0.        ,   0.        ,   0.        ,   0.        ,\n",
       "            0.        ,   0.        ,   0.        ,   0.        ,\n",
       "            0.        ,   0.        ,   0.        ,   0.        ,\n",
       "            0.        ,   0.        ,   0.        ,   0.        ,\n",
<<<<<<< HEAD
       "           98.32806   ,   0.        ,  55.197086  ,   0.        ,\n",
       "            0.        ,   0.        ,   0.        ,   0.        ,\n",
       "            0.        ,   0.        ,   0.        ,   0.        ,\n",
       "            0.        ,   0.        ,  44.887047  ,   0.        ,\n",
       "            0.        ,   0.        ,   0.        ,   0.        ,\n",
       "            0.        ,   0.        ,   0.        ,   0.        ,\n",
       "            0.        ,   0.        ,   0.        ,  14.436564  ,\n",
       "           54.177227  ,   0.        ,   0.        ,   0.        ,\n",
       "            0.        ,  12.11047   ,   0.        ,   0.        ,\n",
       "            0.        ,   0.        ,   0.        ,  18.992393  ]]]],\n",
       "      dtype=float32)"
      ]
     },
     "execution_count": 8,
=======
       "           98.32793   ,   0.        ,  55.196945  ,   0.        ,\n",
       "            0.        ,   0.        ,   0.        ,   0.        ,\n",
       "            0.        ,   0.        ,   0.        ,   0.        ,\n",
       "            0.        ,   0.        ,  44.887154  ,   0.        ,\n",
       "            0.        ,   0.        ,   0.        ,   0.        ,\n",
       "            0.        ,   0.        ,   0.        ,   0.        ,\n",
       "            0.        ,   0.        ,   0.        ,  14.436539  ,\n",
       "           54.177246  ,   0.        ,   0.        ,   0.        ,\n",
       "            0.        ,  12.110461  ,   0.        ,   0.        ,\n",
       "            0.        ,   0.        ,   0.        ,  18.992477  ]]]],\n",
       "      dtype=float32)"
      ]
     },
     "execution_count": 5,
>>>>>>> 50a03a8c6526c803c7cf4dbaeaa44f6e45af56ba
     "metadata": {},
     "output_type": "execute_result"
    }
   ],
   "source": [
    "imgnet.predict(x_test[9:10])"
   ]
  },
  {
   "cell_type": "code",
<<<<<<< HEAD
   "execution_count": null,
   "id": "522b90e3",
   "metadata": {},
   "outputs": [],
=======
   "execution_count": 6,
   "id": "522b90e3",
   "metadata": {},
   "outputs": [
    {
     "name": "stdout",
     "output_type": "stream",
     "text": [
      "313/313 [==============================] - 2s 6ms/step\n",
      "1563/1563 [==============================] - 8s 5ms/step\n"
     ]
    },
    {
     "data": {
      "text/plain": [
       "(10000, 512)"
      ]
     },
     "execution_count": 6,
     "metadata": {},
     "output_type": "execute_result"
    }
   ],
>>>>>>> 50a03a8c6526c803c7cf4dbaeaa44f6e45af56ba
   "source": [
    "X_test = imgnet.predict(x_test[:]).reshape(10000,512)\n",
    "X_train = imgnet.predict(x_train[:]).reshape(50000,512)\n",
    "X_test.shape\n",
    "#(1,1,1,512)"
   ]
  },
  {
   "cell_type": "code",
<<<<<<< HEAD
   "execution_count": null,
=======
   "execution_count": 7,
>>>>>>> 50a03a8c6526c803c7cf4dbaeaa44f6e45af56ba
   "id": "ba091940",
   "metadata": {},
   "outputs": [],
   "source": [
    "scaler = MinMaxScaler()\n",
    "train = scaler.fit_transform(X_train)\n",
    "test = scaler.transform(X_test)\n",
    "#test[0]"
   ]
  },
  {
   "cell_type": "code",
<<<<<<< HEAD
   "execution_count": null,
   "id": "c86842e2",
   "metadata": {},
   "outputs": [],
=======
   "execution_count": 8,
   "id": "c86842e2",
   "metadata": {},
   "outputs": [
    {
     "name": "stdout",
     "output_type": "stream",
     "text": [
      "(50000, 512) (50000,)\n"
     ]
    },
    {
     "data": {
      "text/html": [
       "<style>#sk-container-id-1 {color: black;background-color: white;}#sk-container-id-1 pre{padding: 0;}#sk-container-id-1 div.sk-toggleable {background-color: white;}#sk-container-id-1 label.sk-toggleable__label {cursor: pointer;display: block;width: 100%;margin-bottom: 0;padding: 0.3em;box-sizing: border-box;text-align: center;}#sk-container-id-1 label.sk-toggleable__label-arrow:before {content: \"▸\";float: left;margin-right: 0.25em;color: #696969;}#sk-container-id-1 label.sk-toggleable__label-arrow:hover:before {color: black;}#sk-container-id-1 div.sk-estimator:hover label.sk-toggleable__label-arrow:before {color: black;}#sk-container-id-1 div.sk-toggleable__content {max-height: 0;max-width: 0;overflow: hidden;text-align: left;background-color: #f0f8ff;}#sk-container-id-1 div.sk-toggleable__content pre {margin: 0.2em;color: black;border-radius: 0.25em;background-color: #f0f8ff;}#sk-container-id-1 input.sk-toggleable__control:checked~div.sk-toggleable__content {max-height: 200px;max-width: 100%;overflow: auto;}#sk-container-id-1 input.sk-toggleable__control:checked~label.sk-toggleable__label-arrow:before {content: \"▾\";}#sk-container-id-1 div.sk-estimator input.sk-toggleable__control:checked~label.sk-toggleable__label {background-color: #d4ebff;}#sk-container-id-1 div.sk-label input.sk-toggleable__control:checked~label.sk-toggleable__label {background-color: #d4ebff;}#sk-container-id-1 input.sk-hidden--visually {border: 0;clip: rect(1px 1px 1px 1px);clip: rect(1px, 1px, 1px, 1px);height: 1px;margin: -1px;overflow: hidden;padding: 0;position: absolute;width: 1px;}#sk-container-id-1 div.sk-estimator {font-family: monospace;background-color: #f0f8ff;border: 1px dotted black;border-radius: 0.25em;box-sizing: border-box;margin-bottom: 0.5em;}#sk-container-id-1 div.sk-estimator:hover {background-color: #d4ebff;}#sk-container-id-1 div.sk-parallel-item::after {content: \"\";width: 100%;border-bottom: 1px solid gray;flex-grow: 1;}#sk-container-id-1 div.sk-label:hover label.sk-toggleable__label {background-color: #d4ebff;}#sk-container-id-1 div.sk-serial::before {content: \"\";position: absolute;border-left: 1px solid gray;box-sizing: border-box;top: 0;bottom: 0;left: 50%;z-index: 0;}#sk-container-id-1 div.sk-serial {display: flex;flex-direction: column;align-items: center;background-color: white;padding-right: 0.2em;padding-left: 0.2em;position: relative;}#sk-container-id-1 div.sk-item {position: relative;z-index: 1;}#sk-container-id-1 div.sk-parallel {display: flex;align-items: stretch;justify-content: center;background-color: white;position: relative;}#sk-container-id-1 div.sk-item::before, #sk-container-id-1 div.sk-parallel-item::before {content: \"\";position: absolute;border-left: 1px solid gray;box-sizing: border-box;top: 0;bottom: 0;left: 50%;z-index: -1;}#sk-container-id-1 div.sk-parallel-item {display: flex;flex-direction: column;z-index: 1;position: relative;background-color: white;}#sk-container-id-1 div.sk-parallel-item:first-child::after {align-self: flex-end;width: 50%;}#sk-container-id-1 div.sk-parallel-item:last-child::after {align-self: flex-start;width: 50%;}#sk-container-id-1 div.sk-parallel-item:only-child::after {width: 0;}#sk-container-id-1 div.sk-dashed-wrapped {border: 1px dashed gray;margin: 0 0.4em 0.5em 0.4em;box-sizing: border-box;padding-bottom: 0.4em;background-color: white;}#sk-container-id-1 div.sk-label label {font-family: monospace;font-weight: bold;display: inline-block;line-height: 1.2em;}#sk-container-id-1 div.sk-label-container {text-align: center;}#sk-container-id-1 div.sk-container {/* jupyter's `normalize.less` sets `[hidden] { display: none; }` but bootstrap.min.css set `[hidden] { display: none !important; }` so we also need the `!important` here to be able to override the default hidden behavior on the sphinx rendered scikit-learn.org. See: https://github.com/scikit-learn/scikit-learn/issues/21755 */display: inline-block !important;position: relative;}#sk-container-id-1 div.sk-text-repr-fallback {display: none;}</style><div id=\"sk-container-id-1\" class=\"sk-top-container\"><div class=\"sk-text-repr-fallback\"><pre>LinearSVC()</pre><b>In a Jupyter environment, please rerun this cell to show the HTML representation or trust the notebook. <br />On GitHub, the HTML representation is unable to render, please try loading this page with nbviewer.org.</b></div><div class=\"sk-container\" hidden><div class=\"sk-item\"><div class=\"sk-estimator sk-toggleable\"><input class=\"sk-toggleable__control sk-hidden--visually\" id=\"sk-estimator-id-1\" type=\"checkbox\" checked><label for=\"sk-estimator-id-1\" class=\"sk-toggleable__label sk-toggleable__label-arrow\">LinearSVC</label><div class=\"sk-toggleable__content\"><pre>LinearSVC()</pre></div></div></div></div></div>"
      ],
      "text/plain": [
       "LinearSVC()"
      ]
     },
     "execution_count": 8,
     "metadata": {},
     "output_type": "execute_result"
    }
   ],
>>>>>>> 50a03a8c6526c803c7cf4dbaeaa44f6e45af56ba
   "source": [
    "svm = LinearSVC()\n",
    "y_train = np.ravel(y_train)\n",
    "print(train.shape, y_train.shape)\n",
    "svm.fit(train, y_train)"
   ]
  },
  {
   "cell_type": "code",
<<<<<<< HEAD
   "execution_count": null,
   "id": "a6f6dbfe",
   "metadata": {},
   "outputs": [],
=======
   "execution_count": 9,
   "id": "a6f6dbfe",
   "metadata": {},
   "outputs": [
    {
     "data": {
      "text/plain": [
       "0.6071"
      ]
     },
     "execution_count": 9,
     "metadata": {},
     "output_type": "execute_result"
    }
   ],
>>>>>>> 50a03a8c6526c803c7cf4dbaeaa44f6e45af56ba
   "source": [
    "y_pred = svm.predict(X_test)\n",
    "#e calcular acc dps\n",
    "y_test = np.ravel(y_test)\n",
    "svm.score(test, y_test)"
   ]
  },
  {
   "cell_type": "code",
   "execution_count": null,
   "id": "3780cf47",
   "metadata": {},
   "outputs": [],
   "source": []
  }
 ],
 "metadata": {
  "kernelspec": {
   "display_name": "Python 3 (ipykernel)",
   "language": "python",
   "name": "python3"
  },
  "language_info": {
   "codemirror_mode": {
    "name": "ipython",
    "version": 3
   },
   "file_extension": ".py",
   "mimetype": "text/x-python",
   "name": "python",
   "nbconvert_exporter": "python",
   "pygments_lexer": "ipython3",
   "version": "3.10.0"
  }
 },
 "nbformat": 4,
 "nbformat_minor": 5
}
