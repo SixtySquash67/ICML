{
 "cells": [
  {
   "cell_type": "markdown",
   "id": "119aa5b4",
   "metadata": {},
   "source": [
    "# Imports"
   ]
  },
  {
   "cell_type": "code",
   "execution_count": 1,
   "id": "f3486818",
   "metadata": {
    "scrolled": true
   },
   "outputs": [],
   "source": [
    "import numpy as np\n",
    "import matplotlib.pyplot as plt\n",
    "%matplotlib inline\n",
    "import keras\n",
    "from keras.models import Sequential\n",
    "from keras.layers import Dense, Dropout\n",
    "from sklearn.metrics import confusion_matrix\n",
    "import seaborn as sns\n",
    "\n",
    "\n",
    "np.random.seed(0)"
   ]
  },
  {
   "cell_type": "markdown",
   "id": "1fc77a6f",
   "metadata": {},
   "source": [
    "# Data"
   ]
  },
  {
   "cell_type": "code",
   "execution_count": 2,
   "id": "3725c934",
   "metadata": {},
   "outputs": [],
   "source": [
    "from keras.datasets import mnist\n",
    "(x_train,y_train), (x_test, y_test) = mnist.load_data()"
   ]
  },
  {
   "cell_type": "code",
   "execution_count": 3,
   "id": "785e492d",
   "metadata": {},
   "outputs": [
    {
     "name": "stdout",
     "output_type": "stream",
     "text": [
      "[5 0 4 ... 5 6 8]\n"
     ]
    }
   ],
   "source": [
    "#print(x_train.shape, y_train.shape)\n",
    "#print(x_test.shape, y_test.shape)\n",
    "print(y_train)"
   ]
  },
  {
   "cell_type": "markdown",
   "id": "16c8177d",
   "metadata": {},
   "source": [
    "# Exemplos"
   ]
  },
  {
   "cell_type": "code",
   "execution_count": 5,
   "id": "5d40c982",
   "metadata": {},
   "outputs": [
    {
     "data": {
      "image/png": "[encoded data removed]",
      "text/plain": [
       "<Figure size 2016x2016 with 10 Axes>"
      ]
     },
     "metadata": {
      "needs_background": "light"
     },
     "output_type": "display_data"
    }
   ],
   "source": [
    "num_classes = 10\n",
    "f, ax = plt.subplots(1, num_classes, figsize=(28,28))\n",
    "for i in range(0, num_classes):\n",
    "    sample = x_train[y_train == i][0]\n",
    "    ax[i].imshow(sample, cmap='gray')\n",
    "    ax[i].set_title(\"Label: {}\".format(i), fontsize = 16)\n"
   ]
  },
  {
   "cell_type": "code",
   "execution_count": 6,
   "id": "f841ec05",
   "metadata": {},
   "outputs": [
    {
     "name": "stdout",
     "output_type": "stream",
     "text": [
      "[0. 0. 0. 0. 0. 1. 0. 0. 0. 0.]\n"
     ]
    }
   ],
   "source": [
    "y_train = keras.utils.to_categorical(y_train, num_classes)\n",
    "y_test = keras.utils.to_categorical(y_test, num_classes)\n",
    "print(y_train[0])"
   ]
  },
  {
   "cell_type": "code",
   "execution_count": 7,
   "id": "eb4b80e4",
   "metadata": {},
   "outputs": [
    {
     "name": "stdout",
     "output_type": "stream",
     "text": [
      "[0. 0. 0. 0. 0. 1. 0. 0. 0. 0.]\n",
      "[1. 0. 0. 0. 0. 0. 0. 0. 0. 0.]\n",
      "[0. 0. 0. 0. 1. 0. 0. 0. 0. 0.]\n",
      "[0. 1. 0. 0. 0. 0. 0. 0. 0. 0.]\n",
      "[0. 0. 0. 0. 0. 0. 0. 0. 0. 1.]\n",
      "[0. 0. 1. 0. 0. 0. 0. 0. 0. 0.]\n",
      "[0. 1. 0. 0. 0. 0. 0. 0. 0. 0.]\n",
      "[0. 0. 0. 1. 0. 0. 0. 0. 0. 0.]\n",
      "[0. 1. 0. 0. 0. 0. 0. 0. 0. 0.]\n",
      "[0. 0. 0. 0. 1. 0. 0. 0. 0. 0.]\n"
     ]
    }
   ],
   "source": [
    "for i in range(0,10):\n",
    "    print(y_train[i])"
   ]
  },
  {
   "cell_type": "code",
   "execution_count": 8,
   "id": "ed536cb1",
   "metadata": {},
   "outputs": [],
   "source": [
    "#Normalize\n",
    "x_train = x_train / 255.0\n",
    "x_test = x_test / 255.0"
   ]
  },
  {
   "cell_type": "code",
   "execution_count": 9,
   "id": "90a9aa52",
   "metadata": {},
   "outputs": [
    {
     "name": "stdout",
     "output_type": "stream",
     "text": [
      "(60000, 784)\n"
     ]
    }
   ],
   "source": [
    "#Reshape\n",
    "#(60000, 28 , 28) to (60000, 784)\n",
    "x_train = x_train.reshape(x_train.shape[0],-1)\n",
    "x_test = x_test.reshape(x_test.shape[0],-1)\n",
    "print(x_train.shape)"
   ]
  },
  {
   "cell_type": "markdown",
   "id": "649462c6",
   "metadata": {},
   "source": [
    "# Criando o modelo"
   ]
  },
  {
   "cell_type": "code",
   "execution_count": 14,
   "id": "457191e7",
   "metadata": {},
   "outputs": [
    {
     "name": "stdout",
     "output_type": "stream",
     "text": [
      "Model: \"sequential_2\"\n",
      "_________________________________________________________________\n",
      " Layer (type)                Output Shape              Param #   \n",
      "=================================================================\n",
      " dense_6 (Dense)             (None, 128)               100480    \n",
      "                                                                 \n",
      " dense_7 (Dense)             (None, 128)               16512     \n",
      "                                                                 \n",
      " dropout_2 (Dropout)         (None, 128)               0         \n",
      "                                                                 \n",
      " dense_8 (Dense)             (None, 10)                1290      \n",
      "                                                                 \n",
      "=================================================================\n",
      "Total params: 118,282\n",
      "Trainable params: 118,282\n",
      "Non-trainable params: 0\n",
      "_________________________________________________________________\n"
     ]
    }
   ],
   "source": [
    "model = Sequential()\n",
    "model.add(Dense(units=128, input_shape= (784,), activation = \"sigmoid\"))\n",
    "model.add(Dense(units=128, activation = \"sigmoid\"))\n",
    "model.add(Dropout(0.25))\n",
    "model.add(Dense(units=10, activation=\"softmax\"))\n",
    "\n",
    "model.compile(loss='categorical_crossentropy', optimizer='adam', metrics=['accuracy'])\n",
    "model.summary()"
   ]
  },
  {
   "cell_type": "markdown",
   "id": "a1056da2",
   "metadata": {},
   "source": [
    "# Treinamento"
   ]
  },
  {
   "cell_type": "code",
   "execution_count": 15,
   "id": "5bceeff8",
   "metadata": {},
   "outputs": [
    {
     "name": "stdout",
     "output_type": "stream",
     "text": [
      "Epoch 1/10\n",
      "118/118 [==============================] - 1s 5ms/step - loss: 1.5163 - accuracy: 0.5472\n",
      "Epoch 2/10\n",
      "118/118 [==============================] - 1s 5ms/step - loss: 0.5279 - accuracy: 0.8606\n",
      "Epoch 3/10\n",
      "118/118 [==============================] - 1s 4ms/step - loss: 0.3585 - accuracy: 0.9002\n",
      "Epoch 4/10\n",
      "118/118 [==============================] - 1s 5ms/step - loss: 0.2999 - accuracy: 0.9148\n",
      "Epoch 5/10\n",
      "118/118 [==============================] - 1s 4ms/step - loss: 0.2619 - accuracy: 0.9240\n",
      "Epoch 6/10\n",
      "118/118 [==============================] - 1s 4ms/step - loss: 0.2344 - accuracy: 0.9319\n",
      "Epoch 7/10\n",
      "118/118 [==============================] - 1s 4ms/step - loss: 0.2110 - accuracy: 0.9394\n",
      "Epoch 8/10\n",
      "118/118 [==============================] - 1s 4ms/step - loss: 0.1926 - accuracy: 0.9442\n",
      "Epoch 9/10\n",
      "118/118 [==============================] - 1s 4ms/step - loss: 0.1755 - accuracy: 0.9492\n",
      "Epoch 10/10\n",
      "118/118 [==============================] - 1s 4ms/step - loss: 0.1620 - accuracy: 0.9534\n"
     ]
    },
    {
     "data": {
      "text/plain": [
       "<keras.callbacks.History at 0x2234c70d9f0>"
      ]
     },
     "execution_count": 15,
     "metadata": {},
     "output_type": "execute_result"
    }
   ],
   "source": [
    "batch_size = 512\n",
    "epochs = 10\n",
    "model.fit(x=x_train, y=y_train, batch_size = batch_size, epochs=epochs)"
   ]
  },
  {
   "cell_type": "markdown",
   "id": "b5d9a749",
   "metadata": {},
   "source": [
    "# Performance do treinamento"
   ]
  },
  {
   "cell_type": "code",
   "execution_count": 16,
   "id": "a51b4496",
   "metadata": {},
   "outputs": [
    {
     "name": "stdout",
     "output_type": "stream",
     "text": [
      "313/313 [==============================] - 0s 1ms/step - loss: 0.1447 - accuracy: 0.9573\n",
      "Loss: 0.1447197049856186, Accuracy: 0.9573000073432922\n"
     ]
    }
   ],
   "source": [
    "test_loss, test_acc = model.evaluate(x_test, y_test)\n",
    "print(\"Loss: {}, Accuracy: {}\".format(test_loss, test_acc))"
   ]
  },
  {
   "cell_type": "markdown",
   "id": "682d71ee",
   "metadata": {},
   "source": [
    "# Prova"
   ]
  },
  {
   "cell_type": "code",
   "execution_count": 14,
   "id": "184f2e5c",
   "metadata": {},
   "outputs": [
    {
     "name": "stdout",
     "output_type": "stream",
     "text": [
      "313/313 [==============================] - 0s 761us/step\n"
     ]
    }
   ],
   "source": [
    "y_pred = model.predict(x_test)\n",
    "y_pred_classes = np.argmax(y_pred,axis=1)"
   ]
  },
  {
   "cell_type": "code",
   "execution_count": 15,
   "id": "4993ae8b",
   "metadata": {},
   "outputs": [
    {
     "name": "stdout",
     "output_type": "stream",
     "text": [
      "32\n"
     ]
    },
    {
     "data": {
      "image/png": "[encoded data removed]",
      "text/plain": [
       "<Figure size 432x288 with 1 Axes>"
      ]
     },
     "metadata": {
      "needs_background": "light"
     },
     "output_type": "display_data"
    }
   ],
   "source": [
    "contador = 0\n",
    "while True:\n",
    "    contador += 1\n",
    "    random_index = np.random.choice(len(x_test))\n",
    "    x_sample = x_test[random_index]\n",
    "    y_true = np.argmax(y_test, axis=1)\n",
    "    y_sample_true = y_true[random_index]\n",
    "    y_sample_predicted_class = y_pred_classes[random_index]\n",
    "    if(y_sample_predicted_class != y_sample_true):\n",
    "        break\n",
    "plt.title(\"Previsao: {}, Gabarito: {}\".format(y_sample_predicted_class, y_sample_true), fontsize=16)\n",
    "plt.imshow(x_sample.reshape(28, 28), cmap=\"gray\")\n",
    "print(contador)"
   ]
  },
  {
   "cell_type": "markdown",
   "id": "f34769c6",
   "metadata": {},
   "source": [
    "# Resultados (Confusion Matrix)"
   ]
  },
  {
   "cell_type": "code",
   "execution_count": 16,
   "id": "75f025d3",
   "metadata": {},
   "outputs": [
    {
     "data": {
      "image/png": "[encoded data removed]",
      "text/plain": [
       "<Figure size 1080x720 with 2 Axes>"
      ]
     },
     "metadata": {
      "needs_background": "light"
     },
     "output_type": "display_data"
    }
   ],
   "source": [
    "confusion_mtx = confusion_matrix(y_true, y_pred_classes)\n",
    "fig, ax = plt.subplots(figsize=(15,10))\n",
    "ax = sns.heatmap(confusion_mtx, annot=True, fmt='d', ax=ax, cmap = \"Blues\")\n",
    "ax.set_xlabel('Previsao')\n",
    "ax.set_ylabel('Gabarito')\n",
    "ax.set_title('Confusion Matrix');"
   ]
  },
  {
   "cell_type": "markdown",
   "id": "552e454a",
   "metadata": {},
   "source": [
    "# Erros"
   ]
  },
  {
   "cell_type": "code",
   "execution_count": 17,
   "id": "efbcac4f",
   "metadata": {},
   "outputs": [],
   "source": [
    "errors = (y_pred_classes - y_true != 0)\n",
    "y_pred_classes_errors = y_pred_classes[errors]\n",
    "y_pred_errors = y_pred[errors]\n",
    "y_true_errors = y_true[errors]\n",
    "x_test_errors = x_test[errors]"
   ]
  },
  {
   "cell_type": "code",
   "execution_count": 29,
   "id": "552c0ea6",
   "metadata": {},
   "outputs": [],
   "source": [
    "y_pred_errors_probability = np.max(y_pred_errors, axis=1)\n",
    "true_probability_errors = np.diagonal(np.take(y_pred_errors, y_true_errors, axis=1))\n",
    "diff_errors_pred_true = y_pred_errors_probability - true_probability_errors\n",
    "\n",
    "sorted_index_diff_errors = np.argsort(diff_errors_pred_true)\n",
    "top_index_diff_errors = sorted_index_diff_errors[-10:]"
   ]
  },
  {
   "cell_type": "code",
   "execution_count": 33,
   "id": "59ccef0a",
   "metadata": {},
   "outputs": [
    {
     "data": {
      "image/png": "[encoded data removed]",
      "text/plain": [
       "<Figure size 2160x2160 with 10 Axes>"
      ]
     },
     "metadata": {
      "needs_background": "light"
     },
     "output_type": "display_data"
    }
   ],
   "source": [
    "num = len(top_index_diff_errors)\n",
    "f, ax = plt.subplots(1, num, figsize = (30, 30))\n",
    "\n",
    "for i in range(0, num):\n",
    "    index = top_index_diff_errors[i]\n",
    "    sample = x_test_errors[index].reshape(28, 28)\n",
    "    y_t = y_true_errors[index]\n",
    "    y_p = y_pred_classes_errors[index]\n",
    "    ax[i].imshow(sample, cmap ='gray')\n",
    "    ax[i].set_title(\"Previsto label : {}\\nGabarito label: {}\".format(y_p, y_t), fontsize = 16)"
   ]
  },
  {
   "cell_type": "code",
   "execution_count": null,
   "id": "6a92c955",
   "metadata": {},
   "outputs": [],
   "source": []
  }
 ],
 "metadata": {
  "kernelspec": {
   "display_name": "Python 3 (ipykernel)",
   "language": "python",
   "name": "python3"
  },
  "language_info": {
   "codemirror_mode": {
    "name": "ipython",
    "version": 3
   },
   "file_extension": ".py",
   "mimetype": "text/x-python",
   "name": "python",
   "nbconvert_exporter": "python",
   "pygments_lexer": "ipython3",
   "version": "3.10.0"
  }
 },
 "nbformat": 4,
 "nbformat_minor": 5
}
